{
 "cells": [
  {
   "cell_type": "code",
   "execution_count": 102,
   "metadata": {},
   "outputs": [
    {
     "data": {
      "text/html": [
       "<div>\n",
       "<style scoped>\n",
       "    .dataframe tbody tr th:only-of-type {\n",
       "        vertical-align: middle;\n",
       "    }\n",
       "\n",
       "    .dataframe tbody tr th {\n",
       "        vertical-align: top;\n",
       "    }\n",
       "\n",
       "    .dataframe thead th {\n",
       "        text-align: right;\n",
       "    }\n",
       "</style>\n",
       "<table border=\"1\" class=\"dataframe\">\n",
       "  <thead>\n",
       "    <tr style=\"text-align: right;\">\n",
       "      <th></th>\n",
       "      <th>iso_code</th>\n",
       "      <th>continent</th>\n",
       "      <th>location</th>\n",
       "      <th>date</th>\n",
       "      <th>total_cases</th>\n",
       "      <th>new_cases</th>\n",
       "      <th>new_cases_smoothed</th>\n",
       "      <th>total_deaths</th>\n",
       "      <th>new_deaths</th>\n",
       "      <th>new_deaths_smoothed</th>\n",
       "      <th>...</th>\n",
       "      <th>female_smokers</th>\n",
       "      <th>male_smokers</th>\n",
       "      <th>handwashing_facilities</th>\n",
       "      <th>hospital_beds_per_thousand</th>\n",
       "      <th>life_expectancy</th>\n",
       "      <th>human_development_index</th>\n",
       "      <th>excess_mortality_cumulative_absolute</th>\n",
       "      <th>excess_mortality_cumulative</th>\n",
       "      <th>excess_mortality</th>\n",
       "      <th>excess_mortality_cumulative_per_million</th>\n",
       "    </tr>\n",
       "  </thead>\n",
       "  <tbody>\n",
       "    <tr>\n",
       "      <th>0</th>\n",
       "      <td>AFG</td>\n",
       "      <td>Asia</td>\n",
       "      <td>Afghanistan</td>\n",
       "      <td>2020-02-24</td>\n",
       "      <td>5.0</td>\n",
       "      <td>5.0</td>\n",
       "      <td>0.0</td>\n",
       "      <td>0.0</td>\n",
       "      <td>0.0</td>\n",
       "      <td>0.0</td>\n",
       "      <td>...</td>\n",
       "      <td>0.0</td>\n",
       "      <td>0.0</td>\n",
       "      <td>37.746</td>\n",
       "      <td>0.5</td>\n",
       "      <td>64.83</td>\n",
       "      <td>0.511</td>\n",
       "      <td>0.0</td>\n",
       "      <td>0.0</td>\n",
       "      <td>0.0</td>\n",
       "      <td>0.0</td>\n",
       "    </tr>\n",
       "    <tr>\n",
       "      <th>1</th>\n",
       "      <td>AFG</td>\n",
       "      <td>Asia</td>\n",
       "      <td>Afghanistan</td>\n",
       "      <td>2020-02-25</td>\n",
       "      <td>5.0</td>\n",
       "      <td>0.0</td>\n",
       "      <td>0.0</td>\n",
       "      <td>0.0</td>\n",
       "      <td>0.0</td>\n",
       "      <td>0.0</td>\n",
       "      <td>...</td>\n",
       "      <td>0.0</td>\n",
       "      <td>0.0</td>\n",
       "      <td>37.746</td>\n",
       "      <td>0.5</td>\n",
       "      <td>64.83</td>\n",
       "      <td>0.511</td>\n",
       "      <td>0.0</td>\n",
       "      <td>0.0</td>\n",
       "      <td>0.0</td>\n",
       "      <td>0.0</td>\n",
       "    </tr>\n",
       "    <tr>\n",
       "      <th>2</th>\n",
       "      <td>AFG</td>\n",
       "      <td>Asia</td>\n",
       "      <td>Afghanistan</td>\n",
       "      <td>2020-02-26</td>\n",
       "      <td>5.0</td>\n",
       "      <td>0.0</td>\n",
       "      <td>0.0</td>\n",
       "      <td>0.0</td>\n",
       "      <td>0.0</td>\n",
       "      <td>0.0</td>\n",
       "      <td>...</td>\n",
       "      <td>0.0</td>\n",
       "      <td>0.0</td>\n",
       "      <td>37.746</td>\n",
       "      <td>0.5</td>\n",
       "      <td>64.83</td>\n",
       "      <td>0.511</td>\n",
       "      <td>0.0</td>\n",
       "      <td>0.0</td>\n",
       "      <td>0.0</td>\n",
       "      <td>0.0</td>\n",
       "    </tr>\n",
       "    <tr>\n",
       "      <th>3</th>\n",
       "      <td>AFG</td>\n",
       "      <td>Asia</td>\n",
       "      <td>Afghanistan</td>\n",
       "      <td>2020-02-27</td>\n",
       "      <td>5.0</td>\n",
       "      <td>0.0</td>\n",
       "      <td>0.0</td>\n",
       "      <td>0.0</td>\n",
       "      <td>0.0</td>\n",
       "      <td>0.0</td>\n",
       "      <td>...</td>\n",
       "      <td>0.0</td>\n",
       "      <td>0.0</td>\n",
       "      <td>37.746</td>\n",
       "      <td>0.5</td>\n",
       "      <td>64.83</td>\n",
       "      <td>0.511</td>\n",
       "      <td>0.0</td>\n",
       "      <td>0.0</td>\n",
       "      <td>0.0</td>\n",
       "      <td>0.0</td>\n",
       "    </tr>\n",
       "    <tr>\n",
       "      <th>4</th>\n",
       "      <td>AFG</td>\n",
       "      <td>Asia</td>\n",
       "      <td>Afghanistan</td>\n",
       "      <td>2020-02-28</td>\n",
       "      <td>5.0</td>\n",
       "      <td>0.0</td>\n",
       "      <td>0.0</td>\n",
       "      <td>0.0</td>\n",
       "      <td>0.0</td>\n",
       "      <td>0.0</td>\n",
       "      <td>...</td>\n",
       "      <td>0.0</td>\n",
       "      <td>0.0</td>\n",
       "      <td>37.746</td>\n",
       "      <td>0.5</td>\n",
       "      <td>64.83</td>\n",
       "      <td>0.511</td>\n",
       "      <td>0.0</td>\n",
       "      <td>0.0</td>\n",
       "      <td>0.0</td>\n",
       "      <td>0.0</td>\n",
       "    </tr>\n",
       "  </tbody>\n",
       "</table>\n",
       "<p>5 rows × 67 columns</p>\n",
       "</div>"
      ],
      "text/plain": [
       "  iso_code continent     location        date  total_cases  new_cases  \\\n",
       "0      AFG      Asia  Afghanistan  2020-02-24          5.0        5.0   \n",
       "1      AFG      Asia  Afghanistan  2020-02-25          5.0        0.0   \n",
       "2      AFG      Asia  Afghanistan  2020-02-26          5.0        0.0   \n",
       "3      AFG      Asia  Afghanistan  2020-02-27          5.0        0.0   \n",
       "4      AFG      Asia  Afghanistan  2020-02-28          5.0        0.0   \n",
       "\n",
       "   new_cases_smoothed  total_deaths  new_deaths  new_deaths_smoothed  ...  \\\n",
       "0                 0.0           0.0         0.0                  0.0  ...   \n",
       "1                 0.0           0.0         0.0                  0.0  ...   \n",
       "2                 0.0           0.0         0.0                  0.0  ...   \n",
       "3                 0.0           0.0         0.0                  0.0  ...   \n",
       "4                 0.0           0.0         0.0                  0.0  ...   \n",
       "\n",
       "   female_smokers  male_smokers  handwashing_facilities  \\\n",
       "0             0.0           0.0                  37.746   \n",
       "1             0.0           0.0                  37.746   \n",
       "2             0.0           0.0                  37.746   \n",
       "3             0.0           0.0                  37.746   \n",
       "4             0.0           0.0                  37.746   \n",
       "\n",
       "   hospital_beds_per_thousand  life_expectancy  human_development_index  \\\n",
       "0                         0.5            64.83                    0.511   \n",
       "1                         0.5            64.83                    0.511   \n",
       "2                         0.5            64.83                    0.511   \n",
       "3                         0.5            64.83                    0.511   \n",
       "4                         0.5            64.83                    0.511   \n",
       "\n",
       "   excess_mortality_cumulative_absolute  excess_mortality_cumulative  \\\n",
       "0                                   0.0                          0.0   \n",
       "1                                   0.0                          0.0   \n",
       "2                                   0.0                          0.0   \n",
       "3                                   0.0                          0.0   \n",
       "4                                   0.0                          0.0   \n",
       "\n",
       "   excess_mortality  excess_mortality_cumulative_per_million  \n",
       "0               0.0                                      0.0  \n",
       "1               0.0                                      0.0  \n",
       "2               0.0                                      0.0  \n",
       "3               0.0                                      0.0  \n",
       "4               0.0                                      0.0  \n",
       "\n",
       "[5 rows x 67 columns]"
      ]
     },
     "execution_count": 102,
     "metadata": {},
     "output_type": "execute_result"
    }
   ],
   "source": [
    "from sklearn.model_selection import train_test_split\n",
    "from sklearn.linear_model import LogisticRegression\n",
    "from sklearn.ensemble import GradientBoostingRegressor\n",
    "from sklearn.metrics import mean_squared_error\n",
    "from sklearn.metrics import accuracy_score\n",
    "from xgboost import XGBRegressor\n",
    "import warnings\n",
    "import time\n",
    "import statsmodels.api as sm\n",
    "import pandas as pd\n",
    "import numpy as np\n",
    "import seaborn as sns\n",
    "import matplotlib.pyplot as plt\n",
    "\n",
    "warnings.filterwarnings('ignore')\n",
    "\n",
    "COVID = pd.read_excel('./owid-covid-data.xlsx')\n",
    "COVID = COVID.fillna(0)\n",
    "COVID.head()"
   ]
  },
  {
   "cell_type": "markdown",
   "metadata": {},
   "source": [
    "## 한국 기준"
   ]
  },
  {
   "cell_type": "code",
   "execution_count": 103,
   "metadata": {},
   "outputs": [],
   "source": [
    "COVID_KOR = COVID[COVID['location'] == 'South Korea']"
   ]
  },
  {
   "cell_type": "code",
   "execution_count": 104,
   "metadata": {},
   "outputs": [],
   "source": [
    "X = COVID_KOR[['total_cases',\n",
    " 'excess_mortality_cumulative_absolute',\n",
    " 'icu_patients',\n",
    " 'total_vaccinations',\n",
    " 'stringency_index',\n",
    " 'new_cases',\n",
    " 'weekly_hosp_admissions',\n",
    " 'weekly_icu_admissions',\n",
    " 'positive_rate',\n",
    " 'reproduction_rate',\n",
    "'new_tests',\n",
    "'total_tests']]\n",
    "y = COVID_KOR['new_deaths']"
   ]
  },
  {
   "cell_type": "code",
   "execution_count": 105,
   "metadata": {},
   "outputs": [
    {
     "data": {
      "text/plain": [
       "GradientBoostingRegressor(random_state=13)"
      ]
     },
     "execution_count": 105,
     "metadata": {},
     "output_type": "execute_result"
    }
   ],
   "source": [
    "kor_gb_reg = GradientBoostingRegressor(random_state=13)\n",
    "kor_gb_reg.fit(X, y)"
   ]
  },
  {
   "cell_type": "markdown",
   "metadata": {},
   "source": [
    "## GBM의 score 확인"
   ]
  },
  {
   "cell_type": "code",
   "execution_count": 106,
   "metadata": {},
   "outputs": [
    {
     "name": "stdout",
     "output_type": "stream",
     "text": [
      "0.9945211611775414\n",
      "0.8649495555583884\n"
     ]
    }
   ],
   "source": [
    "model = GradientBoostingRegressor()\n",
    "X_train, X_test, y_train, y_test = train_test_split(X, y, test_size=0.2, random_state=13)\n",
    "model.fit(X_train, y_train)\n",
    "print(model.score(X_train, y_train))\n",
    "print(model.score(X_test, y_test))"
   ]
  },
  {
   "cell_type": "markdown",
   "metadata": {},
   "source": [
    "## RMSE값 확인"
   ]
  },
  {
   "cell_type": "code",
   "execution_count": 108,
   "metadata": {},
   "outputs": [
    {
     "name": "stdout",
     "output_type": "stream",
     "text": [
      "[16:10:50] WARNING: C:/Users/Administrator/workspace/xgboost-win64_release_1.6.0/src/objective/regression_obj.cu:203: reg:linear is now deprecated in favor of reg:squarederror.\n",
      "GBM_rmse :  5.697631715011469\n",
      "LM_rmse :  19.28894102389732\n",
      "XGB_rmse :  31.50831104975677\n"
     ]
    }
   ],
   "source": [
    "kor_pred_GBM = kor_gb_reg.predict(X).round(0)\n",
    "GBM_rmse = np.sqrt(mean_squared_error(y, kor_pred_GBM)) \n",
    "\n",
    "lm = sm.OLS(y, X).fit()\n",
    "kor_pred_lm = lm.predict(X).round(0)\n",
    "LM_rmse = np.sqrt(mean_squared_error(y, kor_pred_lm)) \n",
    "\n",
    "xg_reg = XGBRegressor(objective ='reg:linear', \n",
    "                          colsample_bytree = 0.3, \n",
    "                          learning_rate = 0.1, \n",
    "                          max_depth = 5, \n",
    "                          alpha = 10, \n",
    "                          n_estimators = 10)\n",
    "\n",
    "xg_reg.fit(X,y) \n",
    "eur_pred_XGB = xg_reg.predict(X)\n",
    "XGB_rmse = np.sqrt(mean_squared_error(y, eur_pred_XGB))\n",
    "\n",
    "print('GBM_rmse : ', GBM_rmse)\n",
    "print('LM_rmse : ', LM_rmse)\n",
    "print('XGB_rmse : ', XGB_rmse)"
   ]
  },
  {
   "cell_type": "markdown",
   "metadata": {},
   "source": [
    "## rmse 값이 가장 낮은 GBM을 모델로 선정했다."
   ]
  },
  {
   "cell_type": "code",
   "execution_count": 97,
   "metadata": {},
   "outputs": [],
   "source": [
    "COVID_KOR = COVID_KOR[['date', 'location', 'new_deaths']]\n",
    "COVID_KOR['predict_death'] = kor_pred_GBM"
   ]
  },
  {
   "cell_type": "markdown",
   "metadata": {},
   "source": [
    "## 미국 기준"
   ]
  },
  {
   "cell_type": "code",
   "execution_count": 110,
   "metadata": {},
   "outputs": [],
   "source": [
    "COVID_USA = COVID[COVID['iso_code'] == 'USA']"
   ]
  },
  {
   "cell_type": "code",
   "execution_count": 112,
   "metadata": {},
   "outputs": [],
   "source": [
    "X = COVID_USA[['total_cases',\n",
    " 'excess_mortality_cumulative_absolute',\n",
    " 'icu_patients',\n",
    " 'total_vaccinations',\n",
    " 'stringency_index',\n",
    " 'new_cases',\n",
    " 'weekly_hosp_admissions',\n",
    " 'weekly_icu_admissions',\n",
    " 'positive_rate',\n",
    " 'reproduction_rate',\n",
    "'new_tests',\n",
    "'total_tests']]\n",
    "y = COVID_USA['new_deaths']"
   ]
  },
  {
   "cell_type": "code",
   "execution_count": 113,
   "metadata": {},
   "outputs": [],
   "source": [
    "usa_gb_reg = GradientBoostingRegressor(random_state=13)\n",
    "usa_gb_reg.fit(X, y)\n",
    "\n",
    "usa_pred_GBM = usa_gb_reg.predict(X).round(0)\n",
    "\n",
    "COVID_USA = COVID_USA[['date', 'location', 'new_deaths']]\n",
    "COVID_USA['predict_death'] = usa_pred_GBM\n",
    "\n",
    "COVID_USA[COVID_USA['predict_death']<=0] = 0"
   ]
  },
  {
   "cell_type": "markdown",
   "metadata": {},
   "source": [
    "## 일본 기준"
   ]
  },
  {
   "cell_type": "code",
   "execution_count": 125,
   "metadata": {},
   "outputs": [],
   "source": [
    "COVID_JPN = COVID[COVID['iso_code'] == 'JPN']"
   ]
  },
  {
   "cell_type": "code",
   "execution_count": 126,
   "metadata": {},
   "outputs": [],
   "source": [
    "X = COVID_JPN[['total_cases',\n",
    " 'excess_mortality_cumulative_absolute',\n",
    " 'icu_patients',\n",
    " 'total_vaccinations',\n",
    " 'stringency_index',\n",
    " 'new_cases',\n",
    " 'weekly_hosp_admissions',\n",
    " 'weekly_icu_admissions',\n",
    " 'positive_rate',\n",
    " 'reproduction_rate',\n",
    "'new_tests',\n",
    "'total_tests']]\n",
    "y = COVID_JPN['new_deaths']"
   ]
  },
  {
   "cell_type": "code",
   "execution_count": 127,
   "metadata": {},
   "outputs": [],
   "source": [
    "jpn_gb_reg = GradientBoostingRegressor(random_state=13)\n",
    "jpn_gb_reg.fit(X, y)\n",
    "\n",
    "jpn_pred_GBM = jpn_gb_reg.predict(X).round(0)\n",
    "\n",
    "COVID_JPN = COVID_JPN[['date', 'location', 'new_deaths']]\n",
    "COVID_JPN['predict_death'] = jpn_pred_GBM\n",
    "\n",
    "COVID_JPN[COVID_JPN['predict_death']<=0] = 0"
   ]
  },
  {
   "cell_type": "markdown",
   "metadata": {},
   "source": [
    "## 유럽 기준"
   ]
  },
  {
   "cell_type": "code",
   "execution_count": 128,
   "metadata": {},
   "outputs": [],
   "source": [
    "COVID_EUR = COVID[COVID['location'] == 'Europe']"
   ]
  },
  {
   "cell_type": "code",
   "execution_count": 129,
   "metadata": {},
   "outputs": [],
   "source": [
    "X = COVID_EUR[['total_cases',\n",
    " 'excess_mortality_cumulative_absolute',\n",
    " 'icu_patients',\n",
    " 'total_vaccinations',\n",
    " 'stringency_index',\n",
    " 'new_cases',\n",
    " 'weekly_hosp_admissions',\n",
    " 'weekly_icu_admissions',\n",
    " 'positive_rate',\n",
    " 'reproduction_rate',\n",
    "'new_tests',\n",
    "'total_tests']]\n",
    "y = COVID_EUR['new_deaths']"
   ]
  },
  {
   "cell_type": "code",
   "execution_count": 130,
   "metadata": {},
   "outputs": [],
   "source": [
    "eur_gb_reg = GradientBoostingRegressor(random_state=13)\n",
    "eur_gb_reg.fit(X, y)\n",
    "\n",
    "eur_pred_GBM = eur_gb_reg.predict(X).round(0)\n",
    "\n",
    "COVID_EUR = COVID_EUR[['date', 'location', 'new_deaths']]\n",
    "COVID_EUR['predict_death'] = eur_pred_GBM\n",
    "\n",
    "COVID_EUR[COVID_EUR['predict_death']<=0] = 0"
   ]
  },
  {
   "cell_type": "markdown",
   "metadata": {},
   "source": [
    "## 아시아 기준"
   ]
  },
  {
   "cell_type": "code",
   "execution_count": 132,
   "metadata": {},
   "outputs": [],
   "source": [
    "COVID_ASIA = COVID[COVID['location'] == 'Asia']"
   ]
  },
  {
   "cell_type": "code",
   "execution_count": 133,
   "metadata": {},
   "outputs": [],
   "source": [
    "X = COVID_ASIA[['total_cases',\n",
    " 'excess_mortality_cumulative_absolute',\n",
    " 'icu_patients',\n",
    " 'total_vaccinations',\n",
    " 'stringency_index',\n",
    " 'new_cases',\n",
    " 'weekly_hosp_admissions',\n",
    " 'weekly_icu_admissions',\n",
    " 'positive_rate',\n",
    " 'reproduction_rate',\n",
    "'new_tests',\n",
    "'total_tests']]\n",
    "y = COVID_ASIA['new_deaths']"
   ]
  },
  {
   "cell_type": "code",
   "execution_count": 134,
   "metadata": {},
   "outputs": [],
   "source": [
    "asia_gb_reg = GradientBoostingRegressor(random_state=13)\n",
    "asia_gb_reg.fit(X, y)\n",
    "\n",
    "asia_pred_GBM = asia_gb_reg.predict(X).round(0)\n",
    "\n",
    "COVID_ASIA = COVID_ASIA[['date', 'location', 'new_deaths']]\n",
    "COVID_ASIA['predict_death'] = asia_pred_GBM\n",
    "\n",
    "COVID_ASIA[COVID_ASIA['predict_death']<=0] = 0"
   ]
  },
  {
   "cell_type": "markdown",
   "metadata": {},
   "source": [
    "## (수입) 3분위 중 1분위 기준"
   ]
  },
  {
   "cell_type": "code",
   "execution_count": 136,
   "metadata": {},
   "outputs": [],
   "source": [
    "COVID_HIC = COVID[COVID['iso_code'] == 'OWID_HIC']"
   ]
  },
  {
   "cell_type": "code",
   "execution_count": 137,
   "metadata": {},
   "outputs": [],
   "source": [
    "X = COVID_HIC[['total_cases',\n",
    " 'excess_mortality_cumulative_absolute',\n",
    " 'icu_patients',\n",
    " 'total_vaccinations',\n",
    " 'stringency_index',\n",
    " 'new_cases',\n",
    " 'weekly_hosp_admissions',\n",
    " 'weekly_icu_admissions',\n",
    " 'positive_rate',\n",
    " 'reproduction_rate',\n",
    "'new_tests',\n",
    "'total_tests']]\n",
    "y = COVID_HIC['new_deaths']"
   ]
  },
  {
   "cell_type": "code",
   "execution_count": 138,
   "metadata": {},
   "outputs": [],
   "source": [
    "hic_gb_reg = GradientBoostingRegressor(random_state=13)\n",
    "hic_gb_reg.fit(X, y)\n",
    "\n",
    "hic_pred_GBM = hic_gb_reg.predict(X).round(0)\n",
    "\n",
    "COVID_HIC = COVID_HIC[['date', 'location', 'new_deaths']]\n",
    "COVID_HIC['predict_death'] = hic_pred_GBM\n",
    "\n",
    "COVID_HIC[COVID_HIC['predict_death']<=0] = 0"
   ]
  },
  {
   "cell_type": "markdown",
   "metadata": {},
   "source": [
    "## (수입) 3분위 중 2분위 기준"
   ]
  },
  {
   "cell_type": "code",
   "execution_count": 142,
   "metadata": {},
   "outputs": [],
   "source": [
    "COVID_UMC = COVID[COVID['iso_code'] == 'OWID_UMC']"
   ]
  },
  {
   "cell_type": "code",
   "execution_count": 143,
   "metadata": {},
   "outputs": [],
   "source": [
    "X = COVID_UMC[['total_cases',\n",
    " 'excess_mortality_cumulative_absolute',\n",
    " 'icu_patients',\n",
    " 'total_vaccinations',\n",
    " 'stringency_index',\n",
    " 'new_cases',\n",
    " 'weekly_hosp_admissions',\n",
    " 'weekly_icu_admissions',\n",
    " 'positive_rate',\n",
    " 'reproduction_rate',\n",
    "'new_tests',\n",
    "'total_tests']]\n",
    "y = COVID_UMC['new_deaths']"
   ]
  },
  {
   "cell_type": "code",
   "execution_count": 144,
   "metadata": {},
   "outputs": [],
   "source": [
    "umc_gb_reg = GradientBoostingRegressor(random_state=13)\n",
    "umc_gb_reg.fit(X, y)\n",
    "\n",
    "umc_pred_GBM = umc_gb_reg.predict(X).round(0)\n",
    "\n",
    "COVID_UMC = COVID_UMC[['date', 'location', 'new_deaths']]\n",
    "COVID_UMC['predict_death'] = umc_pred_GBM\n",
    "\n",
    "COVID_UMC[COVID_UMC['predict_death']<=0] = 0"
   ]
  },
  {
   "cell_type": "markdown",
   "metadata": {},
   "source": [
    "## (수입) 3분위 중 3분위 기준"
   ]
  },
  {
   "cell_type": "code",
   "execution_count": 145,
   "metadata": {},
   "outputs": [],
   "source": [
    "COVID_LMC = COVID[COVID['iso_code'] == 'OWID_LMC']"
   ]
  },
  {
   "cell_type": "code",
   "execution_count": 146,
   "metadata": {},
   "outputs": [],
   "source": [
    "X = COVID_LMC[['total_cases',\n",
    " 'excess_mortality_cumulative_absolute',\n",
    " 'icu_patients',\n",
    " 'total_vaccinations',\n",
    " 'stringency_index',\n",
    " 'new_cases',\n",
    " 'weekly_hosp_admissions',\n",
    " 'weekly_icu_admissions',\n",
    " 'positive_rate',\n",
    " 'reproduction_rate',\n",
    "'new_tests',\n",
    "'total_tests']]\n",
    "y = COVID_LMC['new_deaths']"
   ]
  },
  {
   "cell_type": "code",
   "execution_count": 147,
   "metadata": {},
   "outputs": [],
   "source": [
    "lmc_gb_reg = GradientBoostingRegressor(random_state=13)\n",
    "lmc_gb_reg.fit(X, y)\n",
    "\n",
    "lmc_pred_GBM = lmc_gb_reg.predict(X).round(0)\n",
    "\n",
    "COVID_LMC = COVID_LMC[['date', 'location', 'new_deaths']]\n",
    "COVID_LMC['predict_death'] = lmc_pred_GBM\n",
    "\n",
    "COVID_LMC[COVID_LMC['predict_death']<=0] = 0"
   ]
  }
 ],
 "metadata": {
  "interpreter": {
   "hash": "356d4598ac823ceb2e0af6744c9c9cdf7145071e44130d966b746dca086be4d4"
  },
  "kernelspec": {
   "display_name": "Python 3.8.12 ('ds_study')",
   "language": "python",
   "name": "python3"
  },
  "language_info": {
   "codemirror_mode": {
    "name": "ipython",
    "version": 3
   },
   "file_extension": ".py",
   "mimetype": "text/x-python",
   "name": "python",
   "nbconvert_exporter": "python",
   "pygments_lexer": "ipython3",
   "version": "3.8.12"
  },
  "orig_nbformat": 4
 },
 "nbformat": 4,
 "nbformat_minor": 2
}
