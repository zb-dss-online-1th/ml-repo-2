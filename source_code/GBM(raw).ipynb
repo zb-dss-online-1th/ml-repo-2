{
 "cells": [
  {
   "cell_type": "code",
   "execution_count": 1,
   "metadata": {},
   "outputs": [
    {
     "data": {
      "text/html": [
       "<div>\n",
       "<style scoped>\n",
       "    .dataframe tbody tr th:only-of-type {\n",
       "        vertical-align: middle;\n",
       "    }\n",
       "\n",
       "    .dataframe tbody tr th {\n",
       "        vertical-align: top;\n",
       "    }\n",
       "\n",
       "    .dataframe thead th {\n",
       "        text-align: right;\n",
       "    }\n",
       "</style>\n",
       "<table border=\"1\" class=\"dataframe\">\n",
       "  <thead>\n",
       "    <tr style=\"text-align: right;\">\n",
       "      <th></th>\n",
       "      <th>iso_code</th>\n",
       "      <th>continent</th>\n",
       "      <th>location</th>\n",
       "      <th>date</th>\n",
       "      <th>total_cases</th>\n",
       "      <th>new_cases</th>\n",
       "      <th>new_cases_smoothed</th>\n",
       "      <th>total_deaths</th>\n",
       "      <th>new_deaths</th>\n",
       "      <th>new_deaths_smoothed</th>\n",
       "      <th>...</th>\n",
       "      <th>female_smokers</th>\n",
       "      <th>male_smokers</th>\n",
       "      <th>handwashing_facilities</th>\n",
       "      <th>hospital_beds_per_thousand</th>\n",
       "      <th>life_expectancy</th>\n",
       "      <th>human_development_index</th>\n",
       "      <th>excess_mortality_cumulative_absolute</th>\n",
       "      <th>excess_mortality_cumulative</th>\n",
       "      <th>excess_mortality</th>\n",
       "      <th>excess_mortality_cumulative_per_million</th>\n",
       "    </tr>\n",
       "  </thead>\n",
       "  <tbody>\n",
       "    <tr>\n",
       "      <th>0</th>\n",
       "      <td>AFG</td>\n",
       "      <td>Asia</td>\n",
       "      <td>Afghanistan</td>\n",
       "      <td>2020-02-24</td>\n",
       "      <td>5.0</td>\n",
       "      <td>5.0</td>\n",
       "      <td>0.0</td>\n",
       "      <td>0.0</td>\n",
       "      <td>0.0</td>\n",
       "      <td>0.0</td>\n",
       "      <td>...</td>\n",
       "      <td>0.0</td>\n",
       "      <td>0.0</td>\n",
       "      <td>37.746</td>\n",
       "      <td>0.5</td>\n",
       "      <td>64.83</td>\n",
       "      <td>0.511</td>\n",
       "      <td>0.0</td>\n",
       "      <td>0.0</td>\n",
       "      <td>0.0</td>\n",
       "      <td>0.0</td>\n",
       "    </tr>\n",
       "    <tr>\n",
       "      <th>1</th>\n",
       "      <td>AFG</td>\n",
       "      <td>Asia</td>\n",
       "      <td>Afghanistan</td>\n",
       "      <td>2020-02-25</td>\n",
       "      <td>5.0</td>\n",
       "      <td>0.0</td>\n",
       "      <td>0.0</td>\n",
       "      <td>0.0</td>\n",
       "      <td>0.0</td>\n",
       "      <td>0.0</td>\n",
       "      <td>...</td>\n",
       "      <td>0.0</td>\n",
       "      <td>0.0</td>\n",
       "      <td>37.746</td>\n",
       "      <td>0.5</td>\n",
       "      <td>64.83</td>\n",
       "      <td>0.511</td>\n",
       "      <td>0.0</td>\n",
       "      <td>0.0</td>\n",
       "      <td>0.0</td>\n",
       "      <td>0.0</td>\n",
       "    </tr>\n",
       "    <tr>\n",
       "      <th>2</th>\n",
       "      <td>AFG</td>\n",
       "      <td>Asia</td>\n",
       "      <td>Afghanistan</td>\n",
       "      <td>2020-02-26</td>\n",
       "      <td>5.0</td>\n",
       "      <td>0.0</td>\n",
       "      <td>0.0</td>\n",
       "      <td>0.0</td>\n",
       "      <td>0.0</td>\n",
       "      <td>0.0</td>\n",
       "      <td>...</td>\n",
       "      <td>0.0</td>\n",
       "      <td>0.0</td>\n",
       "      <td>37.746</td>\n",
       "      <td>0.5</td>\n",
       "      <td>64.83</td>\n",
       "      <td>0.511</td>\n",
       "      <td>0.0</td>\n",
       "      <td>0.0</td>\n",
       "      <td>0.0</td>\n",
       "      <td>0.0</td>\n",
       "    </tr>\n",
       "    <tr>\n",
       "      <th>3</th>\n",
       "      <td>AFG</td>\n",
       "      <td>Asia</td>\n",
       "      <td>Afghanistan</td>\n",
       "      <td>2020-02-27</td>\n",
       "      <td>5.0</td>\n",
       "      <td>0.0</td>\n",
       "      <td>0.0</td>\n",
       "      <td>0.0</td>\n",
       "      <td>0.0</td>\n",
       "      <td>0.0</td>\n",
       "      <td>...</td>\n",
       "      <td>0.0</td>\n",
       "      <td>0.0</td>\n",
       "      <td>37.746</td>\n",
       "      <td>0.5</td>\n",
       "      <td>64.83</td>\n",
       "      <td>0.511</td>\n",
       "      <td>0.0</td>\n",
       "      <td>0.0</td>\n",
       "      <td>0.0</td>\n",
       "      <td>0.0</td>\n",
       "    </tr>\n",
       "    <tr>\n",
       "      <th>4</th>\n",
       "      <td>AFG</td>\n",
       "      <td>Asia</td>\n",
       "      <td>Afghanistan</td>\n",
       "      <td>2020-02-28</td>\n",
       "      <td>5.0</td>\n",
       "      <td>0.0</td>\n",
       "      <td>0.0</td>\n",
       "      <td>0.0</td>\n",
       "      <td>0.0</td>\n",
       "      <td>0.0</td>\n",
       "      <td>...</td>\n",
       "      <td>0.0</td>\n",
       "      <td>0.0</td>\n",
       "      <td>37.746</td>\n",
       "      <td>0.5</td>\n",
       "      <td>64.83</td>\n",
       "      <td>0.511</td>\n",
       "      <td>0.0</td>\n",
       "      <td>0.0</td>\n",
       "      <td>0.0</td>\n",
       "      <td>0.0</td>\n",
       "    </tr>\n",
       "  </tbody>\n",
       "</table>\n",
       "<p>5 rows × 67 columns</p>\n",
       "</div>"
      ],
      "text/plain": [
       "  iso_code continent     location        date  total_cases  new_cases  \\\n",
       "0      AFG      Asia  Afghanistan  2020-02-24          5.0        5.0   \n",
       "1      AFG      Asia  Afghanistan  2020-02-25          5.0        0.0   \n",
       "2      AFG      Asia  Afghanistan  2020-02-26          5.0        0.0   \n",
       "3      AFG      Asia  Afghanistan  2020-02-27          5.0        0.0   \n",
       "4      AFG      Asia  Afghanistan  2020-02-28          5.0        0.0   \n",
       "\n",
       "   new_cases_smoothed  total_deaths  new_deaths  new_deaths_smoothed  ...  \\\n",
       "0                 0.0           0.0         0.0                  0.0  ...   \n",
       "1                 0.0           0.0         0.0                  0.0  ...   \n",
       "2                 0.0           0.0         0.0                  0.0  ...   \n",
       "3                 0.0           0.0         0.0                  0.0  ...   \n",
       "4                 0.0           0.0         0.0                  0.0  ...   \n",
       "\n",
       "   female_smokers  male_smokers  handwashing_facilities  \\\n",
       "0             0.0           0.0                  37.746   \n",
       "1             0.0           0.0                  37.746   \n",
       "2             0.0           0.0                  37.746   \n",
       "3             0.0           0.0                  37.746   \n",
       "4             0.0           0.0                  37.746   \n",
       "\n",
       "   hospital_beds_per_thousand  life_expectancy  human_development_index  \\\n",
       "0                         0.5            64.83                    0.511   \n",
       "1                         0.5            64.83                    0.511   \n",
       "2                         0.5            64.83                    0.511   \n",
       "3                         0.5            64.83                    0.511   \n",
       "4                         0.5            64.83                    0.511   \n",
       "\n",
       "   excess_mortality_cumulative_absolute  excess_mortality_cumulative  \\\n",
       "0                                   0.0                          0.0   \n",
       "1                                   0.0                          0.0   \n",
       "2                                   0.0                          0.0   \n",
       "3                                   0.0                          0.0   \n",
       "4                                   0.0                          0.0   \n",
       "\n",
       "   excess_mortality  excess_mortality_cumulative_per_million  \n",
       "0               0.0                                      0.0  \n",
       "1               0.0                                      0.0  \n",
       "2               0.0                                      0.0  \n",
       "3               0.0                                      0.0  \n",
       "4               0.0                                      0.0  \n",
       "\n",
       "[5 rows x 67 columns]"
      ]
     },
     "execution_count": 1,
     "metadata": {},
     "output_type": "execute_result"
    }
   ],
   "source": [
    "from sklearn.model_selection import train_test_split\n",
    "from sklearn.linear_model import LogisticRegression\n",
    "import statsmodels.api as sm\n",
    "import pandas as pd\n",
    "import numpy as np\n",
    "import seaborn as sns\n",
    "import matplotlib.pyplot as plt\n",
    "\n",
    "COVID = pd.read_excel('./owid-covid-data.xlsx')\n",
    "COVID = COVID.fillna(0)\n",
    "COVID.head()"
   ]
  },
  {
   "cell_type": "markdown",
   "metadata": {},
   "source": [
    "## 유럽 대륙"
   ]
  },
  {
   "cell_type": "code",
   "execution_count": 9,
   "metadata": {},
   "outputs": [],
   "source": [
    "from sklearn.ensemble import GradientBoostingClassifier\n",
    "from sklearn.metrics import accuracy_score\n",
    "import warnings\n",
    "import time\n",
    "from sklearn.ensemble import GradientBoostingRegressor\n",
    "\n",
    "warnings.filterwarnings('ignore')"
   ]
  },
  {
   "cell_type": "code",
   "execution_count": 6,
   "metadata": {},
   "outputs": [
    {
     "data": {
      "text/html": [
       "<div>\n",
       "<style scoped>\n",
       "    .dataframe tbody tr th:only-of-type {\n",
       "        vertical-align: middle;\n",
       "    }\n",
       "\n",
       "    .dataframe tbody tr th {\n",
       "        vertical-align: top;\n",
       "    }\n",
       "\n",
       "    .dataframe thead th {\n",
       "        text-align: right;\n",
       "    }\n",
       "</style>\n",
       "<table border=\"1\" class=\"dataframe\">\n",
       "  <thead>\n",
       "    <tr style=\"text-align: right;\">\n",
       "      <th></th>\n",
       "      <th>iso_code</th>\n",
       "      <th>continent</th>\n",
       "      <th>location</th>\n",
       "      <th>date</th>\n",
       "      <th>total_cases</th>\n",
       "      <th>new_cases</th>\n",
       "      <th>new_cases_smoothed</th>\n",
       "      <th>total_deaths</th>\n",
       "      <th>new_deaths</th>\n",
       "      <th>new_deaths_smoothed</th>\n",
       "      <th>...</th>\n",
       "      <th>female_smokers</th>\n",
       "      <th>male_smokers</th>\n",
       "      <th>handwashing_facilities</th>\n",
       "      <th>hospital_beds_per_thousand</th>\n",
       "      <th>life_expectancy</th>\n",
       "      <th>human_development_index</th>\n",
       "      <th>excess_mortality_cumulative_absolute</th>\n",
       "      <th>excess_mortality_cumulative</th>\n",
       "      <th>excess_mortality</th>\n",
       "      <th>excess_mortality_cumulative_per_million</th>\n",
       "    </tr>\n",
       "  </thead>\n",
       "  <tbody>\n",
       "    <tr>\n",
       "      <th>53674</th>\n",
       "      <td>OWID_EUR</td>\n",
       "      <td>0</td>\n",
       "      <td>Europe</td>\n",
       "      <td>2020-01-23</td>\n",
       "      <td>0.0</td>\n",
       "      <td>0.0</td>\n",
       "      <td>0.000</td>\n",
       "      <td>0.0</td>\n",
       "      <td>0.0</td>\n",
       "      <td>0.000</td>\n",
       "      <td>...</td>\n",
       "      <td>0.0</td>\n",
       "      <td>0.0</td>\n",
       "      <td>0.0</td>\n",
       "      <td>0.0</td>\n",
       "      <td>0.0</td>\n",
       "      <td>0.0</td>\n",
       "      <td>0.0</td>\n",
       "      <td>0.0</td>\n",
       "      <td>0.0</td>\n",
       "      <td>0.0</td>\n",
       "    </tr>\n",
       "    <tr>\n",
       "      <th>53675</th>\n",
       "      <td>OWID_EUR</td>\n",
       "      <td>0</td>\n",
       "      <td>Europe</td>\n",
       "      <td>2020-01-24</td>\n",
       "      <td>2.0</td>\n",
       "      <td>2.0</td>\n",
       "      <td>0.000</td>\n",
       "      <td>0.0</td>\n",
       "      <td>0.0</td>\n",
       "      <td>0.000</td>\n",
       "      <td>...</td>\n",
       "      <td>0.0</td>\n",
       "      <td>0.0</td>\n",
       "      <td>0.0</td>\n",
       "      <td>0.0</td>\n",
       "      <td>0.0</td>\n",
       "      <td>0.0</td>\n",
       "      <td>0.0</td>\n",
       "      <td>0.0</td>\n",
       "      <td>0.0</td>\n",
       "      <td>0.0</td>\n",
       "    </tr>\n",
       "    <tr>\n",
       "      <th>53676</th>\n",
       "      <td>OWID_EUR</td>\n",
       "      <td>0</td>\n",
       "      <td>Europe</td>\n",
       "      <td>2020-01-25</td>\n",
       "      <td>3.0</td>\n",
       "      <td>1.0</td>\n",
       "      <td>0.000</td>\n",
       "      <td>0.0</td>\n",
       "      <td>0.0</td>\n",
       "      <td>0.000</td>\n",
       "      <td>...</td>\n",
       "      <td>0.0</td>\n",
       "      <td>0.0</td>\n",
       "      <td>0.0</td>\n",
       "      <td>0.0</td>\n",
       "      <td>0.0</td>\n",
       "      <td>0.0</td>\n",
       "      <td>0.0</td>\n",
       "      <td>0.0</td>\n",
       "      <td>0.0</td>\n",
       "      <td>0.0</td>\n",
       "    </tr>\n",
       "    <tr>\n",
       "      <th>53677</th>\n",
       "      <td>OWID_EUR</td>\n",
       "      <td>0</td>\n",
       "      <td>Europe</td>\n",
       "      <td>2020-01-26</td>\n",
       "      <td>3.0</td>\n",
       "      <td>0.0</td>\n",
       "      <td>0.000</td>\n",
       "      <td>0.0</td>\n",
       "      <td>0.0</td>\n",
       "      <td>0.000</td>\n",
       "      <td>...</td>\n",
       "      <td>0.0</td>\n",
       "      <td>0.0</td>\n",
       "      <td>0.0</td>\n",
       "      <td>0.0</td>\n",
       "      <td>0.0</td>\n",
       "      <td>0.0</td>\n",
       "      <td>0.0</td>\n",
       "      <td>0.0</td>\n",
       "      <td>0.0</td>\n",
       "      <td>0.0</td>\n",
       "    </tr>\n",
       "    <tr>\n",
       "      <th>53678</th>\n",
       "      <td>OWID_EUR</td>\n",
       "      <td>0</td>\n",
       "      <td>Europe</td>\n",
       "      <td>2020-01-27</td>\n",
       "      <td>4.0</td>\n",
       "      <td>1.0</td>\n",
       "      <td>0.000</td>\n",
       "      <td>0.0</td>\n",
       "      <td>0.0</td>\n",
       "      <td>0.000</td>\n",
       "      <td>...</td>\n",
       "      <td>0.0</td>\n",
       "      <td>0.0</td>\n",
       "      <td>0.0</td>\n",
       "      <td>0.0</td>\n",
       "      <td>0.0</td>\n",
       "      <td>0.0</td>\n",
       "      <td>0.0</td>\n",
       "      <td>0.0</td>\n",
       "      <td>0.0</td>\n",
       "      <td>0.0</td>\n",
       "    </tr>\n",
       "    <tr>\n",
       "      <th>...</th>\n",
       "      <td>...</td>\n",
       "      <td>...</td>\n",
       "      <td>...</td>\n",
       "      <td>...</td>\n",
       "      <td>...</td>\n",
       "      <td>...</td>\n",
       "      <td>...</td>\n",
       "      <td>...</td>\n",
       "      <td>...</td>\n",
       "      <td>...</td>\n",
       "      <td>...</td>\n",
       "      <td>...</td>\n",
       "      <td>...</td>\n",
       "      <td>...</td>\n",
       "      <td>...</td>\n",
       "      <td>...</td>\n",
       "      <td>...</td>\n",
       "      <td>...</td>\n",
       "      <td>...</td>\n",
       "      <td>...</td>\n",
       "      <td>...</td>\n",
       "    </tr>\n",
       "    <tr>\n",
       "      <th>54506</th>\n",
       "      <td>OWID_EUR</td>\n",
       "      <td>0</td>\n",
       "      <td>Europe</td>\n",
       "      <td>2022-05-04</td>\n",
       "      <td>193661989.0</td>\n",
       "      <td>257821.0</td>\n",
       "      <td>254262.857</td>\n",
       "      <td>1821989.0</td>\n",
       "      <td>1300.0</td>\n",
       "      <td>1030.571</td>\n",
       "      <td>...</td>\n",
       "      <td>0.0</td>\n",
       "      <td>0.0</td>\n",
       "      <td>0.0</td>\n",
       "      <td>0.0</td>\n",
       "      <td>0.0</td>\n",
       "      <td>0.0</td>\n",
       "      <td>0.0</td>\n",
       "      <td>0.0</td>\n",
       "      <td>0.0</td>\n",
       "      <td>0.0</td>\n",
       "    </tr>\n",
       "    <tr>\n",
       "      <th>54507</th>\n",
       "      <td>OWID_EUR</td>\n",
       "      <td>0</td>\n",
       "      <td>Europe</td>\n",
       "      <td>2022-05-05</td>\n",
       "      <td>193944851.0</td>\n",
       "      <td>282862.0</td>\n",
       "      <td>245068.286</td>\n",
       "      <td>1823589.0</td>\n",
       "      <td>1600.0</td>\n",
       "      <td>1030.571</td>\n",
       "      <td>...</td>\n",
       "      <td>0.0</td>\n",
       "      <td>0.0</td>\n",
       "      <td>0.0</td>\n",
       "      <td>0.0</td>\n",
       "      <td>0.0</td>\n",
       "      <td>0.0</td>\n",
       "      <td>0.0</td>\n",
       "      <td>0.0</td>\n",
       "      <td>0.0</td>\n",
       "      <td>0.0</td>\n",
       "    </tr>\n",
       "    <tr>\n",
       "      <th>54508</th>\n",
       "      <td>OWID_EUR</td>\n",
       "      <td>0</td>\n",
       "      <td>Europe</td>\n",
       "      <td>2022-05-06</td>\n",
       "      <td>194159172.0</td>\n",
       "      <td>214321.0</td>\n",
       "      <td>226117.429</td>\n",
       "      <td>1824555.0</td>\n",
       "      <td>966.0</td>\n",
       "      <td>986.714</td>\n",
       "      <td>...</td>\n",
       "      <td>0.0</td>\n",
       "      <td>0.0</td>\n",
       "      <td>0.0</td>\n",
       "      <td>0.0</td>\n",
       "      <td>0.0</td>\n",
       "      <td>0.0</td>\n",
       "      <td>0.0</td>\n",
       "      <td>0.0</td>\n",
       "      <td>0.0</td>\n",
       "      <td>0.0</td>\n",
       "    </tr>\n",
       "    <tr>\n",
       "      <th>54509</th>\n",
       "      <td>OWID_EUR</td>\n",
       "      <td>0</td>\n",
       "      <td>Europe</td>\n",
       "      <td>2022-05-07</td>\n",
       "      <td>194282903.0</td>\n",
       "      <td>123731.0</td>\n",
       "      <td>223630.571</td>\n",
       "      <td>1824985.0</td>\n",
       "      <td>430.0</td>\n",
       "      <td>980.429</td>\n",
       "      <td>...</td>\n",
       "      <td>0.0</td>\n",
       "      <td>0.0</td>\n",
       "      <td>0.0</td>\n",
       "      <td>0.0</td>\n",
       "      <td>0.0</td>\n",
       "      <td>0.0</td>\n",
       "      <td>0.0</td>\n",
       "      <td>0.0</td>\n",
       "      <td>0.0</td>\n",
       "      <td>0.0</td>\n",
       "    </tr>\n",
       "    <tr>\n",
       "      <th>54510</th>\n",
       "      <td>OWID_EUR</td>\n",
       "      <td>0</td>\n",
       "      <td>Europe</td>\n",
       "      <td>2022-05-08</td>\n",
       "      <td>194363078.0</td>\n",
       "      <td>80175.0</td>\n",
       "      <td>220374.143</td>\n",
       "      <td>1825311.0</td>\n",
       "      <td>326.0</td>\n",
       "      <td>974.429</td>\n",
       "      <td>...</td>\n",
       "      <td>0.0</td>\n",
       "      <td>0.0</td>\n",
       "      <td>0.0</td>\n",
       "      <td>0.0</td>\n",
       "      <td>0.0</td>\n",
       "      <td>0.0</td>\n",
       "      <td>0.0</td>\n",
       "      <td>0.0</td>\n",
       "      <td>0.0</td>\n",
       "      <td>0.0</td>\n",
       "    </tr>\n",
       "  </tbody>\n",
       "</table>\n",
       "<p>837 rows × 67 columns</p>\n",
       "</div>"
      ],
      "text/plain": [
       "       iso_code continent location        date  total_cases  new_cases  \\\n",
       "53674  OWID_EUR         0   Europe  2020-01-23          0.0        0.0   \n",
       "53675  OWID_EUR         0   Europe  2020-01-24          2.0        2.0   \n",
       "53676  OWID_EUR         0   Europe  2020-01-25          3.0        1.0   \n",
       "53677  OWID_EUR         0   Europe  2020-01-26          3.0        0.0   \n",
       "53678  OWID_EUR         0   Europe  2020-01-27          4.0        1.0   \n",
       "...         ...       ...      ...         ...          ...        ...   \n",
       "54506  OWID_EUR         0   Europe  2022-05-04  193661989.0   257821.0   \n",
       "54507  OWID_EUR         0   Europe  2022-05-05  193944851.0   282862.0   \n",
       "54508  OWID_EUR         0   Europe  2022-05-06  194159172.0   214321.0   \n",
       "54509  OWID_EUR         0   Europe  2022-05-07  194282903.0   123731.0   \n",
       "54510  OWID_EUR         0   Europe  2022-05-08  194363078.0    80175.0   \n",
       "\n",
       "       new_cases_smoothed  total_deaths  new_deaths  new_deaths_smoothed  ...  \\\n",
       "53674               0.000           0.0         0.0                0.000  ...   \n",
       "53675               0.000           0.0         0.0                0.000  ...   \n",
       "53676               0.000           0.0         0.0                0.000  ...   \n",
       "53677               0.000           0.0         0.0                0.000  ...   \n",
       "53678               0.000           0.0         0.0                0.000  ...   \n",
       "...                   ...           ...         ...                  ...  ...   \n",
       "54506          254262.857     1821989.0      1300.0             1030.571  ...   \n",
       "54507          245068.286     1823589.0      1600.0             1030.571  ...   \n",
       "54508          226117.429     1824555.0       966.0              986.714  ...   \n",
       "54509          223630.571     1824985.0       430.0              980.429  ...   \n",
       "54510          220374.143     1825311.0       326.0              974.429  ...   \n",
       "\n",
       "       female_smokers  male_smokers  handwashing_facilities  \\\n",
       "53674             0.0           0.0                     0.0   \n",
       "53675             0.0           0.0                     0.0   \n",
       "53676             0.0           0.0                     0.0   \n",
       "53677             0.0           0.0                     0.0   \n",
       "53678             0.0           0.0                     0.0   \n",
       "...               ...           ...                     ...   \n",
       "54506             0.0           0.0                     0.0   \n",
       "54507             0.0           0.0                     0.0   \n",
       "54508             0.0           0.0                     0.0   \n",
       "54509             0.0           0.0                     0.0   \n",
       "54510             0.0           0.0                     0.0   \n",
       "\n",
       "       hospital_beds_per_thousand  life_expectancy  human_development_index  \\\n",
       "53674                         0.0              0.0                      0.0   \n",
       "53675                         0.0              0.0                      0.0   \n",
       "53676                         0.0              0.0                      0.0   \n",
       "53677                         0.0              0.0                      0.0   \n",
       "53678                         0.0              0.0                      0.0   \n",
       "...                           ...              ...                      ...   \n",
       "54506                         0.0              0.0                      0.0   \n",
       "54507                         0.0              0.0                      0.0   \n",
       "54508                         0.0              0.0                      0.0   \n",
       "54509                         0.0              0.0                      0.0   \n",
       "54510                         0.0              0.0                      0.0   \n",
       "\n",
       "       excess_mortality_cumulative_absolute  excess_mortality_cumulative  \\\n",
       "53674                                   0.0                          0.0   \n",
       "53675                                   0.0                          0.0   \n",
       "53676                                   0.0                          0.0   \n",
       "53677                                   0.0                          0.0   \n",
       "53678                                   0.0                          0.0   \n",
       "...                                     ...                          ...   \n",
       "54506                                   0.0                          0.0   \n",
       "54507                                   0.0                          0.0   \n",
       "54508                                   0.0                          0.0   \n",
       "54509                                   0.0                          0.0   \n",
       "54510                                   0.0                          0.0   \n",
       "\n",
       "       excess_mortality  excess_mortality_cumulative_per_million  \n",
       "53674               0.0                                      0.0  \n",
       "53675               0.0                                      0.0  \n",
       "53676               0.0                                      0.0  \n",
       "53677               0.0                                      0.0  \n",
       "53678               0.0                                      0.0  \n",
       "...                 ...                                      ...  \n",
       "54506               0.0                                      0.0  \n",
       "54507               0.0                                      0.0  \n",
       "54508               0.0                                      0.0  \n",
       "54509               0.0                                      0.0  \n",
       "54510               0.0                                      0.0  \n",
       "\n",
       "[837 rows x 67 columns]"
      ]
     },
     "execution_count": 6,
     "metadata": {},
     "output_type": "execute_result"
    }
   ],
   "source": [
    "COVID[COVID['location'] == 'Europe']"
   ]
  },
  {
   "cell_type": "code",
   "execution_count": 30,
   "metadata": {},
   "outputs": [],
   "source": [
    "COVIDeur = COVID[COVID['location'] == 'Europe']"
   ]
  },
  {
   "cell_type": "code",
   "execution_count": 31,
   "metadata": {},
   "outputs": [],
   "source": [
    "X = COVIDeur[['total_cases',\n",
    " 'excess_mortality_cumulative_absolute',\n",
    " 'icu_patients',\n",
    " 'total_vaccinations',\n",
    " 'stringency_index',\n",
    " 'new_cases',\n",
    " 'weekly_hosp_admissions',\n",
    " 'weekly_icu_admissions',\n",
    " 'positive_rate',\n",
    " 'reproduction_rate',\n",
    "'new_tests',\n",
    "'total_tests']]\n",
    "y = COVIDeur['new_deaths']"
   ]
  },
  {
   "cell_type": "code",
   "execution_count": 32,
   "metadata": {},
   "outputs": [],
   "source": [
    "X_train, X_test, y_train, y_test = train_test_split(X, y, test_size=0.2, random_state=13)"
   ]
  },
  {
   "cell_type": "code",
   "execution_count": 33,
   "metadata": {},
   "outputs": [
    {
     "name": "stdout",
     "output_type": "stream",
     "text": [
      "0.9551275023217383\n",
      "0.8992301750136402\n"
     ]
    }
   ],
   "source": [
    "model = GradientBoostingRegressor()\n",
    "X_train, X_test, y_train, y_test = train_test_split(X, y, test_size=0.2, random_state=13)\n",
    "model.fit(X_train, y_train)\n",
    "print(model.score(X_train, y_train))\n",
    "print(model.score(X_test, y_test))"
   ]
  },
  {
   "cell_type": "code",
   "execution_count": 34,
   "metadata": {},
   "outputs": [],
   "source": [
    "scores = []\n",
    "scores.append(model.score(X_train, y_train))\n",
    "scores.append(model.score(X_test, y_test))"
   ]
  },
  {
   "cell_type": "code",
   "execution_count": 10,
   "metadata": {},
   "outputs": [
    {
     "name": "stdout",
     "output_type": "stream",
     "text": [
      "Fit time:  227.24416732788086\n",
      "ACC:  0.02976190476190476\n"
     ]
    }
   ],
   "source": [
    "# start_time = time.time()\n",
    "# gb_clf = GradientBoostingClassifier(random_state=13)\n",
    "# gb_clf.fit(X_train, y_train)\n",
    "# gb_pred = gb_clf.predict(X_test)\n",
    "# print('Fit time: ', time.time() - start_time)\n",
    "# print('ACC: ', accuracy_score(y_test, gb_pred))"
   ]
  },
  {
   "cell_type": "code",
   "execution_count": 11,
   "metadata": {},
   "outputs": [
    {
     "data": {
      "text/plain": [
       "array([0.000e+00, 0.000e+00, 0.000e+00, 0.000e+00, 0.000e+00, 0.000e+00,\n",
       "       0.000e+00, 0.000e+00, 0.000e+00, 0.000e+00, 0.000e+00, 0.000e+00,\n",
       "       0.000e+00, 0.000e+00, 0.000e+00, 0.000e+00, 0.000e+00, 0.000e+00,\n",
       "       0.000e+00, 0.000e+00, 0.000e+00, 0.000e+00, 0.000e+00, 1.000e+00,\n",
       "       0.000e+00, 0.000e+00, 0.000e+00, 0.000e+00, 0.000e+00, 1.000e+00,\n",
       "       1.000e+00, 1.000e+00, 4.000e+00, 3.000e+00, 3.000e+00, 5.000e+00,\n",
       "       4.000e+00, 4.000e+00, 5.000e+00, 1.900e+01, 2.900e+01, 2.900e+01,\n",
       "       4.500e+01, 4.500e+01, 1.460e+02, 1.460e+02, 1.930e+02, 1.930e+02,\n",
       "       2.410e+02, 2.000e+02, 3.720e+02, 3.720e+02, 5.020e+02, 5.030e+02,\n",
       "       6.000e+02, 6.450e+02, 1.177e+03, 1.177e+03, 1.309e+03, 1.309e+03,\n",
       "       1.575e+03, 1.847e+03, 2.228e+03, 2.295e+03, 2.652e+03, 2.566e+03,\n",
       "       2.566e+03, 2.998e+03, 3.240e+03, 4.274e+03, 4.040e+02, 4.229e+03,\n",
       "       3.923e+03, 3.063e+03, 3.421e+03, 5.061e+03, 3.882e+03, 4.773e+03,\n",
       "       4.526e+03, 3.537e+03, 3.018e+03, 3.195e+03, 3.682e+03, 4.777e+03,\n",
       "       4.259e+03, 3.230e+02, 3.323e+03, 2.469e+03, 2.669e+03, 3.741e+03,\n",
       "       3.430e+03, 3.033e+03, 3.349e+03, 2.850e+03, 2.850e+03, 2.002e+03,\n",
       "       2.765e+03, 2.910e+03, 2.255e+03, 1.918e+03, 2.303e+03, 2.303e+03,\n",
       "       1.419e+03, 2.142e+03, 2.399e+03, 1.761e+03, 2.032e+03, 1.244e+03,\n",
       "       5.890e+02, 1.081e+03, 1.847e+03, 1.533e+03, 1.642e+03, 1.400e+03,\n",
       "       1.400e+03, 7.780e+02, 7.970e+02, 1.126e+03, 1.192e+03, 9.570e+02,\n",
       "       1.610e+03, 8.630e+02, 8.220e+02, 5.450e+02, 1.097e+03, 9.830e+02,\n",
       "       9.270e+02, 9.270e+02, 7.200e+02, 3.940e+02, 4.620e+02, 7.780e+02,\n",
       "       7.870e+02, 5.890e+02, 7.780e+02, 3.510e+02, 0.000e+00, 4.090e+02,\n",
       "       7.080e+02, 6.760e+02, 7.780e+02, 5.360e+02, 4.520e+02, 2.840e+02,\n",
       "       3.260e+02, 6.120e+02, 6.290e+02, 4.370e+02, 4.370e+02, 4.080e+02,\n",
       "       2.880e+02, 2.340e+02, 5.580e+02, 4.270e+02, 3.740e+02, 4.950e+02,\n",
       "       4.410e+02, 4.660e+02, 2.610e+02, 3.790e+02, 5.010e+02, 4.050e+02,\n",
       "       4.290e+02, 2.610e+02, 2.560e+02, 2.880e+02, 4.660e+02, 4.410e+02,\n",
       "       3.370e+02, 3.890e+02, 3.370e+02, 2.230e+02, 4.210e+02, 3.790e+02,\n",
       "       4.210e+02, 3.730e+02, 3.730e+02, 2.470e+02, 1.870e+02, 2.320e+02,\n",
       "       3.550e+02, 3.510e+02, 3.220e+02, 3.570e+02, 2.660e+02, 2.610e+02,\n",
       "       2.270e+02, 3.270e+02, 4.030e+02, 5.890e+02, 3.680e+02, 2.360e+02,\n",
       "       2.360e+02, 2.700e+02, 3.620e+02, 3.680e+02, 0.000e+00, 3.120e+02,\n",
       "       2.990e+02, 2.360e+02, 3.340e+02, 3.450e+02, 3.340e+02, 3.650e+02,\n",
       "       3.320e+02, 4.510e+02, 7.200e+02, 2.570e+02, 3.540e+02, 4.570e+02,\n",
       "       3.390e+02, 3.230e+02, 3.070e+02, 2.060e+02, 4.040e+02, 3.320e+02,\n",
       "       3.860e+02, 3.860e+02, 3.320e+02, 2.110e+02, 2.110e+02, 3.550e+02,\n",
       "       4.340e+02, 4.040e+02, 0.000e+00, 4.950e+02, 3.360e+02, 2.110e+02,\n",
       "       3.240e+02, 4.690e+02, 4.200e+02, 4.110e+02, 4.150e+02, 0.000e+00,\n",
       "       2.540e+02, 3.630e+02, 6.300e+02, 6.300e+02, 6.090e+02, 6.580e+02,\n",
       "       4.070e+02, 4.070e+02, 4.660e+02, 7.680e+02, 6.710e+02, 6.050e+02,\n",
       "       5.700e+02, 5.700e+02, 3.460e+02, 5.510e+02, 6.150e+02, 1.014e+03,\n",
       "       7.550e+02, 8.250e+02, 8.250e+02, 4.370e+02, 6.200e+02, 6.200e+02,\n",
       "       9.070e+02, 8.960e+02, 1.055e+03, 7.630e+02, 6.320e+02, 8.760e+02,\n",
       "       1.144e+03, 1.297e+03, 1.297e+03, 1.426e+03, 1.123e+03, 8.790e+02,\n",
       "       1.195e+03, 1.828e+03, 1.782e+03, 1.783e+03, 2.013e+03, 1.675e+03,\n",
       "       1.225e+03, 1.901e+03, 2.801e+03, 2.538e+03, 2.605e+03, 4.403e+03,\n",
       "       2.557e+03, 1.904e+03, 2.531e+03, 4.440e+03, 4.868e+03, 3.649e+03,\n",
       "       4.390e+03, 3.505e+03, 2.410e+03, 3.879e+03, 6.256e+03, 5.124e+03,\n",
       "       4.397e+03, 5.591e+03, 3.879e+03, 3.005e+03, 2.013e+03, 6.169e+03,\n",
       "       5.341e+03, 4.821e+03, 5.752e+03, 4.067e+03, 3.651e+03, 4.057e+03,\n",
       "       6.115e+03, 5.581e+03, 6.256e+03, 5.952e+03, 4.496e+03, 3.241e+03,\n",
       "       3.988e+03, 5.902e+03, 5.593e+03, 5.497e+03, 5.581e+03, 4.449e+03,\n",
       "       3.341e+03, 3.624e+03, 5.308e+03, 5.381e+03, 2.013e+03, 5.784e+03,\n",
       "       4.570e+03, 3.315e+03, 3.674e+03, 5.885e+03, 6.181e+03, 3.837e+03,\n",
       "       5.799e+03, 3.687e+03, 3.259e+03, 3.598e+03, 0.000e+00, 6.093e+03,\n",
       "       4.939e+03, 2.684e+03, 2.684e+03, 2.927e+03, 3.600e+03, 6.093e+03,\n",
       "       6.549e+03, 5.591e+03, 3.985e+03, 2.838e+03, 3.648e+03, 6.092e+03,\n",
       "       6.528e+03, 5.422e+03, 4.403e+03, 6.268e+03, 4.876e+03, 3.318e+03,\n",
       "       3.709e+03, 6.471e+03, 4.939e+03, 6.169e+03, 6.301e+03, 5.176e+03,\n",
       "       3.270e+03, 3.668e+03, 6.809e+03, 7.266e+03, 6.256e+03, 6.240e+03,\n",
       "       5.212e+03, 3.107e+03, 3.926e+03, 6.950e+03, 6.615e+03, 5.970e+03,\n",
       "       4.367e+03, 4.754e+03, 0.000e+00, 3.732e+03, 6.673e+03, 6.144e+03,\n",
       "       4.888e+03, 6.092e+03, 0.000e+00, 2.478e+03, 3.571e+03, 5.742e+03,\n",
       "       5.378e+03, 4.822e+03, 4.724e+03, 3.492e+03, 2.127e+03, 2.951e+03,\n",
       "       0.000e+00, 0.000e+00, 2.978e+03, 2.978e+03, 2.978e+03, 1.930e+03,\n",
       "       2.486e+03, 0.000e+00, 3.781e+03, 3.363e+03, 3.648e+03, 2.826e+03,\n",
       "       1.898e+03, 2.429e+03, 0.000e+00, 4.076e+03, 3.426e+03, 3.739e+03,\n",
       "       2.661e+03, 1.832e+03, 2.561e+03, 4.754e+03, 3.651e+03, 3.926e+03,\n",
       "       3.380e+03, 2.858e+03, 1.959e+03, 2.702e+03, 3.664e+03, 3.687e+03,\n",
       "       3.303e+03, 1.904e+03, 2.846e+03, 2.087e+03, 3.108e+03, 3.978e+03,\n",
       "       0.000e+00, 4.141e+03, 4.529e+03, 2.973e+03, 6.950e+03, 2.820e+03,\n",
       "       3.894e+03, 5.799e+03, 3.837e+03, 3.740e+03, 3.258e+03, 6.092e+03,\n",
       "       2.593e+03, 0.000e+00, 4.645e+03, 4.459e+03, 4.531e+03, 3.416e+03,\n",
       "       3.985e+03, 2.981e+03, 4.007e+03, 4.367e+03, 3.885e+03, 3.805e+03,\n",
       "       3.125e+03, 2.167e+03, 2.891e+03, 0.000e+00, 0.000e+00, 3.623e+03,\n",
       "       3.613e+03, 3.006e+03, 2.022e+03, 2.526e+03, 3.553e+03, 3.537e+03,\n",
       "       3.251e+03, 3.014e+03, 2.565e+03, 1.557e+03, 1.931e+03, 2.499e+03,\n",
       "       2.852e+03, 2.898e+03, 2.790e+03, 2.790e+03, 1.848e+03, 1.777e+03,\n",
       "       2.483e+03, 2.533e+03, 2.526e+03, 2.170e+03, 1.848e+03, 1.192e+03,\n",
       "       1.419e+03, 2.121e+03, 2.072e+03, 1.859e+03, 1.848e+03, 1.805e+03,\n",
       "       1.316e+03, 1.028e+03, 1.736e+03, 1.805e+03, 1.630e+03, 1.452e+03,\n",
       "       1.259e+03, 8.290e+02, 9.640e+02, 1.316e+03, 1.367e+03, 0.000e+00,\n",
       "       1.056e+03, 1.056e+03, 7.850e+02, 0.000e+00, 1.524e+03, 1.236e+03,\n",
       "       1.248e+03, 1.099e+03, 9.560e+02, 6.040e+02, 6.740e+02, 1.066e+03,\n",
       "       1.110e+03, 0.000e+00, 9.790e+02, 8.900e+02, 6.040e+02, 7.420e+02,\n",
       "       1.013e+03, 1.068e+03, 0.000e+00, 1.100e+03, 1.126e+03, 7.910e+02,\n",
       "       8.550e+02, 1.263e+03, 1.154e+03, 1.023e+03, 1.030e+03, 8.930e+02,\n",
       "       7.500e+02, 9.080e+02, 1.017e+03, 1.060e+03, 1.056e+03, 9.620e+02,\n",
       "       9.310e+02, 8.280e+02, 8.470e+02, 1.068e+03, 1.007e+03, 1.031e+03,\n",
       "       9.990e+02, 9.390e+02, 8.430e+02, 8.430e+02, 1.085e+03, 1.022e+03,\n",
       "       1.077e+03, 1.056e+03, 1.039e+03, 9.190e+02, 9.190e+02, 1.168e+03,\n",
       "       1.183e+03, 1.088e+03, 1.112e+03, 1.044e+03, 9.360e+02, 1.105e+03,\n",
       "       1.288e+03, 1.203e+03, 1.203e+03, 1.191e+03, 1.073e+03, 9.510e+02,\n",
       "       1.144e+03, 1.303e+03, 1.268e+03, 1.243e+03, 1.287e+03, 1.142e+03,\n",
       "       1.251e+03, 1.251e+03, 1.485e+03, 1.454e+03, 1.454e+03, 1.376e+03,\n",
       "       1.269e+03, 1.120e+03, 1.120e+03, 1.689e+03, 1.622e+03, 1.522e+03,\n",
       "       1.522e+03, 1.343e+03, 1.208e+03, 0.000e+00, 1.680e+03, 1.680e+03,\n",
       "       1.703e+03, 1.632e+03, 1.355e+03, 1.246e+03, 1.523e+03, 1.865e+03,\n",
       "       1.807e+03, 1.688e+03, 1.686e+03, 1.436e+03, 1.204e+03, 1.556e+03,\n",
       "       2.048e+03, 1.850e+03, 1.763e+03, 1.767e+03, 1.767e+03, 1.280e+03,\n",
       "       1.663e+03, 2.040e+03, 1.985e+03, 1.985e+03, 1.920e+03, 1.920e+03,\n",
       "       1.362e+03, 1.362e+03, 2.105e+03, 2.105e+03, 2.011e+03, 1.977e+03,\n",
       "       1.787e+03, 1.546e+03, 1.546e+03, 2.456e+03, 2.452e+03, 2.270e+03,\n",
       "       2.339e+03, 2.066e+03, 1.717e+03, 2.087e+03, 0.000e+00, 2.734e+03,\n",
       "       2.580e+03, 2.243e+03, 2.243e+03, 1.956e+03, 2.310e+03, 3.157e+03,\n",
       "       2.977e+03, 2.863e+03, 3.000e+03, 2.308e+03, 2.308e+03, 2.308e+03,\n",
       "       3.600e+03, 3.654e+03, 3.326e+03, 3.326e+03, 2.013e+03, 2.508e+03,\n",
       "       2.508e+03, 3.748e+03, 3.938e+03, 3.936e+03, 3.759e+03, 3.526e+03,\n",
       "       2.565e+03, 6.256e+03, 4.238e+03, 4.419e+03, 3.972e+03, 3.787e+03,\n",
       "       0.000e+00, 6.256e+03, 3.447e+03, 4.403e+03, 4.446e+03, 4.257e+03,\n",
       "       4.406e+03, 4.419e+03, 2.566e+03, 3.659e+03, 4.343e+03, 4.437e+03,\n",
       "       4.296e+03, 4.155e+03, 3.480e+03, 3.759e+03, 3.480e+03, 4.406e+03,\n",
       "       4.475e+03, 4.241e+03, 4.299e+03, 3.659e+03, 3.759e+03, 3.505e+03,\n",
       "       4.388e+03, 4.500e+03, 4.244e+03, 0.000e+00, 3.574e+03, 2.413e+03,\n",
       "       3.247e+03, 4.446e+03, 4.319e+03, 4.109e+03, 3.891e+03, 3.433e+03,\n",
       "       2.289e+03, 2.289e+03, 4.244e+03, 3.988e+03, 3.727e+03, 3.224e+03,\n",
       "       2.725e+03, 1.838e+03, 2.924e+03, 2.924e+03, 0.000e+00, 3.815e+03,\n",
       "       3.302e+03, 2.519e+03, 4.446e+03, 2.724e+03, 3.372e+03, 2.498e+03,\n",
       "       1.729e+03, 2.747e+03, 2.102e+03, 1.671e+03, 3.767e+03, 3.808e+03,\n",
       "       3.249e+03, 3.367e+03, 3.249e+03, 2.724e+03, 1.720e+03, 2.713e+03,\n",
       "       3.851e+03, 3.279e+03, 3.438e+03, 3.041e+03, 2.498e+03, 1.671e+03,\n",
       "       0.000e+00, 3.834e+03, 3.405e+03, 3.324e+03, 3.274e+03, 2.583e+03,\n",
       "       1.729e+03, 2.963e+03, 4.020e+03, 4.020e+03, 3.574e+03, 3.347e+03,\n",
       "       2.775e+03, 1.887e+03, 3.368e+03, 4.403e+03, 3.738e+03, 4.103e+03,\n",
       "       3.769e+03, 1.671e+03, 1.855e+03, 3.507e+03, 3.875e+03, 3.367e+03,\n",
       "       3.912e+03, 3.767e+03, 0.000e+00, 1.829e+03, 2.850e+03, 4.089e+03,\n",
       "       2.233e+03, 3.259e+03, 2.829e+03, 2.143e+03, 1.577e+03, 1.577e+03,\n",
       "       3.414e+03, 2.863e+03, 2.835e+03, 3.414e+03, 2.008e+03, 1.267e+03,\n",
       "       2.001e+03, 2.720e+03, 2.720e+03, 2.288e+03, 2.161e+03, 1.558e+03,\n",
       "       1.085e+03, 1.085e+03, 1.671e+03, 2.233e+03, 2.001e+03, 2.102e+03,\n",
       "       0.000e+00, 9.290e+02, 1.471e+03, 2.270e+03, 2.036e+03, 1.911e+03,\n",
       "       2.724e+03, 1.228e+03, 1.228e+03, 1.383e+03, 1.786e+03, 2.044e+03,\n",
       "       2.364e+03, 1.654e+03, 1.203e+03, 7.200e+02, 1.249e+03, 1.249e+03,\n",
       "       1.249e+03, 7.860e+02, 7.860e+02, 7.860e+02, 5.860e+02, 5.860e+02,\n",
       "       2.022e+03, 2.022e+03, 1.798e+03, 8.870e+02, 6.360e+02, 5.020e+02,\n",
       "       4.880e+02, 1.933e+03, 2.514e+03, 2.018e+03, 1.509e+03, 5.840e+02,\n",
       "       3.600e+02, 3.600e+02, 1.584e+03, 1.771e+03, 1.600e+03, 1.273e+03,\n",
       "       4.740e+02, 3.680e+02, 9.150e+02, 1.284e+03, 5.341e+03, 1.600e+03,\n",
       "       9.660e+02, 4.300e+02, 3.260e+02])"
      ]
     },
     "execution_count": 11,
     "metadata": {},
     "output_type": "execute_result"
    }
   ],
   "source": [
    "eur_csv = gb_clf.predict(X)\n",
    "eur_csv"
   ]
  },
  {
   "cell_type": "code",
   "execution_count": 16,
   "metadata": {},
   "outputs": [],
   "source": [
    "# eur_csv = gb_clf.predict(X)\n",
    "# COVIDeur = COVIDeur[['date', 'location', 'new_deaths']]\n",
    "# COVIDeur['predict_death'] = eur_csv\n",
    "# COVIDeur.to_excel('./GBMeur.xlsx')"
   ]
  },
  {
   "cell_type": "code",
   "execution_count": null,
   "metadata": {},
   "outputs": [],
   "source": []
  },
  {
   "cell_type": "code",
   "execution_count": 17,
   "metadata": {},
   "outputs": [],
   "source": [
    "COVIDeur = COVIDeur[['date', 'location', 'new_deaths']]"
   ]
  },
  {
   "cell_type": "code",
   "execution_count": 18,
   "metadata": {},
   "outputs": [],
   "source": [
    "COVIDeur['predict_death'] = eur_csv"
   ]
  },
  {
   "cell_type": "code",
   "execution_count": 19,
   "metadata": {},
   "outputs": [],
   "source": [
    "COVIDeur.to_excel('./GBMeur.xlsx')"
   ]
  },
  {
   "cell_type": "markdown",
   "metadata": {},
   "source": [
    "## 아시아 대륙 "
   ]
  },
  {
   "cell_type": "code",
   "execution_count": 35,
   "metadata": {},
   "outputs": [],
   "source": [
    "COVIDas = COVID[COVID['location'] == 'Asia']"
   ]
  },
  {
   "cell_type": "code",
   "execution_count": 36,
   "metadata": {},
   "outputs": [],
   "source": [
    "X = COVIDas[['total_cases',\n",
    " 'excess_mortality_cumulative_absolute',\n",
    " 'icu_patients',\n",
    " 'total_vaccinations',\n",
    " 'stringency_index',\n",
    " 'new_cases',\n",
    " 'weekly_hosp_admissions',\n",
    " 'weekly_icu_admissions',\n",
    " 'positive_rate',\n",
    " 'reproduction_rate',\n",
    "'new_tests',\n",
    "'total_tests']]\n",
    "y = COVIDas['new_deaths']"
   ]
  },
  {
   "cell_type": "code",
   "execution_count": 37,
   "metadata": {},
   "outputs": [],
   "source": [
    "X_train, X_test, y_train, y_test = train_test_split(X, y, test_size=0.2, random_state=13)"
   ]
  },
  {
   "cell_type": "code",
   "execution_count": 38,
   "metadata": {},
   "outputs": [
    {
     "name": "stdout",
     "output_type": "stream",
     "text": [
      "0.9795926200845969\n",
      "0.9325836384085893\n"
     ]
    }
   ],
   "source": [
    "model = GradientBoostingRegressor()\n",
    "X_train, X_test, y_train, y_test = train_test_split(X, y, test_size=0.2, random_state=13)\n",
    "model.fit(X_train, y_train)\n",
    "print(model.score(X_train, y_train))\n",
    "print(model.score(X_test, y_test))"
   ]
  },
  {
   "cell_type": "code",
   "execution_count": 39,
   "metadata": {},
   "outputs": [],
   "source": [
    "scores.append(model.score(X_train, y_train))\n",
    "scores.append(model.score(X_test, y_test))"
   ]
  },
  {
   "cell_type": "code",
   "execution_count": 23,
   "metadata": {},
   "outputs": [
    {
     "name": "stdout",
     "output_type": "stream",
     "text": [
      "Fit time:  221.40487456321716\n",
      "ACC:  0.005952380952380952\n"
     ]
    }
   ],
   "source": [
    "start_time = time.time()\n",
    "gb_clf = GradientBoostingClassifier(random_state=13)\n",
    "gb_clf.fit(X_train, y_train)\n",
    "gb_pred = gb_clf.predict(X_test)\n",
    "print('Fit time: ', time.time() - start_time)\n",
    "print('ACC: ', accuracy_score(y_test, gb_pred))"
   ]
  },
  {
   "cell_type": "code",
   "execution_count": 24,
   "metadata": {},
   "outputs": [],
   "source": [
    "con = gb_clf.predict(X)\n",
    "COVIDas = COVIDas[['date', 'location', 'new_deaths']]\n",
    "COVIDas['predict_death'] = con\n",
    "COVIDas.to_excel('./GBMas.xlsx')"
   ]
  },
  {
   "cell_type": "markdown",
   "metadata": {},
   "source": [
    "## 3분위 중 1분위 "
   ]
  },
  {
   "cell_type": "code",
   "execution_count": 40,
   "metadata": {},
   "outputs": [],
   "source": [
    "GBMhic = COVID[COVID['iso_code'] == 'OWID_HIC']"
   ]
  },
  {
   "cell_type": "code",
   "execution_count": 41,
   "metadata": {},
   "outputs": [],
   "source": [
    "X = GBMhic[['total_cases',\n",
    " 'excess_mortality_cumulative_absolute',\n",
    " 'icu_patients',\n",
    " 'total_vaccinations',\n",
    " 'stringency_index',\n",
    " 'new_cases',\n",
    " 'weekly_hosp_admissions',\n",
    " 'weekly_icu_admissions',\n",
    " 'positive_rate',\n",
    " 'reproduction_rate',\n",
    "'new_tests',\n",
    "'total_tests']]\n",
    "y = GBMhic['new_deaths']"
   ]
  },
  {
   "cell_type": "code",
   "execution_count": 42,
   "metadata": {},
   "outputs": [],
   "source": [
    "X_train, X_test, y_train, y_test = train_test_split(X, y, test_size=0.2, random_state=13)"
   ]
  },
  {
   "cell_type": "code",
   "execution_count": 43,
   "metadata": {},
   "outputs": [
    {
     "name": "stdout",
     "output_type": "stream",
     "text": [
      "0.9445566696956489\n",
      "0.8658287124443462\n"
     ]
    }
   ],
   "source": [
    "model = GradientBoostingRegressor()\n",
    "X_train, X_test, y_train, y_test = train_test_split(X, y, test_size=0.2, random_state=13)\n",
    "model.fit(X_train, y_train)\n",
    "print(model.score(X_train, y_train))\n",
    "print(model.score(X_test, y_test))"
   ]
  },
  {
   "cell_type": "code",
   "execution_count": 44,
   "metadata": {},
   "outputs": [],
   "source": [
    "scores.append(model.score(X_train, y_train))\n",
    "scores.append(model.score(X_test, y_test))"
   ]
  },
  {
   "cell_type": "code",
   "execution_count": 28,
   "metadata": {},
   "outputs": [
    {
     "name": "stdout",
     "output_type": "stream",
     "text": [
      "Fit time:  281.7542152404785\n",
      "ACC:  0.02976190476190476\n"
     ]
    }
   ],
   "source": [
    "start_time = time.time()\n",
    "gb_clf = GradientBoostingClassifier(random_state=13)\n",
    "gb_clf.fit(X_train, y_train)\n",
    "gb_pred = gb_clf.predict(X_test)\n",
    "print('Fit time: ', time.time() - start_time)\n",
    "print('ACC: ', accuracy_score(y_test, gb_pred))"
   ]
  },
  {
   "cell_type": "code",
   "execution_count": 29,
   "metadata": {},
   "outputs": [],
   "source": [
    "con = gb_clf.predict(X)\n",
    "GBMhic = GBMhic[['date', 'location', 'new_deaths']]\n",
    "GBMhic['predict_death'] = con\n",
    "GBMhic.to_excel('./GBMhic.xlsx')"
   ]
  },
  {
   "cell_type": "code",
   "execution_count": null,
   "metadata": {},
   "outputs": [],
   "source": []
  },
  {
   "cell_type": "markdown",
   "metadata": {},
   "source": [
    "## 3분위 중 2분위"
   ]
  },
  {
   "cell_type": "code",
   "execution_count": 45,
   "metadata": {},
   "outputs": [],
   "source": [
    "GBMumc = COVID[COVID['iso_code'] == 'OWID_UMC']"
   ]
  },
  {
   "cell_type": "code",
   "execution_count": 46,
   "metadata": {},
   "outputs": [],
   "source": [
    "X = GBMumc[['total_cases',\n",
    " 'excess_mortality_cumulative_absolute',\n",
    " 'icu_patients',\n",
    " 'total_vaccinations',\n",
    " 'stringency_index',\n",
    " 'new_cases',\n",
    " 'weekly_hosp_admissions',\n",
    " 'weekly_icu_admissions',\n",
    " 'positive_rate',\n",
    " 'reproduction_rate',\n",
    "'new_tests',\n",
    "'total_tests']]\n",
    "y = GBMumc['new_deaths']"
   ]
  },
  {
   "cell_type": "code",
   "execution_count": 47,
   "metadata": {},
   "outputs": [],
   "source": [
    "X_train, X_test, y_train, y_test = train_test_split(X, y, test_size=0.2, random_state=13)"
   ]
  },
  {
   "cell_type": "code",
   "execution_count": 48,
   "metadata": {},
   "outputs": [
    {
     "name": "stdout",
     "output_type": "stream",
     "text": [
      "0.9722506893865965\n",
      "0.937988295268103\n"
     ]
    }
   ],
   "source": [
    "model = GradientBoostingRegressor()\n",
    "X_train, X_test, y_train, y_test = train_test_split(X, y, test_size=0.2, random_state=13)\n",
    "model.fit(X_train, y_train)\n",
    "print(model.score(X_train, y_train))\n",
    "print(model.score(X_test, y_test))"
   ]
  },
  {
   "cell_type": "code",
   "execution_count": 49,
   "metadata": {},
   "outputs": [],
   "source": [
    "scores.append(model.score(X_train, y_train))\n",
    "scores.append(model.score(X_test, y_test))"
   ]
  },
  {
   "cell_type": "code",
   "execution_count": 34,
   "metadata": {},
   "outputs": [
    {
     "name": "stdout",
     "output_type": "stream",
     "text": [
      "Fit time:  222.2499396800995\n",
      "ACC:  0.0\n"
     ]
    }
   ],
   "source": [
    "start_time = time.time()\n",
    "gb_clf = GradientBoostingClassifier(random_state=13)\n",
    "gb_clf.fit(X_train, y_train)\n",
    "gb_pred = gb_clf.predict(X_test)\n",
    "print('Fit time: ', time.time() - start_time)\n",
    "print('ACC: ', accuracy_score(y_test, gb_pred))"
   ]
  },
  {
   "cell_type": "code",
   "execution_count": 35,
   "metadata": {},
   "outputs": [],
   "source": [
    "con = gb_clf.predict(X)\n",
    "GBMumc = GBMumc[['date', 'location', 'new_deaths']]\n",
    "GBMumc['predict_death'] = con\n",
    "GBMumc.to_excel('./GBMumc.xlsx')"
   ]
  },
  {
   "cell_type": "markdown",
   "metadata": {},
   "source": [
    "## 3분위 중 3분위"
   ]
  },
  {
   "cell_type": "code",
   "execution_count": 147,
   "metadata": {},
   "outputs": [
    {
     "data": {
      "text/html": [
       "<div>\n",
       "<style scoped>\n",
       "    .dataframe tbody tr th:only-of-type {\n",
       "        vertical-align: middle;\n",
       "    }\n",
       "\n",
       "    .dataframe tbody tr th {\n",
       "        vertical-align: top;\n",
       "    }\n",
       "\n",
       "    .dataframe thead th {\n",
       "        text-align: right;\n",
       "    }\n",
       "</style>\n",
       "<table border=\"1\" class=\"dataframe\">\n",
       "  <thead>\n",
       "    <tr style=\"text-align: right;\">\n",
       "      <th></th>\n",
       "      <th>iso_code</th>\n",
       "      <th>continent</th>\n",
       "      <th>location</th>\n",
       "      <th>date</th>\n",
       "      <th>total_cases</th>\n",
       "      <th>new_cases</th>\n",
       "      <th>new_cases_smoothed</th>\n",
       "      <th>total_deaths</th>\n",
       "      <th>new_deaths</th>\n",
       "      <th>new_deaths_smoothed</th>\n",
       "      <th>...</th>\n",
       "      <th>female_smokers</th>\n",
       "      <th>male_smokers</th>\n",
       "      <th>handwashing_facilities</th>\n",
       "      <th>hospital_beds_per_thousand</th>\n",
       "      <th>life_expectancy</th>\n",
       "      <th>human_development_index</th>\n",
       "      <th>excess_mortality_cumulative_absolute</th>\n",
       "      <th>excess_mortality_cumulative</th>\n",
       "      <th>excess_mortality</th>\n",
       "      <th>excess_mortality_cumulative_per_million</th>\n",
       "    </tr>\n",
       "  </thead>\n",
       "  <tbody>\n",
       "    <tr>\n",
       "      <th>98122</th>\n",
       "      <td>OWID_LMC</td>\n",
       "      <td>0</td>\n",
       "      <td>Lower middle income</td>\n",
       "      <td>2020-01-22</td>\n",
       "      <td>0.0</td>\n",
       "      <td>0.0</td>\n",
       "      <td>0.000</td>\n",
       "      <td>0.0</td>\n",
       "      <td>0.0</td>\n",
       "      <td>0.000</td>\n",
       "      <td>...</td>\n",
       "      <td>0.0</td>\n",
       "      <td>0.0</td>\n",
       "      <td>0.0</td>\n",
       "      <td>0.0</td>\n",
       "      <td>0.0</td>\n",
       "      <td>0.0</td>\n",
       "      <td>0.0</td>\n",
       "      <td>0.0</td>\n",
       "      <td>0.0</td>\n",
       "      <td>0.0</td>\n",
       "    </tr>\n",
       "    <tr>\n",
       "      <th>98123</th>\n",
       "      <td>OWID_LMC</td>\n",
       "      <td>0</td>\n",
       "      <td>Lower middle income</td>\n",
       "      <td>2020-01-23</td>\n",
       "      <td>2.0</td>\n",
       "      <td>2.0</td>\n",
       "      <td>0.000</td>\n",
       "      <td>0.0</td>\n",
       "      <td>0.0</td>\n",
       "      <td>0.000</td>\n",
       "      <td>...</td>\n",
       "      <td>0.0</td>\n",
       "      <td>0.0</td>\n",
       "      <td>0.0</td>\n",
       "      <td>0.0</td>\n",
       "      <td>0.0</td>\n",
       "      <td>0.0</td>\n",
       "      <td>0.0</td>\n",
       "      <td>0.0</td>\n",
       "      <td>0.0</td>\n",
       "      <td>0.0</td>\n",
       "    </tr>\n",
       "    <tr>\n",
       "      <th>98124</th>\n",
       "      <td>OWID_LMC</td>\n",
       "      <td>0</td>\n",
       "      <td>Lower middle income</td>\n",
       "      <td>2020-01-24</td>\n",
       "      <td>2.0</td>\n",
       "      <td>0.0</td>\n",
       "      <td>0.000</td>\n",
       "      <td>0.0</td>\n",
       "      <td>0.0</td>\n",
       "      <td>0.000</td>\n",
       "      <td>...</td>\n",
       "      <td>0.0</td>\n",
       "      <td>0.0</td>\n",
       "      <td>0.0</td>\n",
       "      <td>0.0</td>\n",
       "      <td>0.0</td>\n",
       "      <td>0.0</td>\n",
       "      <td>0.0</td>\n",
       "      <td>0.0</td>\n",
       "      <td>0.0</td>\n",
       "      <td>0.0</td>\n",
       "    </tr>\n",
       "    <tr>\n",
       "      <th>98125</th>\n",
       "      <td>OWID_LMC</td>\n",
       "      <td>0</td>\n",
       "      <td>Lower middle income</td>\n",
       "      <td>2020-01-25</td>\n",
       "      <td>3.0</td>\n",
       "      <td>1.0</td>\n",
       "      <td>0.000</td>\n",
       "      <td>0.0</td>\n",
       "      <td>0.0</td>\n",
       "      <td>0.000</td>\n",
       "      <td>...</td>\n",
       "      <td>0.0</td>\n",
       "      <td>0.0</td>\n",
       "      <td>0.0</td>\n",
       "      <td>0.0</td>\n",
       "      <td>0.0</td>\n",
       "      <td>0.0</td>\n",
       "      <td>0.0</td>\n",
       "      <td>0.0</td>\n",
       "      <td>0.0</td>\n",
       "      <td>0.0</td>\n",
       "    </tr>\n",
       "    <tr>\n",
       "      <th>98126</th>\n",
       "      <td>OWID_LMC</td>\n",
       "      <td>0</td>\n",
       "      <td>Lower middle income</td>\n",
       "      <td>2020-01-26</td>\n",
       "      <td>3.0</td>\n",
       "      <td>0.0</td>\n",
       "      <td>0.000</td>\n",
       "      <td>0.0</td>\n",
       "      <td>0.0</td>\n",
       "      <td>0.000</td>\n",
       "      <td>...</td>\n",
       "      <td>0.0</td>\n",
       "      <td>0.0</td>\n",
       "      <td>0.0</td>\n",
       "      <td>0.0</td>\n",
       "      <td>0.0</td>\n",
       "      <td>0.0</td>\n",
       "      <td>0.0</td>\n",
       "      <td>0.0</td>\n",
       "      <td>0.0</td>\n",
       "      <td>0.0</td>\n",
       "    </tr>\n",
       "    <tr>\n",
       "      <th>...</th>\n",
       "      <td>...</td>\n",
       "      <td>...</td>\n",
       "      <td>...</td>\n",
       "      <td>...</td>\n",
       "      <td>...</td>\n",
       "      <td>...</td>\n",
       "      <td>...</td>\n",
       "      <td>...</td>\n",
       "      <td>...</td>\n",
       "      <td>...</td>\n",
       "      <td>...</td>\n",
       "      <td>...</td>\n",
       "      <td>...</td>\n",
       "      <td>...</td>\n",
       "      <td>...</td>\n",
       "      <td>...</td>\n",
       "      <td>...</td>\n",
       "      <td>...</td>\n",
       "      <td>...</td>\n",
       "      <td>...</td>\n",
       "      <td>...</td>\n",
       "    </tr>\n",
       "    <tr>\n",
       "      <th>98955</th>\n",
       "      <td>OWID_LMC</td>\n",
       "      <td>0</td>\n",
       "      <td>Lower middle income</td>\n",
       "      <td>2022-05-04</td>\n",
       "      <td>90644426.0</td>\n",
       "      <td>9095.0</td>\n",
       "      <td>10628.000</td>\n",
       "      <td>1308518.0</td>\n",
       "      <td>161.0</td>\n",
       "      <td>117.857</td>\n",
       "      <td>...</td>\n",
       "      <td>0.0</td>\n",
       "      <td>0.0</td>\n",
       "      <td>0.0</td>\n",
       "      <td>0.0</td>\n",
       "      <td>0.0</td>\n",
       "      <td>0.0</td>\n",
       "      <td>0.0</td>\n",
       "      <td>0.0</td>\n",
       "      <td>0.0</td>\n",
       "      <td>0.0</td>\n",
       "    </tr>\n",
       "    <tr>\n",
       "      <th>98956</th>\n",
       "      <td>OWID_LMC</td>\n",
       "      <td>0</td>\n",
       "      <td>Lower middle income</td>\n",
       "      <td>2022-05-05</td>\n",
       "      <td>90654298.0</td>\n",
       "      <td>9872.0</td>\n",
       "      <td>10030.429</td>\n",
       "      <td>1308581.0</td>\n",
       "      <td>63.0</td>\n",
       "      <td>104.857</td>\n",
       "      <td>...</td>\n",
       "      <td>0.0</td>\n",
       "      <td>0.0</td>\n",
       "      <td>0.0</td>\n",
       "      <td>0.0</td>\n",
       "      <td>0.0</td>\n",
       "      <td>0.0</td>\n",
       "      <td>0.0</td>\n",
       "      <td>0.0</td>\n",
       "      <td>0.0</td>\n",
       "      <td>0.0</td>\n",
       "    </tr>\n",
       "    <tr>\n",
       "      <th>98957</th>\n",
       "      <td>OWID_LMC</td>\n",
       "      <td>0</td>\n",
       "      <td>Lower middle income</td>\n",
       "      <td>2022-05-06</td>\n",
       "      <td>90663443.0</td>\n",
       "      <td>9145.0</td>\n",
       "      <td>9047.000</td>\n",
       "      <td>1308642.0</td>\n",
       "      <td>61.0</td>\n",
       "      <td>94.000</td>\n",
       "      <td>...</td>\n",
       "      <td>0.0</td>\n",
       "      <td>0.0</td>\n",
       "      <td>0.0</td>\n",
       "      <td>0.0</td>\n",
       "      <td>0.0</td>\n",
       "      <td>0.0</td>\n",
       "      <td>0.0</td>\n",
       "      <td>0.0</td>\n",
       "      <td>0.0</td>\n",
       "      <td>0.0</td>\n",
       "    </tr>\n",
       "    <tr>\n",
       "      <th>98958</th>\n",
       "      <td>OWID_LMC</td>\n",
       "      <td>0</td>\n",
       "      <td>Lower middle income</td>\n",
       "      <td>2022-05-07</td>\n",
       "      <td>90671743.0</td>\n",
       "      <td>8300.0</td>\n",
       "      <td>8772.857</td>\n",
       "      <td>1308714.0</td>\n",
       "      <td>72.0</td>\n",
       "      <td>88.857</td>\n",
       "      <td>...</td>\n",
       "      <td>0.0</td>\n",
       "      <td>0.0</td>\n",
       "      <td>0.0</td>\n",
       "      <td>0.0</td>\n",
       "      <td>0.0</td>\n",
       "      <td>0.0</td>\n",
       "      <td>0.0</td>\n",
       "      <td>0.0</td>\n",
       "      <td>0.0</td>\n",
       "      <td>0.0</td>\n",
       "    </tr>\n",
       "    <tr>\n",
       "      <th>98959</th>\n",
       "      <td>OWID_LMC</td>\n",
       "      <td>0</td>\n",
       "      <td>Lower middle income</td>\n",
       "      <td>2022-05-08</td>\n",
       "      <td>90678922.0</td>\n",
       "      <td>7179.0</td>\n",
       "      <td>8416.571</td>\n",
       "      <td>1308769.0</td>\n",
       "      <td>55.0</td>\n",
       "      <td>78.714</td>\n",
       "      <td>...</td>\n",
       "      <td>0.0</td>\n",
       "      <td>0.0</td>\n",
       "      <td>0.0</td>\n",
       "      <td>0.0</td>\n",
       "      <td>0.0</td>\n",
       "      <td>0.0</td>\n",
       "      <td>0.0</td>\n",
       "      <td>0.0</td>\n",
       "      <td>0.0</td>\n",
       "      <td>0.0</td>\n",
       "    </tr>\n",
       "  </tbody>\n",
       "</table>\n",
       "<p>838 rows × 67 columns</p>\n",
       "</div>"
      ],
      "text/plain": [
       "       iso_code continent             location        date  total_cases  \\\n",
       "98122  OWID_LMC         0  Lower middle income  2020-01-22          0.0   \n",
       "98123  OWID_LMC         0  Lower middle income  2020-01-23          2.0   \n",
       "98124  OWID_LMC         0  Lower middle income  2020-01-24          2.0   \n",
       "98125  OWID_LMC         0  Lower middle income  2020-01-25          3.0   \n",
       "98126  OWID_LMC         0  Lower middle income  2020-01-26          3.0   \n",
       "...         ...       ...                  ...         ...          ...   \n",
       "98955  OWID_LMC         0  Lower middle income  2022-05-04   90644426.0   \n",
       "98956  OWID_LMC         0  Lower middle income  2022-05-05   90654298.0   \n",
       "98957  OWID_LMC         0  Lower middle income  2022-05-06   90663443.0   \n",
       "98958  OWID_LMC         0  Lower middle income  2022-05-07   90671743.0   \n",
       "98959  OWID_LMC         0  Lower middle income  2022-05-08   90678922.0   \n",
       "\n",
       "       new_cases  new_cases_smoothed  total_deaths  new_deaths  \\\n",
       "98122        0.0               0.000           0.0         0.0   \n",
       "98123        2.0               0.000           0.0         0.0   \n",
       "98124        0.0               0.000           0.0         0.0   \n",
       "98125        1.0               0.000           0.0         0.0   \n",
       "98126        0.0               0.000           0.0         0.0   \n",
       "...          ...                 ...           ...         ...   \n",
       "98955     9095.0           10628.000     1308518.0       161.0   \n",
       "98956     9872.0           10030.429     1308581.0        63.0   \n",
       "98957     9145.0            9047.000     1308642.0        61.0   \n",
       "98958     8300.0            8772.857     1308714.0        72.0   \n",
       "98959     7179.0            8416.571     1308769.0        55.0   \n",
       "\n",
       "       new_deaths_smoothed  ...  female_smokers  male_smokers  \\\n",
       "98122                0.000  ...             0.0           0.0   \n",
       "98123                0.000  ...             0.0           0.0   \n",
       "98124                0.000  ...             0.0           0.0   \n",
       "98125                0.000  ...             0.0           0.0   \n",
       "98126                0.000  ...             0.0           0.0   \n",
       "...                    ...  ...             ...           ...   \n",
       "98955              117.857  ...             0.0           0.0   \n",
       "98956              104.857  ...             0.0           0.0   \n",
       "98957               94.000  ...             0.0           0.0   \n",
       "98958               88.857  ...             0.0           0.0   \n",
       "98959               78.714  ...             0.0           0.0   \n",
       "\n",
       "       handwashing_facilities  hospital_beds_per_thousand  life_expectancy  \\\n",
       "98122                     0.0                         0.0              0.0   \n",
       "98123                     0.0                         0.0              0.0   \n",
       "98124                     0.0                         0.0              0.0   \n",
       "98125                     0.0                         0.0              0.0   \n",
       "98126                     0.0                         0.0              0.0   \n",
       "...                       ...                         ...              ...   \n",
       "98955                     0.0                         0.0              0.0   \n",
       "98956                     0.0                         0.0              0.0   \n",
       "98957                     0.0                         0.0              0.0   \n",
       "98958                     0.0                         0.0              0.0   \n",
       "98959                     0.0                         0.0              0.0   \n",
       "\n",
       "       human_development_index  excess_mortality_cumulative_absolute  \\\n",
       "98122                      0.0                                   0.0   \n",
       "98123                      0.0                                   0.0   \n",
       "98124                      0.0                                   0.0   \n",
       "98125                      0.0                                   0.0   \n",
       "98126                      0.0                                   0.0   \n",
       "...                        ...                                   ...   \n",
       "98955                      0.0                                   0.0   \n",
       "98956                      0.0                                   0.0   \n",
       "98957                      0.0                                   0.0   \n",
       "98958                      0.0                                   0.0   \n",
       "98959                      0.0                                   0.0   \n",
       "\n",
       "       excess_mortality_cumulative  excess_mortality  \\\n",
       "98122                          0.0               0.0   \n",
       "98123                          0.0               0.0   \n",
       "98124                          0.0               0.0   \n",
       "98125                          0.0               0.0   \n",
       "98126                          0.0               0.0   \n",
       "...                            ...               ...   \n",
       "98955                          0.0               0.0   \n",
       "98956                          0.0               0.0   \n",
       "98957                          0.0               0.0   \n",
       "98958                          0.0               0.0   \n",
       "98959                          0.0               0.0   \n",
       "\n",
       "       excess_mortality_cumulative_per_million  \n",
       "98122                                      0.0  \n",
       "98123                                      0.0  \n",
       "98124                                      0.0  \n",
       "98125                                      0.0  \n",
       "98126                                      0.0  \n",
       "...                                        ...  \n",
       "98955                                      0.0  \n",
       "98956                                      0.0  \n",
       "98957                                      0.0  \n",
       "98958                                      0.0  \n",
       "98959                                      0.0  \n",
       "\n",
       "[838 rows x 67 columns]"
      ]
     },
     "execution_count": 147,
     "metadata": {},
     "output_type": "execute_result"
    }
   ],
   "source": [
    "COVID[COVID['iso_code'] == 'OWID_LMC']"
   ]
  },
  {
   "cell_type": "code",
   "execution_count": 50,
   "metadata": {},
   "outputs": [],
   "source": [
    "GBMlmc = COVID[COVID['iso_code'] == 'OWID_LMC']"
   ]
  },
  {
   "cell_type": "code",
   "execution_count": 51,
   "metadata": {},
   "outputs": [],
   "source": [
    "X = GBMlmc[['total_cases',\n",
    " 'excess_mortality_cumulative_absolute',\n",
    " 'icu_patients',\n",
    " 'total_vaccinations',\n",
    " 'stringency_index',\n",
    " 'new_cases',\n",
    " 'weekly_hosp_admissions',\n",
    " 'weekly_icu_admissions',\n",
    " 'positive_rate',\n",
    " 'reproduction_rate',\n",
    "'new_tests',\n",
    "'total_tests']]\n",
    "y = GBMlmc['new_deaths']"
   ]
  },
  {
   "cell_type": "code",
   "execution_count": 52,
   "metadata": {},
   "outputs": [
    {
     "name": "stdout",
     "output_type": "stream",
     "text": [
      "0.9802447675617122\n",
      "0.9150074876723119\n"
     ]
    }
   ],
   "source": [
    "model = GradientBoostingRegressor()\n",
    "X_train, X_test, y_train, y_test = train_test_split(X, y, test_size=0.2, random_state=13)\n",
    "model.fit(X_train, y_train)\n",
    "print(model.score(X_train, y_train))\n",
    "print(model.score(X_test, y_test))"
   ]
  },
  {
   "cell_type": "code",
   "execution_count": 53,
   "metadata": {},
   "outputs": [],
   "source": [
    "scores.append(model.score(X_train, y_train))\n",
    "scores.append(model.score(X_test, y_test))"
   ]
  },
  {
   "cell_type": "code",
   "execution_count": 54,
   "metadata": {},
   "outputs": [
    {
     "data": {
      "text/plain": [
       "[0.9551275023217383,\n",
       " 0.8992301750136402,\n",
       " 0.9795926200845969,\n",
       " 0.9325836384085893,\n",
       " 0.9445566696956489,\n",
       " 0.8658287124443462,\n",
       " 0.9722506893865965,\n",
       " 0.937988295268103,\n",
       " 0.9802447675617122,\n",
       " 0.9150074876723119]"
      ]
     },
     "execution_count": 54,
     "metadata": {},
     "output_type": "execute_result"
    }
   ],
   "source": [
    "scores"
   ]
  },
  {
   "cell_type": "code",
   "execution_count": 152,
   "metadata": {},
   "outputs": [],
   "source": [
    "con = model.predict(X)\n",
    "GBMlmc = GBMlmc[['date', 'location', 'new_deaths']]\n",
    "GBMlmc['predict_death'] = con\n",
    "GBMlmc[GBMlmc['predict_death'] < 0] = 0\n",
    "GBMlmc.to_excel('./GBMlmc.xlsx')"
   ]
  },
  {
   "cell_type": "code",
   "execution_count": null,
   "metadata": {},
   "outputs": [],
   "source": []
  },
  {
   "cell_type": "code",
   "execution_count": 36,
   "metadata": {},
   "outputs": [],
   "source": [
    "from sklearn.ensemble import GradientBoostingRegressor"
   ]
  },
  {
   "cell_type": "code",
   "execution_count": 37,
   "metadata": {},
   "outputs": [],
   "source": [
    "GBMumc1 = COVID[COVID['iso_code'] == 'OWID_UMC']"
   ]
  },
  {
   "cell_type": "code",
   "execution_count": 38,
   "metadata": {},
   "outputs": [],
   "source": [
    "X = GBMumc1[['total_cases',\n",
    " 'excess_mortality_cumulative_absolute',\n",
    " 'icu_patients',\n",
    " 'total_vaccinations',\n",
    " 'stringency_index',\n",
    " 'new_cases',\n",
    " 'weekly_hosp_admissions',\n",
    " 'weekly_icu_admissions',\n",
    " 'positive_rate',\n",
    " 'reproduction_rate',\n",
    "'new_tests',\n",
    "'total_tests']]\n",
    "y = GBMumc1['new_deaths']"
   ]
  },
  {
   "cell_type": "code",
   "execution_count": null,
   "metadata": {},
   "outputs": [],
   "source": [
    "model = GradientBoostingRegressor()\n",
    "X_train, X_test, y_train, y_test = train_test_split(X, y, test_size=0.2, random_state=13)\n",
    "model.fit(X_train, y_train)\n",
    "print(model.score(X_train, y_train))\n",
    "print(model.score(X_test, y_test))"
   ]
  },
  {
   "cell_type": "code",
   "execution_count": 58,
   "metadata": {},
   "outputs": [],
   "source": [
    "X_train, X_test, y_train, y_test = train_test_split(X, y, test_size=0.2, random_state=13)"
   ]
  },
  {
   "cell_type": "code",
   "execution_count": 44,
   "metadata": {},
   "outputs": [
    {
     "data": {
      "text/plain": [
       "GradientBoostingRegressor()"
      ]
     },
     "execution_count": 44,
     "metadata": {},
     "output_type": "execute_result"
    }
   ],
   "source": [
    "model.fit(X_train, y_train)"
   ]
  },
  {
   "cell_type": "code",
   "execution_count": 46,
   "metadata": {},
   "outputs": [
    {
     "name": "stdout",
     "output_type": "stream",
     "text": [
      "0.9722506893865965\n"
     ]
    }
   ],
   "source": [
    "print(model.score(X_train, y_train))"
   ]
  },
  {
   "cell_type": "code",
   "execution_count": 48,
   "metadata": {},
   "outputs": [
    {
     "name": "stdout",
     "output_type": "stream",
     "text": [
      "0.9377411077857654\n"
     ]
    }
   ],
   "source": [
    "print(model.score(X_test, y_test))"
   ]
  },
  {
   "cell_type": "code",
   "execution_count": null,
   "metadata": {},
   "outputs": [],
   "source": [
    "start_time = time.time()\n",
    "gb_clf = GradientBoostingRegressor()\n",
    "gb_clf.fit(X_train, y_train)\n",
    "gb_pred = gb_clf.predict(X_test)\n",
    "print('Fit time: ', time.time() - start_time)\n",
    "print('ACC: ', accuracy_score(y_test, gb_pred))"
   ]
  },
  {
   "cell_type": "code",
   "execution_count": 49,
   "metadata": {},
   "outputs": [],
   "source": [
    "con = model.predict(X)\n",
    "GBMumc1 = GBMumc1[['date', 'location', 'new_deaths']]\n",
    "GBMumc1['predict_death'] = con\n",
    "GBMumc1.to_excel('./GBMumc1.xlsx')"
   ]
  },
  {
   "cell_type": "code",
   "execution_count": 8,
   "metadata": {},
   "outputs": [],
   "source": [
    "import xgboost as xgb \n",
    "from sklearn.metrics import mean_squared_error \n",
    "import pandas as pd \n",
    "import numpy as np"
   ]
  },
  {
   "cell_type": "code",
   "execution_count": 51,
   "metadata": {},
   "outputs": [],
   "source": [
    "xg_reg = xgb.XGBRegressor(objective ='reg:linear', \n",
    "                          colsample_bytree = 0.3, \n",
    "                          learning_rate = 0.1, \n",
    "                          max_depth = 5, \n",
    "                          alpha = 10, \n",
    "                          n_estimators = 10)"
   ]
  },
  {
   "cell_type": "code",
   "execution_count": 52,
   "metadata": {},
   "outputs": [],
   "source": [
    "pred = model.predict(X_test)"
   ]
  },
  {
   "cell_type": "code",
   "execution_count": 59,
   "metadata": {},
   "outputs": [
    {
     "name": "stdout",
     "output_type": "stream",
     "text": [
      "RMSE: 410.150774\n"
     ]
    }
   ],
   "source": [
    "from sklearn.metrics import mean_squared_error\n",
    "\n",
    "rmse = np.sqrt(mean_squared_error(y_test, pred)) \n",
    "print(\"RMSE: %f\" % (rmse))"
   ]
  },
  {
   "cell_type": "code",
   "execution_count": 55,
   "metadata": {},
   "outputs": [],
   "source": [
    "data_dmatrix = xgb.DMatrix(data=X,label=y)"
   ]
  },
  {
   "cell_type": "code",
   "execution_count": 56,
   "metadata": {},
   "outputs": [
    {
     "name": "stdout",
     "output_type": "stream",
     "text": [
      "[13:57:51] WARNING: c:\\ci\\xgboost-split_1638290375667\\work\\src\\objective\\regression_obj.cu:188: reg:linear is now deprecated in favor of reg:squarederror.\n",
      "[13:57:51] WARNING: c:\\ci\\xgboost-split_1638290375667\\work\\src\\objective\\regression_obj.cu:188: reg:linear is now deprecated in favor of reg:squarederror.\n",
      "[13:57:51] WARNING: c:\\ci\\xgboost-split_1638290375667\\work\\src\\objective\\regression_obj.cu:188: reg:linear is now deprecated in favor of reg:squarederror.\n"
     ]
    }
   ],
   "source": [
    "params = {\"objective\":\"reg:linear\",\n",
    "          'colsample_bytree': 0.3,\n",
    "          'learning_rate': 0.1,  \n",
    "          'max_depth': 5, \n",
    "          'alpha': 10} \n",
    "cv_results = xgb.cv(dtrain=data_dmatrix, \n",
    "                    params=params, \n",
    "                    nfold=3, \n",
    "                    num_boost_round=50,\n",
    "                    early_stopping_rounds=10,\n",
    "                    metrics=\"rmse\", \n",
    "                    as_pandas=True, \n",
    "                    seed=123)\n",
    "\n",
    "cv_results.head()"
   ]
  },
  {
   "cell_type": "code",
   "execution_count": 57,
   "metadata": {},
   "outputs": [
    {
     "data": {
      "text/html": [
       "<div>\n",
       "<style scoped>\n",
       "    .dataframe tbody tr th:only-of-type {\n",
       "        vertical-align: middle;\n",
       "    }\n",
       "\n",
       "    .dataframe tbody tr th {\n",
       "        vertical-align: top;\n",
       "    }\n",
       "\n",
       "    .dataframe thead th {\n",
       "        text-align: right;\n",
       "    }\n",
       "</style>\n",
       "<table border=\"1\" class=\"dataframe\">\n",
       "  <thead>\n",
       "    <tr style=\"text-align: right;\">\n",
       "      <th></th>\n",
       "      <th>train-rmse-mean</th>\n",
       "      <th>train-rmse-std</th>\n",
       "      <th>test-rmse-mean</th>\n",
       "      <th>test-rmse-std</th>\n",
       "    </tr>\n",
       "  </thead>\n",
       "  <tbody>\n",
       "    <tr>\n",
       "      <th>0</th>\n",
       "      <td>3115.919352</td>\n",
       "      <td>48.165859</td>\n",
       "      <td>3114.455648</td>\n",
       "      <td>95.842412</td>\n",
       "    </tr>\n",
       "    <tr>\n",
       "      <th>1</th>\n",
       "      <td>2852.512207</td>\n",
       "      <td>40.522019</td>\n",
       "      <td>2850.827799</td>\n",
       "      <td>97.317618</td>\n",
       "    </tr>\n",
       "    <tr>\n",
       "      <th>2</th>\n",
       "      <td>2607.955404</td>\n",
       "      <td>58.910034</td>\n",
       "      <td>2601.517904</td>\n",
       "      <td>68.267734</td>\n",
       "    </tr>\n",
       "    <tr>\n",
       "      <th>3</th>\n",
       "      <td>2395.468424</td>\n",
       "      <td>39.099944</td>\n",
       "      <td>2398.976318</td>\n",
       "      <td>73.352750</td>\n",
       "    </tr>\n",
       "    <tr>\n",
       "      <th>4</th>\n",
       "      <td>2237.893148</td>\n",
       "      <td>37.424947</td>\n",
       "      <td>2241.340169</td>\n",
       "      <td>75.670549</td>\n",
       "    </tr>\n",
       "  </tbody>\n",
       "</table>\n",
       "</div>"
      ],
      "text/plain": [
       "   train-rmse-mean  train-rmse-std  test-rmse-mean  test-rmse-std\n",
       "0      3115.919352       48.165859     3114.455648      95.842412\n",
       "1      2852.512207       40.522019     2850.827799      97.317618\n",
       "2      2607.955404       58.910034     2601.517904      68.267734\n",
       "3      2395.468424       39.099944     2398.976318      73.352750\n",
       "4      2237.893148       37.424947     2241.340169      75.670549"
      ]
     },
     "execution_count": 57,
     "metadata": {},
     "output_type": "execute_result"
    }
   ],
   "source": [
    "cv_results.head()"
   ]
  },
  {
   "cell_type": "markdown",
   "metadata": {},
   "source": [
    "## 한국"
   ]
  },
  {
   "cell_type": "code",
   "execution_count": 153,
   "metadata": {},
   "outputs": [
    {
     "data": {
      "text/html": [
       "<div>\n",
       "<style scoped>\n",
       "    .dataframe tbody tr th:only-of-type {\n",
       "        vertical-align: middle;\n",
       "    }\n",
       "\n",
       "    .dataframe tbody tr th {\n",
       "        vertical-align: top;\n",
       "    }\n",
       "\n",
       "    .dataframe thead th {\n",
       "        text-align: right;\n",
       "    }\n",
       "</style>\n",
       "<table border=\"1\" class=\"dataframe\">\n",
       "  <thead>\n",
       "    <tr style=\"text-align: right;\">\n",
       "      <th></th>\n",
       "      <th>iso_code</th>\n",
       "      <th>continent</th>\n",
       "      <th>location</th>\n",
       "      <th>date</th>\n",
       "      <th>total_cases</th>\n",
       "      <th>new_cases</th>\n",
       "      <th>new_cases_smoothed</th>\n",
       "      <th>total_deaths</th>\n",
       "      <th>new_deaths</th>\n",
       "      <th>new_deaths_smoothed</th>\n",
       "      <th>...</th>\n",
       "      <th>female_smokers</th>\n",
       "      <th>male_smokers</th>\n",
       "      <th>handwashing_facilities</th>\n",
       "      <th>hospital_beds_per_thousand</th>\n",
       "      <th>life_expectancy</th>\n",
       "      <th>human_development_index</th>\n",
       "      <th>excess_mortality_cumulative_absolute</th>\n",
       "      <th>excess_mortality_cumulative</th>\n",
       "      <th>excess_mortality</th>\n",
       "      <th>excess_mortality_cumulative_per_million</th>\n",
       "    </tr>\n",
       "  </thead>\n",
       "  <tbody>\n",
       "    <tr>\n",
       "      <th>154398</th>\n",
       "      <td>KOR</td>\n",
       "      <td>Asia</td>\n",
       "      <td>South Korea</td>\n",
       "      <td>2020-01-22</td>\n",
       "      <td>1.0</td>\n",
       "      <td>0.0</td>\n",
       "      <td>0.000</td>\n",
       "      <td>0.0</td>\n",
       "      <td>0.0</td>\n",
       "      <td>0.000</td>\n",
       "      <td>...</td>\n",
       "      <td>6.2</td>\n",
       "      <td>40.9</td>\n",
       "      <td>0.0</td>\n",
       "      <td>12.27</td>\n",
       "      <td>83.03</td>\n",
       "      <td>0.916</td>\n",
       "      <td>0.0</td>\n",
       "      <td>0.00</td>\n",
       "      <td>0.00</td>\n",
       "      <td>0.000000</td>\n",
       "    </tr>\n",
       "    <tr>\n",
       "      <th>154399</th>\n",
       "      <td>KOR</td>\n",
       "      <td>Asia</td>\n",
       "      <td>South Korea</td>\n",
       "      <td>2020-01-23</td>\n",
       "      <td>1.0</td>\n",
       "      <td>0.0</td>\n",
       "      <td>0.000</td>\n",
       "      <td>0.0</td>\n",
       "      <td>0.0</td>\n",
       "      <td>0.000</td>\n",
       "      <td>...</td>\n",
       "      <td>6.2</td>\n",
       "      <td>40.9</td>\n",
       "      <td>0.0</td>\n",
       "      <td>12.27</td>\n",
       "      <td>83.03</td>\n",
       "      <td>0.916</td>\n",
       "      <td>0.0</td>\n",
       "      <td>0.00</td>\n",
       "      <td>0.00</td>\n",
       "      <td>0.000000</td>\n",
       "    </tr>\n",
       "    <tr>\n",
       "      <th>154400</th>\n",
       "      <td>KOR</td>\n",
       "      <td>Asia</td>\n",
       "      <td>South Korea</td>\n",
       "      <td>2020-01-24</td>\n",
       "      <td>2.0</td>\n",
       "      <td>1.0</td>\n",
       "      <td>0.000</td>\n",
       "      <td>0.0</td>\n",
       "      <td>0.0</td>\n",
       "      <td>0.000</td>\n",
       "      <td>...</td>\n",
       "      <td>6.2</td>\n",
       "      <td>40.9</td>\n",
       "      <td>0.0</td>\n",
       "      <td>12.27</td>\n",
       "      <td>83.03</td>\n",
       "      <td>0.916</td>\n",
       "      <td>0.0</td>\n",
       "      <td>0.00</td>\n",
       "      <td>0.00</td>\n",
       "      <td>0.000000</td>\n",
       "    </tr>\n",
       "    <tr>\n",
       "      <th>154401</th>\n",
       "      <td>KOR</td>\n",
       "      <td>Asia</td>\n",
       "      <td>South Korea</td>\n",
       "      <td>2020-01-25</td>\n",
       "      <td>2.0</td>\n",
       "      <td>0.0</td>\n",
       "      <td>0.000</td>\n",
       "      <td>0.0</td>\n",
       "      <td>0.0</td>\n",
       "      <td>0.000</td>\n",
       "      <td>...</td>\n",
       "      <td>6.2</td>\n",
       "      <td>40.9</td>\n",
       "      <td>0.0</td>\n",
       "      <td>12.27</td>\n",
       "      <td>83.03</td>\n",
       "      <td>0.916</td>\n",
       "      <td>0.0</td>\n",
       "      <td>0.00</td>\n",
       "      <td>0.00</td>\n",
       "      <td>0.000000</td>\n",
       "    </tr>\n",
       "    <tr>\n",
       "      <th>154402</th>\n",
       "      <td>KOR</td>\n",
       "      <td>Asia</td>\n",
       "      <td>South Korea</td>\n",
       "      <td>2020-01-26</td>\n",
       "      <td>3.0</td>\n",
       "      <td>1.0</td>\n",
       "      <td>0.000</td>\n",
       "      <td>0.0</td>\n",
       "      <td>0.0</td>\n",
       "      <td>0.000</td>\n",
       "      <td>...</td>\n",
       "      <td>6.2</td>\n",
       "      <td>40.9</td>\n",
       "      <td>0.0</td>\n",
       "      <td>12.27</td>\n",
       "      <td>83.03</td>\n",
       "      <td>0.916</td>\n",
       "      <td>43.4</td>\n",
       "      <td>0.17</td>\n",
       "      <td>2.47</td>\n",
       "      <td>0.845918</td>\n",
       "    </tr>\n",
       "    <tr>\n",
       "      <th>...</th>\n",
       "      <td>...</td>\n",
       "      <td>...</td>\n",
       "      <td>...</td>\n",
       "      <td>...</td>\n",
       "      <td>...</td>\n",
       "      <td>...</td>\n",
       "      <td>...</td>\n",
       "      <td>...</td>\n",
       "      <td>...</td>\n",
       "      <td>...</td>\n",
       "      <td>...</td>\n",
       "      <td>...</td>\n",
       "      <td>...</td>\n",
       "      <td>...</td>\n",
       "      <td>...</td>\n",
       "      <td>...</td>\n",
       "      <td>...</td>\n",
       "      <td>...</td>\n",
       "      <td>...</td>\n",
       "      <td>...</td>\n",
       "      <td>...</td>\n",
       "    </tr>\n",
       "    <tr>\n",
       "      <th>155231</th>\n",
       "      <td>KOR</td>\n",
       "      <td>Asia</td>\n",
       "      <td>South Korea</td>\n",
       "      <td>2022-05-04</td>\n",
       "      <td>17438068.0</td>\n",
       "      <td>42277.0</td>\n",
       "      <td>50206.000</td>\n",
       "      <td>23158.0</td>\n",
       "      <td>79.0</td>\n",
       "      <td>98.857</td>\n",
       "      <td>...</td>\n",
       "      <td>6.2</td>\n",
       "      <td>40.9</td>\n",
       "      <td>0.0</td>\n",
       "      <td>12.27</td>\n",
       "      <td>83.03</td>\n",
       "      <td>0.916</td>\n",
       "      <td>0.0</td>\n",
       "      <td>0.00</td>\n",
       "      <td>0.00</td>\n",
       "      <td>0.000000</td>\n",
       "    </tr>\n",
       "    <tr>\n",
       "      <th>155232</th>\n",
       "      <td>KOR</td>\n",
       "      <td>Asia</td>\n",
       "      <td>South Korea</td>\n",
       "      <td>2022-05-05</td>\n",
       "      <td>17464782.0</td>\n",
       "      <td>26714.0</td>\n",
       "      <td>38595.143</td>\n",
       "      <td>23206.0</td>\n",
       "      <td>48.0</td>\n",
       "      <td>68.857</td>\n",
       "      <td>...</td>\n",
       "      <td>6.2</td>\n",
       "      <td>40.9</td>\n",
       "      <td>0.0</td>\n",
       "      <td>12.27</td>\n",
       "      <td>83.03</td>\n",
       "      <td>0.916</td>\n",
       "      <td>0.0</td>\n",
       "      <td>0.00</td>\n",
       "      <td>0.00</td>\n",
       "      <td>0.000000</td>\n",
       "    </tr>\n",
       "    <tr>\n",
       "      <th>155233</th>\n",
       "      <td>KOR</td>\n",
       "      <td>Asia</td>\n",
       "      <td>South Korea</td>\n",
       "      <td>2022-05-06</td>\n",
       "      <td>17504334.0</td>\n",
       "      <td>39552.0</td>\n",
       "      <td>38065.143</td>\n",
       "      <td>23289.0</td>\n",
       "      <td>83.0</td>\n",
       "      <td>70.714</td>\n",
       "      <td>...</td>\n",
       "      <td>6.2</td>\n",
       "      <td>40.9</td>\n",
       "      <td>0.0</td>\n",
       "      <td>12.27</td>\n",
       "      <td>83.03</td>\n",
       "      <td>0.916</td>\n",
       "      <td>0.0</td>\n",
       "      <td>0.00</td>\n",
       "      <td>0.00</td>\n",
       "      <td>0.000000</td>\n",
       "    </tr>\n",
       "    <tr>\n",
       "      <th>155234</th>\n",
       "      <td>KOR</td>\n",
       "      <td>Asia</td>\n",
       "      <td>South Korea</td>\n",
       "      <td>2022-05-07</td>\n",
       "      <td>17544398.0</td>\n",
       "      <td>40064.0</td>\n",
       "      <td>38392.714</td>\n",
       "      <td>23360.0</td>\n",
       "      <td>71.0</td>\n",
       "      <td>69.286</td>\n",
       "      <td>...</td>\n",
       "      <td>6.2</td>\n",
       "      <td>40.9</td>\n",
       "      <td>0.0</td>\n",
       "      <td>12.27</td>\n",
       "      <td>83.03</td>\n",
       "      <td>0.916</td>\n",
       "      <td>0.0</td>\n",
       "      <td>0.00</td>\n",
       "      <td>0.00</td>\n",
       "      <td>0.000000</td>\n",
       "    </tr>\n",
       "    <tr>\n",
       "      <th>155235</th>\n",
       "      <td>KOR</td>\n",
       "      <td>Asia</td>\n",
       "      <td>South Korea</td>\n",
       "      <td>2022-05-08</td>\n",
       "      <td>17564999.0</td>\n",
       "      <td>20601.0</td>\n",
       "      <td>38466.571</td>\n",
       "      <td>23400.0</td>\n",
       "      <td>40.0</td>\n",
       "      <td>63.143</td>\n",
       "      <td>...</td>\n",
       "      <td>6.2</td>\n",
       "      <td>40.9</td>\n",
       "      <td>0.0</td>\n",
       "      <td>12.27</td>\n",
       "      <td>83.03</td>\n",
       "      <td>0.916</td>\n",
       "      <td>0.0</td>\n",
       "      <td>0.00</td>\n",
       "      <td>0.00</td>\n",
       "      <td>0.000000</td>\n",
       "    </tr>\n",
       "  </tbody>\n",
       "</table>\n",
       "<p>838 rows × 67 columns</p>\n",
       "</div>"
      ],
      "text/plain": [
       "       iso_code continent     location        date  total_cases  new_cases  \\\n",
       "154398      KOR      Asia  South Korea  2020-01-22          1.0        0.0   \n",
       "154399      KOR      Asia  South Korea  2020-01-23          1.0        0.0   \n",
       "154400      KOR      Asia  South Korea  2020-01-24          2.0        1.0   \n",
       "154401      KOR      Asia  South Korea  2020-01-25          2.0        0.0   \n",
       "154402      KOR      Asia  South Korea  2020-01-26          3.0        1.0   \n",
       "...         ...       ...          ...         ...          ...        ...   \n",
       "155231      KOR      Asia  South Korea  2022-05-04   17438068.0    42277.0   \n",
       "155232      KOR      Asia  South Korea  2022-05-05   17464782.0    26714.0   \n",
       "155233      KOR      Asia  South Korea  2022-05-06   17504334.0    39552.0   \n",
       "155234      KOR      Asia  South Korea  2022-05-07   17544398.0    40064.0   \n",
       "155235      KOR      Asia  South Korea  2022-05-08   17564999.0    20601.0   \n",
       "\n",
       "        new_cases_smoothed  total_deaths  new_deaths  new_deaths_smoothed  \\\n",
       "154398               0.000           0.0         0.0                0.000   \n",
       "154399               0.000           0.0         0.0                0.000   \n",
       "154400               0.000           0.0         0.0                0.000   \n",
       "154401               0.000           0.0         0.0                0.000   \n",
       "154402               0.000           0.0         0.0                0.000   \n",
       "...                    ...           ...         ...                  ...   \n",
       "155231           50206.000       23158.0        79.0               98.857   \n",
       "155232           38595.143       23206.0        48.0               68.857   \n",
       "155233           38065.143       23289.0        83.0               70.714   \n",
       "155234           38392.714       23360.0        71.0               69.286   \n",
       "155235           38466.571       23400.0        40.0               63.143   \n",
       "\n",
       "        ...  female_smokers  male_smokers  handwashing_facilities  \\\n",
       "154398  ...             6.2          40.9                     0.0   \n",
       "154399  ...             6.2          40.9                     0.0   \n",
       "154400  ...             6.2          40.9                     0.0   \n",
       "154401  ...             6.2          40.9                     0.0   \n",
       "154402  ...             6.2          40.9                     0.0   \n",
       "...     ...             ...           ...                     ...   \n",
       "155231  ...             6.2          40.9                     0.0   \n",
       "155232  ...             6.2          40.9                     0.0   \n",
       "155233  ...             6.2          40.9                     0.0   \n",
       "155234  ...             6.2          40.9                     0.0   \n",
       "155235  ...             6.2          40.9                     0.0   \n",
       "\n",
       "        hospital_beds_per_thousand  life_expectancy  human_development_index  \\\n",
       "154398                       12.27            83.03                    0.916   \n",
       "154399                       12.27            83.03                    0.916   \n",
       "154400                       12.27            83.03                    0.916   \n",
       "154401                       12.27            83.03                    0.916   \n",
       "154402                       12.27            83.03                    0.916   \n",
       "...                            ...              ...                      ...   \n",
       "155231                       12.27            83.03                    0.916   \n",
       "155232                       12.27            83.03                    0.916   \n",
       "155233                       12.27            83.03                    0.916   \n",
       "155234                       12.27            83.03                    0.916   \n",
       "155235                       12.27            83.03                    0.916   \n",
       "\n",
       "        excess_mortality_cumulative_absolute  excess_mortality_cumulative  \\\n",
       "154398                                   0.0                         0.00   \n",
       "154399                                   0.0                         0.00   \n",
       "154400                                   0.0                         0.00   \n",
       "154401                                   0.0                         0.00   \n",
       "154402                                  43.4                         0.17   \n",
       "...                                      ...                          ...   \n",
       "155231                                   0.0                         0.00   \n",
       "155232                                   0.0                         0.00   \n",
       "155233                                   0.0                         0.00   \n",
       "155234                                   0.0                         0.00   \n",
       "155235                                   0.0                         0.00   \n",
       "\n",
       "        excess_mortality  excess_mortality_cumulative_per_million  \n",
       "154398              0.00                                 0.000000  \n",
       "154399              0.00                                 0.000000  \n",
       "154400              0.00                                 0.000000  \n",
       "154401              0.00                                 0.000000  \n",
       "154402              2.47                                 0.845918  \n",
       "...                  ...                                      ...  \n",
       "155231              0.00                                 0.000000  \n",
       "155232              0.00                                 0.000000  \n",
       "155233              0.00                                 0.000000  \n",
       "155234              0.00                                 0.000000  \n",
       "155235              0.00                                 0.000000  \n",
       "\n",
       "[838 rows x 67 columns]"
      ]
     },
     "execution_count": 153,
     "metadata": {},
     "output_type": "execute_result"
    }
   ],
   "source": [
    "COVID[COVID['iso_code'] == 'KOR']"
   ]
  },
  {
   "cell_type": "code",
   "execution_count": 55,
   "metadata": {},
   "outputs": [
    {
     "name": "stdout",
     "output_type": "stream",
     "text": [
      "0.9945211611775414\n",
      "0.8696131719319733\n"
     ]
    }
   ],
   "source": [
    "GBMkr = COVID[COVID['iso_code'] == 'KOR']\n",
    "\n",
    "X = GBMkr[['total_cases',\n",
    " 'excess_mortality_cumulative_absolute',\n",
    " 'icu_patients',\n",
    " 'total_vaccinations',\n",
    " 'stringency_index',\n",
    " 'new_cases',\n",
    " 'weekly_hosp_admissions',\n",
    " 'weekly_icu_admissions',\n",
    " 'positive_rate',\n",
    " 'reproduction_rate',\n",
    "'new_tests',\n",
    "'total_tests']]\n",
    "y = GBMkr['new_deaths']\n",
    "\n",
    "model = GradientBoostingRegressor()\n",
    "X_train, X_test, y_train, y_test = train_test_split(X, y, test_size=0.2, random_state=13)\n",
    "model.fit(X_train, y_train)\n",
    "print(model.score(X_train, y_train))\n",
    "print(model.score(X_test, y_test))\n",
    "\n",
    "con = model.predict(X)\n",
    "GBMkr = GBMkr[['date', 'location', 'new_deaths']]\n",
    "GBMkr['predict_death'] = con\n",
    "GBMkr.to_excel('./GBMkr.xlsx')\n"
   ]
  },
  {
   "cell_type": "code",
   "execution_count": 56,
   "metadata": {},
   "outputs": [],
   "source": [
    "scores.append(model.score(X_train, y_train))\n",
    "scores.append(model.score(X_test, y_test))"
   ]
  },
  {
   "cell_type": "markdown",
   "metadata": {},
   "source": [
    "## 일본"
   ]
  },
  {
   "cell_type": "code",
   "execution_count": 57,
   "metadata": {},
   "outputs": [],
   "source": [
    "GBMjpn = COVID[COVID['iso_code'] == 'JPN']"
   ]
  },
  {
   "cell_type": "code",
   "execution_count": 58,
   "metadata": {},
   "outputs": [],
   "source": [
    "X = GBMjpn[['total_cases',\n",
    " 'excess_mortality_cumulative_absolute',\n",
    " 'icu_patients',\n",
    " 'total_vaccinations',\n",
    " 'stringency_index',\n",
    " 'new_cases',\n",
    " 'weekly_hosp_admissions',\n",
    " 'weekly_icu_admissions',\n",
    " 'positive_rate',\n",
    " 'reproduction_rate',\n",
    "'new_tests',\n",
    "'total_tests']]\n",
    "y = GBMjpn['new_deaths']"
   ]
  },
  {
   "cell_type": "code",
   "execution_count": 59,
   "metadata": {},
   "outputs": [
    {
     "name": "stdout",
     "output_type": "stream",
     "text": [
      "0.9751001812920634\n",
      "0.9176896559363463\n"
     ]
    }
   ],
   "source": [
    "model = GradientBoostingRegressor()\n",
    "X_train, X_test, y_train, y_test = train_test_split(X, y, test_size=0.2, random_state=13)\n",
    "model.fit(X_train, y_train)\n",
    "print(model.score(X_train, y_train))\n",
    "print(model.score(X_test, y_test))"
   ]
  },
  {
   "cell_type": "code",
   "execution_count": 60,
   "metadata": {},
   "outputs": [],
   "source": [
    "scores.append(model.score(X_train, y_train))\n",
    "scores.append(model.score(X_test, y_test))"
   ]
  },
  {
   "cell_type": "code",
   "execution_count": 141,
   "metadata": {},
   "outputs": [],
   "source": [
    "con = model.predict(X)\n",
    "GBMjpn = GBMjpn[['date', 'location', 'new_deaths']]\n",
    "GBMjpn['predict_death'] = con\n",
    "GBMjpn.to_excel('./GBMjpn.xlsx')"
   ]
  },
  {
   "cell_type": "code",
   "execution_count": null,
   "metadata": {},
   "outputs": [],
   "source": []
  },
  {
   "cell_type": "code",
   "execution_count": null,
   "metadata": {},
   "outputs": [],
   "source": []
  },
  {
   "cell_type": "markdown",
   "metadata": {},
   "source": [
    "## 미국"
   ]
  },
  {
   "cell_type": "code",
   "execution_count": 136,
   "metadata": {},
   "outputs": [
    {
     "data": {
      "text/html": [
       "<div>\n",
       "<style scoped>\n",
       "    .dataframe tbody tr th:only-of-type {\n",
       "        vertical-align: middle;\n",
       "    }\n",
       "\n",
       "    .dataframe tbody tr th {\n",
       "        vertical-align: top;\n",
       "    }\n",
       "\n",
       "    .dataframe thead th {\n",
       "        text-align: right;\n",
       "    }\n",
       "</style>\n",
       "<table border=\"1\" class=\"dataframe\">\n",
       "  <thead>\n",
       "    <tr style=\"text-align: right;\">\n",
       "      <th></th>\n",
       "      <th>iso_code</th>\n",
       "      <th>continent</th>\n",
       "      <th>location</th>\n",
       "      <th>date</th>\n",
       "      <th>total_cases</th>\n",
       "      <th>new_cases</th>\n",
       "      <th>new_cases_smoothed</th>\n",
       "      <th>total_deaths</th>\n",
       "      <th>new_deaths</th>\n",
       "      <th>new_deaths_smoothed</th>\n",
       "      <th>...</th>\n",
       "      <th>female_smokers</th>\n",
       "      <th>male_smokers</th>\n",
       "      <th>handwashing_facilities</th>\n",
       "      <th>hospital_beds_per_thousand</th>\n",
       "      <th>life_expectancy</th>\n",
       "      <th>human_development_index</th>\n",
       "      <th>excess_mortality_cumulative_absolute</th>\n",
       "      <th>excess_mortality_cumulative</th>\n",
       "      <th>excess_mortality</th>\n",
       "      <th>excess_mortality_cumulative_per_million</th>\n",
       "    </tr>\n",
       "  </thead>\n",
       "  <tbody>\n",
       "    <tr>\n",
       "      <th>174033</th>\n",
       "      <td>USA</td>\n",
       "      <td>North America</td>\n",
       "      <td>United States</td>\n",
       "      <td>2020-01-22</td>\n",
       "      <td>1.0</td>\n",
       "      <td>0.0</td>\n",
       "      <td>0.000</td>\n",
       "      <td>0.0</td>\n",
       "      <td>0.0</td>\n",
       "      <td>0.000</td>\n",
       "      <td>...</td>\n",
       "      <td>19.1</td>\n",
       "      <td>24.6</td>\n",
       "      <td>0.0</td>\n",
       "      <td>2.77</td>\n",
       "      <td>78.86</td>\n",
       "      <td>0.926</td>\n",
       "      <td>0.0</td>\n",
       "      <td>0.00</td>\n",
       "      <td>0.00</td>\n",
       "      <td>0.000000</td>\n",
       "    </tr>\n",
       "    <tr>\n",
       "      <th>174034</th>\n",
       "      <td>USA</td>\n",
       "      <td>North America</td>\n",
       "      <td>United States</td>\n",
       "      <td>2020-01-23</td>\n",
       "      <td>1.0</td>\n",
       "      <td>0.0</td>\n",
       "      <td>0.000</td>\n",
       "      <td>0.0</td>\n",
       "      <td>0.0</td>\n",
       "      <td>0.000</td>\n",
       "      <td>...</td>\n",
       "      <td>19.1</td>\n",
       "      <td>24.6</td>\n",
       "      <td>0.0</td>\n",
       "      <td>2.77</td>\n",
       "      <td>78.86</td>\n",
       "      <td>0.926</td>\n",
       "      <td>0.0</td>\n",
       "      <td>0.00</td>\n",
       "      <td>0.00</td>\n",
       "      <td>0.000000</td>\n",
       "    </tr>\n",
       "    <tr>\n",
       "      <th>174035</th>\n",
       "      <td>USA</td>\n",
       "      <td>North America</td>\n",
       "      <td>United States</td>\n",
       "      <td>2020-01-24</td>\n",
       "      <td>2.0</td>\n",
       "      <td>1.0</td>\n",
       "      <td>0.000</td>\n",
       "      <td>0.0</td>\n",
       "      <td>0.0</td>\n",
       "      <td>0.000</td>\n",
       "      <td>...</td>\n",
       "      <td>19.1</td>\n",
       "      <td>24.6</td>\n",
       "      <td>0.0</td>\n",
       "      <td>2.77</td>\n",
       "      <td>78.86</td>\n",
       "      <td>0.926</td>\n",
       "      <td>0.0</td>\n",
       "      <td>0.00</td>\n",
       "      <td>0.00</td>\n",
       "      <td>0.000000</td>\n",
       "    </tr>\n",
       "    <tr>\n",
       "      <th>174036</th>\n",
       "      <td>USA</td>\n",
       "      <td>North America</td>\n",
       "      <td>United States</td>\n",
       "      <td>2020-01-25</td>\n",
       "      <td>2.0</td>\n",
       "      <td>0.0</td>\n",
       "      <td>0.000</td>\n",
       "      <td>0.0</td>\n",
       "      <td>0.0</td>\n",
       "      <td>0.000</td>\n",
       "      <td>...</td>\n",
       "      <td>19.1</td>\n",
       "      <td>24.6</td>\n",
       "      <td>0.0</td>\n",
       "      <td>2.77</td>\n",
       "      <td>78.86</td>\n",
       "      <td>0.926</td>\n",
       "      <td>0.0</td>\n",
       "      <td>0.00</td>\n",
       "      <td>0.00</td>\n",
       "      <td>0.000000</td>\n",
       "    </tr>\n",
       "    <tr>\n",
       "      <th>174037</th>\n",
       "      <td>USA</td>\n",
       "      <td>North America</td>\n",
       "      <td>United States</td>\n",
       "      <td>2020-01-26</td>\n",
       "      <td>5.0</td>\n",
       "      <td>3.0</td>\n",
       "      <td>0.000</td>\n",
       "      <td>0.0</td>\n",
       "      <td>0.0</td>\n",
       "      <td>0.000</td>\n",
       "      <td>...</td>\n",
       "      <td>19.1</td>\n",
       "      <td>24.6</td>\n",
       "      <td>0.0</td>\n",
       "      <td>2.77</td>\n",
       "      <td>78.86</td>\n",
       "      <td>0.926</td>\n",
       "      <td>-8926.0</td>\n",
       "      <td>-3.59</td>\n",
       "      <td>-2.63</td>\n",
       "      <td>-26.811643</td>\n",
       "    </tr>\n",
       "    <tr>\n",
       "      <th>...</th>\n",
       "      <td>...</td>\n",
       "      <td>...</td>\n",
       "      <td>...</td>\n",
       "      <td>...</td>\n",
       "      <td>...</td>\n",
       "      <td>...</td>\n",
       "      <td>...</td>\n",
       "      <td>...</td>\n",
       "      <td>...</td>\n",
       "      <td>...</td>\n",
       "      <td>...</td>\n",
       "      <td>...</td>\n",
       "      <td>...</td>\n",
       "      <td>...</td>\n",
       "      <td>...</td>\n",
       "      <td>...</td>\n",
       "      <td>...</td>\n",
       "      <td>...</td>\n",
       "      <td>...</td>\n",
       "      <td>...</td>\n",
       "      <td>...</td>\n",
       "    </tr>\n",
       "    <tr>\n",
       "      <th>174866</th>\n",
       "      <td>USA</td>\n",
       "      <td>North America</td>\n",
       "      <td>United States</td>\n",
       "      <td>2022-05-04</td>\n",
       "      <td>81620383.0</td>\n",
       "      <td>114308.0</td>\n",
       "      <td>61513.429</td>\n",
       "      <td>996704.0</td>\n",
       "      <td>1960.0</td>\n",
       "      <td>556.571</td>\n",
       "      <td>...</td>\n",
       "      <td>19.1</td>\n",
       "      <td>24.6</td>\n",
       "      <td>0.0</td>\n",
       "      <td>2.77</td>\n",
       "      <td>78.86</td>\n",
       "      <td>0.926</td>\n",
       "      <td>0.0</td>\n",
       "      <td>0.00</td>\n",
       "      <td>0.00</td>\n",
       "      <td>0.000000</td>\n",
       "    </tr>\n",
       "    <tr>\n",
       "      <th>174867</th>\n",
       "      <td>USA</td>\n",
       "      <td>North America</td>\n",
       "      <td>United States</td>\n",
       "      <td>2022-05-05</td>\n",
       "      <td>81694580.0</td>\n",
       "      <td>74197.0</td>\n",
       "      <td>61635.000</td>\n",
       "      <td>996964.0</td>\n",
       "      <td>260.0</td>\n",
       "      <td>542.857</td>\n",
       "      <td>...</td>\n",
       "      <td>19.1</td>\n",
       "      <td>24.6</td>\n",
       "      <td>0.0</td>\n",
       "      <td>2.77</td>\n",
       "      <td>78.86</td>\n",
       "      <td>0.926</td>\n",
       "      <td>0.0</td>\n",
       "      <td>0.00</td>\n",
       "      <td>0.00</td>\n",
       "      <td>0.000000</td>\n",
       "    </tr>\n",
       "    <tr>\n",
       "      <th>174868</th>\n",
       "      <td>USA</td>\n",
       "      <td>North America</td>\n",
       "      <td>United States</td>\n",
       "      <td>2022-05-06</td>\n",
       "      <td>81831854.0</td>\n",
       "      <td>137274.0</td>\n",
       "      <td>72666.857</td>\n",
       "      <td>997318.0</td>\n",
       "      <td>354.0</td>\n",
       "      <td>532.857</td>\n",
       "      <td>...</td>\n",
       "      <td>19.1</td>\n",
       "      <td>24.6</td>\n",
       "      <td>0.0</td>\n",
       "      <td>2.77</td>\n",
       "      <td>78.86</td>\n",
       "      <td>0.926</td>\n",
       "      <td>0.0</td>\n",
       "      <td>0.00</td>\n",
       "      <td>0.00</td>\n",
       "      <td>0.000000</td>\n",
       "    </tr>\n",
       "    <tr>\n",
       "      <th>174869</th>\n",
       "      <td>USA</td>\n",
       "      <td>North America</td>\n",
       "      <td>United States</td>\n",
       "      <td>2022-05-07</td>\n",
       "      <td>81858744.0</td>\n",
       "      <td>26890.0</td>\n",
       "      <td>73172.714</td>\n",
       "      <td>997503.0</td>\n",
       "      <td>185.0</td>\n",
       "      <td>541.571</td>\n",
       "      <td>...</td>\n",
       "      <td>19.1</td>\n",
       "      <td>24.6</td>\n",
       "      <td>0.0</td>\n",
       "      <td>2.77</td>\n",
       "      <td>78.86</td>\n",
       "      <td>0.926</td>\n",
       "      <td>0.0</td>\n",
       "      <td>0.00</td>\n",
       "      <td>0.00</td>\n",
       "      <td>0.000000</td>\n",
       "    </tr>\n",
       "    <tr>\n",
       "      <th>174870</th>\n",
       "      <td>USA</td>\n",
       "      <td>North America</td>\n",
       "      <td>United States</td>\n",
       "      <td>2022-05-08</td>\n",
       "      <td>81863725.0</td>\n",
       "      <td>4981.0</td>\n",
       "      <td>71576.714</td>\n",
       "      <td>997526.0</td>\n",
       "      <td>23.0</td>\n",
       "      <td>541.857</td>\n",
       "      <td>...</td>\n",
       "      <td>19.1</td>\n",
       "      <td>24.6</td>\n",
       "      <td>0.0</td>\n",
       "      <td>2.77</td>\n",
       "      <td>78.86</td>\n",
       "      <td>0.926</td>\n",
       "      <td>0.0</td>\n",
       "      <td>0.00</td>\n",
       "      <td>0.00</td>\n",
       "      <td>0.000000</td>\n",
       "    </tr>\n",
       "  </tbody>\n",
       "</table>\n",
       "<p>838 rows × 67 columns</p>\n",
       "</div>"
      ],
      "text/plain": [
       "       iso_code      continent       location        date  total_cases  \\\n",
       "174033      USA  North America  United States  2020-01-22          1.0   \n",
       "174034      USA  North America  United States  2020-01-23          1.0   \n",
       "174035      USA  North America  United States  2020-01-24          2.0   \n",
       "174036      USA  North America  United States  2020-01-25          2.0   \n",
       "174037      USA  North America  United States  2020-01-26          5.0   \n",
       "...         ...            ...            ...         ...          ...   \n",
       "174866      USA  North America  United States  2022-05-04   81620383.0   \n",
       "174867      USA  North America  United States  2022-05-05   81694580.0   \n",
       "174868      USA  North America  United States  2022-05-06   81831854.0   \n",
       "174869      USA  North America  United States  2022-05-07   81858744.0   \n",
       "174870      USA  North America  United States  2022-05-08   81863725.0   \n",
       "\n",
       "        new_cases  new_cases_smoothed  total_deaths  new_deaths  \\\n",
       "174033        0.0               0.000           0.0         0.0   \n",
       "174034        0.0               0.000           0.0         0.0   \n",
       "174035        1.0               0.000           0.0         0.0   \n",
       "174036        0.0               0.000           0.0         0.0   \n",
       "174037        3.0               0.000           0.0         0.0   \n",
       "...           ...                 ...           ...         ...   \n",
       "174866   114308.0           61513.429      996704.0      1960.0   \n",
       "174867    74197.0           61635.000      996964.0       260.0   \n",
       "174868   137274.0           72666.857      997318.0       354.0   \n",
       "174869    26890.0           73172.714      997503.0       185.0   \n",
       "174870     4981.0           71576.714      997526.0        23.0   \n",
       "\n",
       "        new_deaths_smoothed  ...  female_smokers  male_smokers  \\\n",
       "174033                0.000  ...            19.1          24.6   \n",
       "174034                0.000  ...            19.1          24.6   \n",
       "174035                0.000  ...            19.1          24.6   \n",
       "174036                0.000  ...            19.1          24.6   \n",
       "174037                0.000  ...            19.1          24.6   \n",
       "...                     ...  ...             ...           ...   \n",
       "174866              556.571  ...            19.1          24.6   \n",
       "174867              542.857  ...            19.1          24.6   \n",
       "174868              532.857  ...            19.1          24.6   \n",
       "174869              541.571  ...            19.1          24.6   \n",
       "174870              541.857  ...            19.1          24.6   \n",
       "\n",
       "        handwashing_facilities  hospital_beds_per_thousand  life_expectancy  \\\n",
       "174033                     0.0                        2.77            78.86   \n",
       "174034                     0.0                        2.77            78.86   \n",
       "174035                     0.0                        2.77            78.86   \n",
       "174036                     0.0                        2.77            78.86   \n",
       "174037                     0.0                        2.77            78.86   \n",
       "...                        ...                         ...              ...   \n",
       "174866                     0.0                        2.77            78.86   \n",
       "174867                     0.0                        2.77            78.86   \n",
       "174868                     0.0                        2.77            78.86   \n",
       "174869                     0.0                        2.77            78.86   \n",
       "174870                     0.0                        2.77            78.86   \n",
       "\n",
       "        human_development_index  excess_mortality_cumulative_absolute  \\\n",
       "174033                    0.926                                   0.0   \n",
       "174034                    0.926                                   0.0   \n",
       "174035                    0.926                                   0.0   \n",
       "174036                    0.926                                   0.0   \n",
       "174037                    0.926                               -8926.0   \n",
       "...                         ...                                   ...   \n",
       "174866                    0.926                                   0.0   \n",
       "174867                    0.926                                   0.0   \n",
       "174868                    0.926                                   0.0   \n",
       "174869                    0.926                                   0.0   \n",
       "174870                    0.926                                   0.0   \n",
       "\n",
       "        excess_mortality_cumulative  excess_mortality  \\\n",
       "174033                         0.00              0.00   \n",
       "174034                         0.00              0.00   \n",
       "174035                         0.00              0.00   \n",
       "174036                         0.00              0.00   \n",
       "174037                        -3.59             -2.63   \n",
       "...                             ...               ...   \n",
       "174866                         0.00              0.00   \n",
       "174867                         0.00              0.00   \n",
       "174868                         0.00              0.00   \n",
       "174869                         0.00              0.00   \n",
       "174870                         0.00              0.00   \n",
       "\n",
       "        excess_mortality_cumulative_per_million  \n",
       "174033                                 0.000000  \n",
       "174034                                 0.000000  \n",
       "174035                                 0.000000  \n",
       "174036                                 0.000000  \n",
       "174037                               -26.811643  \n",
       "...                                         ...  \n",
       "174866                                 0.000000  \n",
       "174867                                 0.000000  \n",
       "174868                                 0.000000  \n",
       "174869                                 0.000000  \n",
       "174870                                 0.000000  \n",
       "\n",
       "[838 rows x 67 columns]"
      ]
     },
     "execution_count": 136,
     "metadata": {},
     "output_type": "execute_result"
    }
   ],
   "source": [
    "COVID[COVID['iso_code'] == 'USA']"
   ]
  },
  {
   "cell_type": "code",
   "execution_count": 69,
   "metadata": {},
   "outputs": [],
   "source": [
    "# params = {\n",
    "#     \"n_estimators\": 500,\n",
    "#     \"max_depth\": 4,\n",
    "#     \"min_samples_split\": 5,\n",
    "#     \"learning_rate\": 0.01,\n",
    "#     \"loss\": \"squared_error\",\n",
    "# }"
   ]
  },
  {
   "cell_type": "code",
   "execution_count": 84,
   "metadata": {},
   "outputs": [
    {
     "name": "stdout",
     "output_type": "stream",
     "text": [
      "0.9587490568413294\n",
      "0.8944856655926633\n"
     ]
    }
   ],
   "source": [
    "GBMus = COVID[COVID['iso_code'] == 'USA']\n",
    "\n",
    "X = GBMus[['total_cases',\n",
    " 'excess_mortality_cumulative_absolute',\n",
    " 'icu_patients',\n",
    " 'total_vaccinations',\n",
    " 'stringency_index',\n",
    " 'new_cases',\n",
    " 'weekly_hosp_admissions',\n",
    " 'weekly_icu_admissions',\n",
    " 'positive_rate',\n",
    " 'reproduction_rate',\n",
    "'new_tests',\n",
    "'total_tests']]\n",
    "y = GBMus['new_deaths']\n",
    "\n",
    "model = GradientBoostingRegressor()\n",
    "X_train, X_test, y_train, y_test = train_test_split(X, y, test_size=0.2, random_state=13)\n",
    "model.fit(X_train, y_train)\n",
    "print(model.score(X_train, y_train))\n",
    "print(model.score(X_test, y_test))\n",
    "\n",
    "con = model.predict(X)\n",
    "GBMus = GBMus[['date', 'location', 'new_deaths']]\n",
    "GBMus['predict_death'] = con\n",
    "GBMus[GBMus['predict_death'] < 0] = 0\n",
    "GBMus.to_excel('./GBMus.xlsx')"
   ]
  },
  {
   "cell_type": "code",
   "execution_count": 62,
   "metadata": {},
   "outputs": [],
   "source": [
    "scores.append(model.score(X_train, y_train))\n",
    "scores.append(model.score(X_test, y_test))"
   ]
  },
  {
   "cell_type": "code",
   "execution_count": 85,
   "metadata": {},
   "outputs": [],
   "source": [
    "from sklearn.metrics import r2_score"
   ]
  },
  {
   "cell_type": "code",
   "execution_count": 87,
   "metadata": {},
   "outputs": [],
   "source": [
    "pred = model.predict(X_train)"
   ]
  },
  {
   "cell_type": "code",
   "execution_count": 88,
   "metadata": {},
   "outputs": [
    {
     "data": {
      "text/plain": [
       "0.9539081775526391"
      ]
     },
     "execution_count": 88,
     "metadata": {},
     "output_type": "execute_result"
    }
   ],
   "source": [
    "r2_score(pred, y_train)"
   ]
  },
  {
   "cell_type": "code",
   "execution_count": 64,
   "metadata": {},
   "outputs": [
    {
     "data": {
      "text/plain": [
       "[0.9551275023217383,\n",
       " 0.8992301750136402,\n",
       " 0.9795926200845969,\n",
       " 0.9325836384085893,\n",
       " 0.9445566696956489,\n",
       " 0.8658287124443462,\n",
       " 0.9722506893865965,\n",
       " 0.937988295268103,\n",
       " 0.9802447675617122,\n",
       " 0.9150074876723119,\n",
       " 0.9945211611775414,\n",
       " 0.8696131719319733,\n",
       " 0.9751001812920634,\n",
       " 0.9176896559363463,\n",
       " 0.9587490568413294,\n",
       " 0.8943751342642733]"
      ]
     },
     "execution_count": 64,
     "metadata": {},
     "output_type": "execute_result"
    }
   ],
   "source": [
    "scores"
   ]
  },
  {
   "cell_type": "code",
   "execution_count": null,
   "metadata": {},
   "outputs": [],
   "source": [
    "{'유럽': [0.9551275023217383,\n",
    " 0.8992301750136402],\n",
    " '아시아': [0.9795926200845969,\n",
    " 0.9325836384085893],\n",
    " '한국': [ 0.9945211611775414,\n",
    " 0.8696131719319733,],\n",
    " '일본': [0.9751001812920634,\n",
    " 0.9176896559363463,],\n",
    " '미국': [0.9587490568413294,\n",
    " 0.8943751342642733],\n",
    " '1 / 3 분위': [0.9445566696956489,\n",
    " 0.8658287124443462,],\n",
    " '2 / 3 분위': [0.9722506893865965,\n",
    " 0.937988295268103,],\n",
    " '3 / 3 분위': [0.9802447675617122,\n",
    " 0.9150074876723119,],}"
   ]
  },
  {
   "cell_type": "markdown",
   "metadata": {},
   "source": [
    "---"
   ]
  },
  {
   "cell_type": "code",
   "execution_count": 98,
   "metadata": {},
   "outputs": [],
   "source": [
    "from sklearn.model_selection import cross_val_score \n",
    "from sklearn.ensemble import RandomForestRegressor \n",
    "from sklearn.tree import DecisionTreeRegressor \n",
    "from sklearn.ensemble import GradientBoostingRegressor \n",
    "from lightgbm import LGBMRegressor \n",
    "import pandas as pd \n",
    "import numpy as np \n",
    "import seaborn as sns\n",
    "\n"
   ]
  },
  {
   "cell_type": "code",
   "execution_count": 124,
   "metadata": {},
   "outputs": [],
   "source": [
    "COVIDkor = COVID[COVID['iso_code'] == 'KOR']"
   ]
  },
  {
   "cell_type": "code",
   "execution_count": 125,
   "metadata": {},
   "outputs": [],
   "source": [
    "X = COVIDkor[['total_cases',\n",
    " 'excess_mortality_cumulative_absolute',\n",
    " 'icu_patients',\n",
    " 'total_vaccinations',\n",
    " 'stringency_index',\n",
    " 'new_cases',\n",
    " 'weekly_hosp_admissions',\n",
    " 'weekly_icu_admissions',\n",
    " 'positive_rate',\n",
    " 'reproduction_rate',\n",
    "'new_tests',\n",
    "'total_tests']]\n",
    "y = COVIDkor['new_deaths']"
   ]
  },
  {
   "cell_type": "code",
   "execution_count": 114,
   "metadata": {},
   "outputs": [
    {
     "name": "stdout",
     "output_type": "stream",
     "text": [
      "negative mse scores :  [-4.75000e+00 -8.37000e+00 -3.27400e+01 -1.42630e+02 -2.13674e+04]\n",
      "rmse scores :  [  2.18   2.89   5.72  11.94 146.18]\n",
      "avg socres :  34.0\n"
     ]
    }
   ],
   "source": [
    "rf = RandomForestRegressor() \n",
    "neg_mse_scores = cross_val_score(rf, X, y, scoring=\"neg_mean_squared_error\", cv =5) \n",
    "rmse_scores = np.sqrt(-1 * neg_mse_scores) \n",
    "avg_rmse = np.mean(rmse_scores) \n",
    "print(\"negative mse scores : \", np.round(neg_mse_scores, 2)) \n",
    "print(\"rmse scores : \",np.round(rmse_scores, 2)) \n",
    "print(\"avg socres : \", np.round(avg_rmse))\n",
    "\n"
   ]
  },
  {
   "cell_type": "code",
   "execution_count": 115,
   "metadata": {},
   "outputs": [
    {
     "name": "stdout",
     "output_type": "stream",
     "text": [
      "### DecisionTreeRegressor ###\n",
      "negative mse scores :  [-5.850000e+00 -1.515000e+01 -5.863000e+01 -1.278700e+02 -2.102359e+04]\n",
      "rmse scores :  [  2.42   3.89   7.66  11.31 145.  ]\n",
      "avg socres :  34.0\n",
      "### RandomForestRegressor ###\n",
      "negative mse scores :  [-4.750000e+00 -8.010000e+00 -3.209000e+01 -1.547600e+02 -2.152499e+04]\n",
      "rmse scores :  [  2.18   2.83   5.66  12.44 146.71]\n",
      "avg socres :  34.0\n",
      "### GradientBoostingRegressor ###\n",
      "negative mse scores :  [-3.585500e+02 -1.057000e+01 -2.702000e+01 -1.344800e+02 -2.148965e+04]\n",
      "rmse scores :  [ 18.94   3.25   5.2   11.6  146.59]\n",
      "avg socres :  37.0\n",
      "### LGBMRegressor ###\n",
      "negative mse scores :  [-1.005000e+01 -2.650000e+01 -3.517900e+02 -9.079000e+01 -2.233871e+04]\n",
      "rmse scores :  [  3.17   5.15  18.76   9.53 149.46]\n",
      "avg socres :  37.0\n"
     ]
    }
   ],
   "source": [
    "def get_model_cv_prediction(model, X, y): \n",
    "    neg_mse_scores = cross_val_score(model, X, y, scoring=\"neg_mean_squared_error\", cv =5) \n",
    "    rmse_scores = np.sqrt(-1 * neg_mse_scores) \n",
    "    avg_rmse = np.mean(rmse_scores) \n",
    "    print(\"### {} ###\".format(model.__class__.__name__)) \n",
    "    print(\"negative mse scores : \", np.round(neg_mse_scores, 2))\n",
    "    print(\"rmse scores : \",np.round(rmse_scores, 2)) \n",
    "    print(\"avg socres : \", np.round(avg_rmse)) \n",
    "dt = DecisionTreeRegressor() \n",
    "rf = RandomForestRegressor() \n",
    "gb = GradientBoostingRegressor() \n",
    "lgb = LGBMRegressor() \n",
    "models = [dt, rf, gb, lgb] \n",
    "for model in models: \n",
    "    get_model_cv_prediction(model, X, y )\n",
    "\n"
   ]
  },
  {
   "cell_type": "code",
   "execution_count": 121,
   "metadata": {},
   "outputs": [],
   "source": [
    "from xgboost import XGBRegressor"
   ]
  },
  {
   "cell_type": "code",
   "execution_count": 122,
   "metadata": {},
   "outputs": [],
   "source": [
    "xgb = XGBRegressor()"
   ]
  },
  {
   "cell_type": "code",
   "execution_count": 126,
   "metadata": {},
   "outputs": [
    {
     "data": {
      "text/plain": [
       "<matplotlib.axes._subplots.AxesSubplot at 0x1d7ad4e34f0>"
      ]
     },
     "execution_count": 126,
     "metadata": {},
     "output_type": "execute_result"
    },
    {
     "data": {
      "image/png": "[encoded data removed]",
      "text/plain": [
       "<Figure size 432x288 with 1 Axes>"
      ]
     },
     "metadata": {
      "needs_background": "light"
     },
     "output_type": "display_data"
    }
   ],
   "source": [
    "xgb.fit(X, y) \n",
    "feature_series = pd.Series(data=xgb.feature_importances_,index=X.columns) \n",
    "feature_series = feature_series.sort_values(ascending=False) \n",
    "sns.barplot(x = feature_series, y=feature_series.index)"
   ]
  },
  {
   "cell_type": "code",
   "execution_count": 116,
   "metadata": {},
   "outputs": [
    {
     "data": {
      "text/plain": [
       "<matplotlib.axes._subplots.AxesSubplot at 0x1dea73978e0>"
      ]
     },
     "execution_count": 116,
     "metadata": {},
     "output_type": "execute_result"
    },
    {
     "data": {
      "image/png": "[encoded data removed]",
      "text/plain": [
       "<Figure size 432x288 with 1 Axes>"
      ]
     },
     "metadata": {
      "needs_background": "light"
     },
     "output_type": "display_data"
    }
   ],
   "source": [
    "rf.fit(X, y) \n",
    "feature_series = pd.Series(data=rf.feature_importances_,index=X.columns) \n",
    "feature_series = feature_series.sort_values(ascending=False) \n",
    "sns.barplot(x = feature_series, y=feature_series.index)\n",
    "\n"
   ]
  },
  {
   "cell_type": "code",
   "execution_count": 117,
   "metadata": {},
   "outputs": [
    {
     "data": {
      "text/plain": [
       "<matplotlib.axes._subplots.AxesSubplot at 0x1dea74205e0>"
      ]
     },
     "execution_count": 117,
     "metadata": {},
     "output_type": "execute_result"
    },
    {
     "data": {
      "image/png": "[encoded data removed]",
      "text/plain": [
       "<Figure size 432x288 with 1 Axes>"
      ]
     },
     "metadata": {
      "needs_background": "light"
     },
     "output_type": "display_data"
    }
   ],
   "source": [
    "dt.fit(X, y) \n",
    "feature_series = pd.Series(data=dt.feature_importances_,index=X.columns) \n",
    "feature_series = feature_series.sort_values(ascending=False) \n",
    "sns.barplot(x = feature_series, y=feature_series.index)"
   ]
  },
  {
   "cell_type": "code",
   "execution_count": 118,
   "metadata": {},
   "outputs": [
    {
     "data": {
      "text/plain": [
       "<matplotlib.axes._subplots.AxesSubplot at 0x1dea74c42e0>"
      ]
     },
     "execution_count": 118,
     "metadata": {},
     "output_type": "execute_result"
    },
    {
     "data": {
      "image/png": "[encoded data removed]",
      "text/plain": [
       "<Figure size 432x288 with 1 Axes>"
      ]
     },
     "metadata": {
      "needs_background": "light"
     },
     "output_type": "display_data"
    }
   ],
   "source": [
    "gb.fit(X, y) \n",
    "feature_series = pd.Series(data=gb.feature_importances_,index=X.columns) \n",
    "feature_series = feature_series.sort_values(ascending=False) \n",
    "sns.barplot(x = feature_series, y=feature_series.index)"
   ]
  },
  {
   "cell_type": "code",
   "execution_count": 119,
   "metadata": {},
   "outputs": [
    {
     "data": {
      "text/plain": [
       "<matplotlib.axes._subplots.AxesSubplot at 0x1dea754ff70>"
      ]
     },
     "execution_count": 119,
     "metadata": {},
     "output_type": "execute_result"
    },
    {
     "data": {
      "image/png": "[encoded data removed]",
      "text/plain": [
       "<Figure size 432x288 with 1 Axes>"
      ]
     },
     "metadata": {
      "needs_background": "light"
     },
     "output_type": "display_data"
    }
   ],
   "source": [
    "lgb.fit(X, y) \n",
    "feature_series = pd.Series(data=lgb.feature_importances_,index=X.columns) \n",
    "feature_series = feature_series.sort_values(ascending=False) \n",
    "sns.barplot(x = feature_series, y=feature_series.index)"
   ]
  },
  {
   "cell_type": "code",
   "execution_count": 103,
   "metadata": {},
   "outputs": [],
   "source": [
    "from sklearn.linear_model import LinearRegression"
   ]
  },
  {
   "cell_type": "code",
   "execution_count": 120,
   "metadata": {},
   "outputs": [
    {
     "data": {
      "text/plain": [
       "[<matplotlib.lines.Line2D at 0x1dea7d68bb0>]"
      ]
     },
     "execution_count": 120,
     "metadata": {},
     "output_type": "execute_result"
    },
    {
     "data": {
      "image/png": "[encoded data removed]",
      "text/plain": [
       "<Figure size 1008x288 with 3 Axes>"
      ]
     },
     "metadata": {
      "needs_background": "light"
     },
     "output_type": "display_data"
    }
   ],
   "source": [
    "lr = LinearRegression() \n",
    "rf_dep2 = DecisionTreeRegressor(max_depth=2) \n",
    "rf_dep6 = DecisionTreeRegressor(max_depth=6) \n",
    "X_train = COVIDkor[\"total_tests\"].values.reshape(-1, 1) \n",
    "y_train = COVIDkor[\"new_deaths\"].values.reshape(-1, 1) \n",
    "lr.fit(X_train, y_train) \n",
    "rf_dep2.fit(X_train, y_train) \n",
    "rf_dep6.fit(X_train, y_train) \n",
    "X_test = np.linspace(5, 8, 100).reshape(-1, 1) \n",
    "pred_lr = lr.predict(X_test) \n",
    "pred_rf_dep2 = rf_dep2.predict(X_test) \n",
    "pred_rf_dep6 = rf_dep6.predict(X_test) \n",
    "fig, (ax1, ax2, ax3) = plt.subplots(figsize=(14, 4), ncols=3) \n",
    "\n",
    "ax1.set_title(\"linear regression\") \n",
    "ax1.scatter(COVIDkor.total_tests,COVIDkor.new_deaths) \n",
    "ax1.plot(X_test, pred_lr) \n",
    "ax2.set_title(\"RF depth 2\") \n",
    "ax2.scatter(COVIDkor.total_tests,COVIDkor.new_deaths) \n",
    "ax2.plot(X_test, pred_rf_dep2, color=\"red\") \n",
    "ax3.set_title(\"RF depth 6\") \n",
    "ax3.scatter(COVIDkor.total_tests,COVIDkor.new_deaths) \n",
    "ax3.plot(X_test, pred_rf_dep6, color=\"green\")\n"
   ]
  },
  {
   "cell_type": "code",
   "execution_count": null,
   "metadata": {},
   "outputs": [],
   "source": []
  },
  {
   "cell_type": "markdown",
   "metadata": {},
   "source": [
    "---"
   ]
  },
  {
   "cell_type": "code",
   "execution_count": null,
   "metadata": {},
   "outputs": [],
   "source": []
  },
  {
   "cell_type": "markdown",
   "metadata": {},
   "source": [
    "## 한국"
   ]
  },
  {
   "cell_type": "code",
   "execution_count": null,
   "metadata": {},
   "outputs": [],
   "source": []
  },
  {
   "cell_type": "code",
   "execution_count": null,
   "metadata": {},
   "outputs": [],
   "source": []
  },
  {
   "cell_type": "code",
   "execution_count": null,
   "metadata": {},
   "outputs": [],
   "source": [
    "gbc = GradientBoostingClassifier(max_depth=1, random_state=0)\n",
    "gbc.fit(X_train, y_train)\n",
    "n_feature = COVIDkor.data.shape[1]\n",
    "index=np.arange(n_feature)\n",
    "plt.barh(index, gbc.feature_importances_, align='center')\n",
    "plt.yticks(index, cancer.feature_names)\n",
    "plt.xlabel('feature importances', size=15)\n",
    "plt.ylabel('feature', size=15)\n",
    "plt.show()"
   ]
  },
  {
   "cell_type": "code",
   "execution_count": 63,
   "metadata": {},
   "outputs": [],
   "source": [
    "COVIDkor = COVID[COVID['iso_code'] == 'KOR']"
   ]
  },
  {
   "cell_type": "code",
   "execution_count": 95,
   "metadata": {},
   "outputs": [],
   "source": [
    "X = COVIDkor[['total_cases',\n",
    " 'excess_mortality_cumulative_absolute',\n",
    " 'icu_patients',\n",
    " 'total_vaccinations',\n",
    " 'stringency_index',\n",
    " 'new_cases',\n",
    " 'weekly_hosp_admissions',\n",
    " 'weekly_icu_admissions',\n",
    " 'positive_rate',\n",
    " 'reproduction_rate',\n",
    "'new_tests',\n",
    "'total_tests']]\n",
    "y = COVIDkor['new_deaths']"
   ]
  },
  {
   "cell_type": "code",
   "execution_count": 96,
   "metadata": {},
   "outputs": [],
   "source": [
    "X_train, X_test, y_train, y_test = train_test_split(X, y, test_size=0.2, random_state=13)"
   ]
  },
  {
   "cell_type": "code",
   "execution_count": 97,
   "metadata": {},
   "outputs": [
    {
     "name": "stdout",
     "output_type": "stream",
     "text": [
      "0.9945211611775414\n",
      "0.8676788790995996\n"
     ]
    }
   ],
   "source": [
    "model = GradientBoostingRegressor()\n",
    "X_train, X_test, y_train, y_test = train_test_split(X, y, test_size=0.2, random_state=13)\n",
    "model.fit(X_train, y_train)\n",
    "print(model.score(X_train, y_train))\n",
    "print(model.score(X_test, y_test))"
   ]
  },
  {
   "cell_type": "code",
   "execution_count": null,
   "metadata": {},
   "outputs": [],
   "source": [
    "gbc = GradientBoostingClassifier(max_depth=1, random_state=0)\n",
    "gbc.fit(X_train, y_train)\n",
    "n_feature = COVIDkor.data.shape[1]\n",
    "index=np.arange(n_feature)\n",
    "plt.barh(index, gbc.feature_importances_, align='center')\n",
    "plt.yticks(index, COVIDkor.feature_names)\n",
    "plt.xlabel('feature importances', size=15)\n",
    "plt.ylabel('feature', size=15)\n",
    "plt.show()"
   ]
  },
  {
   "cell_type": "code",
   "execution_count": 89,
   "metadata": {},
   "outputs": [
    {
     "data": {
      "text/html": [
       "<div>\n",
       "<style scoped>\n",
       "    .dataframe tbody tr th:only-of-type {\n",
       "        vertical-align: middle;\n",
       "    }\n",
       "\n",
       "    .dataframe tbody tr th {\n",
       "        vertical-align: top;\n",
       "    }\n",
       "\n",
       "    .dataframe thead th {\n",
       "        text-align: right;\n",
       "    }\n",
       "</style>\n",
       "<table border=\"1\" class=\"dataframe\">\n",
       "  <thead>\n",
       "    <tr style=\"text-align: right;\">\n",
       "      <th></th>\n",
       "      <th>iso_code</th>\n",
       "      <th>continent</th>\n",
       "      <th>location</th>\n",
       "      <th>date</th>\n",
       "      <th>total_cases</th>\n",
       "      <th>new_cases</th>\n",
       "      <th>new_cases_smoothed</th>\n",
       "      <th>total_deaths</th>\n",
       "      <th>new_deaths</th>\n",
       "      <th>new_deaths_smoothed</th>\n",
       "      <th>...</th>\n",
       "      <th>female_smokers</th>\n",
       "      <th>male_smokers</th>\n",
       "      <th>handwashing_facilities</th>\n",
       "      <th>hospital_beds_per_thousand</th>\n",
       "      <th>life_expectancy</th>\n",
       "      <th>human_development_index</th>\n",
       "      <th>excess_mortality_cumulative_absolute</th>\n",
       "      <th>excess_mortality_cumulative</th>\n",
       "      <th>excess_mortality</th>\n",
       "      <th>excess_mortality_cumulative_per_million</th>\n",
       "    </tr>\n",
       "  </thead>\n",
       "  <tbody>\n",
       "    <tr>\n",
       "      <th>0</th>\n",
       "      <td>KOR</td>\n",
       "      <td>Asia</td>\n",
       "      <td>South Korea</td>\n",
       "      <td>2020-01-22</td>\n",
       "      <td>1</td>\n",
       "      <td>0.0</td>\n",
       "      <td>0.0</td>\n",
       "      <td>0.0</td>\n",
       "      <td>0.0</td>\n",
       "      <td>0.0</td>\n",
       "      <td>...</td>\n",
       "      <td>6.2</td>\n",
       "      <td>40.9</td>\n",
       "      <td>0.0</td>\n",
       "      <td>12.27</td>\n",
       "      <td>83.03</td>\n",
       "      <td>0.916</td>\n",
       "      <td>0.0</td>\n",
       "      <td>0.00</td>\n",
       "      <td>0.00</td>\n",
       "      <td>0.000000</td>\n",
       "    </tr>\n",
       "    <tr>\n",
       "      <th>1</th>\n",
       "      <td>KOR</td>\n",
       "      <td>Asia</td>\n",
       "      <td>South Korea</td>\n",
       "      <td>2020-01-23</td>\n",
       "      <td>1</td>\n",
       "      <td>0.0</td>\n",
       "      <td>0.0</td>\n",
       "      <td>0.0</td>\n",
       "      <td>0.0</td>\n",
       "      <td>0.0</td>\n",
       "      <td>...</td>\n",
       "      <td>6.2</td>\n",
       "      <td>40.9</td>\n",
       "      <td>0.0</td>\n",
       "      <td>12.27</td>\n",
       "      <td>83.03</td>\n",
       "      <td>0.916</td>\n",
       "      <td>0.0</td>\n",
       "      <td>0.00</td>\n",
       "      <td>0.00</td>\n",
       "      <td>0.000000</td>\n",
       "    </tr>\n",
       "    <tr>\n",
       "      <th>2</th>\n",
       "      <td>KOR</td>\n",
       "      <td>Asia</td>\n",
       "      <td>South Korea</td>\n",
       "      <td>2020-01-24</td>\n",
       "      <td>2</td>\n",
       "      <td>1.0</td>\n",
       "      <td>0.0</td>\n",
       "      <td>0.0</td>\n",
       "      <td>0.0</td>\n",
       "      <td>0.0</td>\n",
       "      <td>...</td>\n",
       "      <td>6.2</td>\n",
       "      <td>40.9</td>\n",
       "      <td>0.0</td>\n",
       "      <td>12.27</td>\n",
       "      <td>83.03</td>\n",
       "      <td>0.916</td>\n",
       "      <td>0.0</td>\n",
       "      <td>0.00</td>\n",
       "      <td>0.00</td>\n",
       "      <td>0.000000</td>\n",
       "    </tr>\n",
       "    <tr>\n",
       "      <th>3</th>\n",
       "      <td>KOR</td>\n",
       "      <td>Asia</td>\n",
       "      <td>South Korea</td>\n",
       "      <td>2020-01-25</td>\n",
       "      <td>2</td>\n",
       "      <td>0.0</td>\n",
       "      <td>0.0</td>\n",
       "      <td>0.0</td>\n",
       "      <td>0.0</td>\n",
       "      <td>0.0</td>\n",
       "      <td>...</td>\n",
       "      <td>6.2</td>\n",
       "      <td>40.9</td>\n",
       "      <td>0.0</td>\n",
       "      <td>12.27</td>\n",
       "      <td>83.03</td>\n",
       "      <td>0.916</td>\n",
       "      <td>0.0</td>\n",
       "      <td>0.00</td>\n",
       "      <td>0.00</td>\n",
       "      <td>0.000000</td>\n",
       "    </tr>\n",
       "    <tr>\n",
       "      <th>4</th>\n",
       "      <td>KOR</td>\n",
       "      <td>Asia</td>\n",
       "      <td>South Korea</td>\n",
       "      <td>2020-01-26</td>\n",
       "      <td>3</td>\n",
       "      <td>1.0</td>\n",
       "      <td>0.0</td>\n",
       "      <td>0.0</td>\n",
       "      <td>0.0</td>\n",
       "      <td>0.0</td>\n",
       "      <td>...</td>\n",
       "      <td>6.2</td>\n",
       "      <td>40.9</td>\n",
       "      <td>0.0</td>\n",
       "      <td>12.27</td>\n",
       "      <td>83.03</td>\n",
       "      <td>0.916</td>\n",
       "      <td>43.4</td>\n",
       "      <td>0.17</td>\n",
       "      <td>2.47</td>\n",
       "      <td>0.845918</td>\n",
       "    </tr>\n",
       "  </tbody>\n",
       "</table>\n",
       "<p>5 rows × 67 columns</p>\n",
       "</div>"
      ],
      "text/plain": [
       "  iso_code continent     location        date  total_cases  new_cases  \\\n",
       "0      KOR      Asia  South Korea  2020-01-22            1        0.0   \n",
       "1      KOR      Asia  South Korea  2020-01-23            1        0.0   \n",
       "2      KOR      Asia  South Korea  2020-01-24            2        1.0   \n",
       "3      KOR      Asia  South Korea  2020-01-25            2        0.0   \n",
       "4      KOR      Asia  South Korea  2020-01-26            3        1.0   \n",
       "\n",
       "   new_cases_smoothed  total_deaths  new_deaths  new_deaths_smoothed  ...  \\\n",
       "0                 0.0           0.0         0.0                  0.0  ...   \n",
       "1                 0.0           0.0         0.0                  0.0  ...   \n",
       "2                 0.0           0.0         0.0                  0.0  ...   \n",
       "3                 0.0           0.0         0.0                  0.0  ...   \n",
       "4                 0.0           0.0         0.0                  0.0  ...   \n",
       "\n",
       "   female_smokers  male_smokers  handwashing_facilities  \\\n",
       "0             6.2          40.9                     0.0   \n",
       "1             6.2          40.9                     0.0   \n",
       "2             6.2          40.9                     0.0   \n",
       "3             6.2          40.9                     0.0   \n",
       "4             6.2          40.9                     0.0   \n",
       "\n",
       "   hospital_beds_per_thousand  life_expectancy  human_development_index  \\\n",
       "0                       12.27            83.03                    0.916   \n",
       "1                       12.27            83.03                    0.916   \n",
       "2                       12.27            83.03                    0.916   \n",
       "3                       12.27            83.03                    0.916   \n",
       "4                       12.27            83.03                    0.916   \n",
       "\n",
       "   excess_mortality_cumulative_absolute  excess_mortality_cumulative  \\\n",
       "0                                   0.0                         0.00   \n",
       "1                                   0.0                         0.00   \n",
       "2                                   0.0                         0.00   \n",
       "3                                   0.0                         0.00   \n",
       "4                                  43.4                         0.17   \n",
       "\n",
       "   excess_mortality  excess_mortality_cumulative_per_million  \n",
       "0              0.00                                 0.000000  \n",
       "1              0.00                                 0.000000  \n",
       "2              0.00                                 0.000000  \n",
       "3              0.00                                 0.000000  \n",
       "4              2.47                                 0.845918  \n",
       "\n",
       "[5 rows x 67 columns]"
      ]
     },
     "execution_count": 89,
     "metadata": {},
     "output_type": "execute_result"
    }
   ],
   "source": [
    "COVIDkor = pd.read_excel('./owid-covid-data-ko.xlsx')\n",
    "COVIDkor = COVIDkor.fillna(0)\n",
    "COVIDkor.head()"
   ]
  },
  {
   "cell_type": "code",
   "execution_count": 103,
   "metadata": {},
   "outputs": [
    {
     "name": "stdout",
     "output_type": "stream",
     "text": [
      "[20:50:25] WARNING: ..\\src\\learner.cc:576: \n",
      "Parameters: { \"loss\", \"min_samples_split\" } might not be used.\n",
      "\n",
      "  This could be a false alarm, with some parameters getting used by language bindings but\n",
      "  then being mistakenly passed down to XGBoost core, or some parameter actually being used\n",
      "  but getting flagged wrongly here. Please open an issue if you find any such cases.\n",
      "\n",
      "\n",
      "The mean squared error (RMSE) on test set: 22.8428\n",
      "0.9028623918300004\n"
     ]
    }
   ],
   "source": [
    "import matplotlib.pyplot as plt\n",
    "import numpy as np\n",
    "from sklearn import datasets, ensemble\n",
    "from sklearn.inspection import permutation_importance\n",
    "from sklearn.metrics import mean_squared_error\n",
    "from sklearn.model_selection import train_test_split\n",
    "\n",
    "COVIDkor = pd.read_excel('./owid-covid-data-ko.xlsx')\n",
    "COVIDkor = COVIDkor.fillna(0)\n",
    "COVIDkor.head()\n",
    "\n",
    "X = COVIDkor[['total_cases',\n",
    " 'excess_mortality_cumulative_absolute',\n",
    " 'icu_patients',\n",
    " 'total_vaccinations',\n",
    " 'stringency_index',\n",
    " 'new_cases',\n",
    " 'weekly_hosp_admissions',\n",
    " 'weekly_icu_admissions',\n",
    " 'positive_rate',\n",
    " 'reproduction_rate',\n",
    "'new_tests',\n",
    "'total_tests']]\n",
    "y = COVIDkor['new_deaths']\n",
    "\n",
    "X_train, X_test, y_train, y_test = train_test_split(\n",
    "    X, y, test_size=0.1, random_state=13)\n",
    "\n",
    "params = {'n_estimators': 500,\n",
    "          'max_depth': 4,\n",
    "          'min_samples_split': 5,\n",
    "          'learning_rate': 0.01,\n",
    "          'loss': 'ls'}\n",
    "\n",
    "reg = XGBRegressor(**params)\n",
    "reg.fit(X_train, y_train)\n",
    "\n",
    "rmse = np.sqrt(mean_squared_error(y_test, reg.predict(X_test)))\n",
    "print(\"The mean squared error (RMSE) on test set: {:.4f}\".format(rmse))\n",
    "print(r2_score(reg.predict(X_test), y_test))"
   ]
  },
  {
   "cell_type": "code",
   "execution_count": 90,
   "metadata": {},
   "outputs": [],
   "source": [
    "import matplotlib.pyplot as plt\n",
    "import numpy as np\n",
    "from sklearn import datasets, ensemble\n",
    "from sklearn.inspection import permutation_importance\n",
    "from sklearn.metrics import mean_squared_error\n",
    "from sklearn.model_selection import train_test_split"
   ]
  },
  {
   "cell_type": "code",
   "execution_count": 91,
   "metadata": {},
   "outputs": [],
   "source": [
    "data_dmatrix = xgb.DMatrix(data=X,label=y)"
   ]
  },
  {
   "cell_type": "code",
   "execution_count": 92,
   "metadata": {},
   "outputs": [],
   "source": [
    "xg_reg = xgb.XGBRegressor(objective ='reg:linear', \n",
    "                          colsample_bytree = 0.3, \n",
    "                          learning_rate = 0.1, \n",
    "                          max_depth = 5, \n",
    "                          alpha = 10, \n",
    "                          n_estimators = 10)"
   ]
  },
  {
   "cell_type": "code",
   "execution_count": 99,
   "metadata": {},
   "outputs": [],
   "source": [
    "X_train, X_test, y_train, y_test = train_test_split(\n",
    "    X, y, test_size=0.1, random_state=13)\n",
    "\n",
    "params = {'n_estimators': 500,\n",
    "          'max_depth': 4,\n",
    "          'min_samples_split': 5,\n",
    "          'learning_rate': 0.01,\n",
    "          'loss': 'ls'}\n",
    "    "
   ]
  },
  {
   "cell_type": "code",
   "execution_count": 100,
   "metadata": {},
   "outputs": [
    {
     "name": "stdout",
     "output_type": "stream",
     "text": [
      "[20:44:51] WARNING: c:\\ci\\xgboost-split_1638290375667\\work\\src\\objective\\regression_obj.cu:188: reg:linear is now deprecated in favor of reg:squarederror.\n"
     ]
    }
   ],
   "source": [
    "xg_reg.fit(X_train,y_train) \n",
    "pred = xg_reg.predict(X)"
   ]
  },
  {
   "cell_type": "code",
   "execution_count": null,
   "metadata": {},
   "outputs": [],
   "source": [
    "pred"
   ]
  },
  {
   "cell_type": "code",
   "execution_count": 101,
   "metadata": {},
   "outputs": [
    {
     "name": "stdout",
     "output_type": "stream",
     "text": [
      "[20:44:54] WARNING: ..\\src\\learner.cc:576: \n",
      "Parameters: { \"loss\", \"min_samples_split\" } might not be used.\n",
      "\n",
      "  This could be a false alarm, with some parameters getting used by language bindings but\n",
      "  then being mistakenly passed down to XGBoost core, or some parameter actually being used\n",
      "  but getting flagged wrongly here. Please open an issue if you find any such cases.\n",
      "\n",
      "\n",
      "The mean squared error (RMSE) on test set: 22.8428\n"
     ]
    }
   ],
   "source": [
    "reg = XGBRegressor(**params)\n",
    "reg.fit(X_train, y_train)\n",
    "\n",
    "rmse = np.sqrt(mean_squared_error(y_test, reg.predict(X_test)))\n",
    "print(\"The mean squared error (RMSE) on test set: {:.4f}\".format(rmse))\n",
    "print(r2_score(reg.predict(X_test), y_test))"
   ]
  },
  {
   "cell_type": "code",
   "execution_count": 102,
   "metadata": {},
   "outputs": [
    {
     "data": {
      "text/plain": [
       "0.9028623918300004"
      ]
     },
     "execution_count": 102,
     "metadata": {},
     "output_type": "execute_result"
    }
   ],
   "source": [
    "r2_score(reg.predict(X_test), y_test)"
   ]
  },
  {
   "cell_type": "code",
   "execution_count": 87,
   "metadata": {},
   "outputs": [
    {
     "data": {
      "image/png": "[encoded data removed]",
      "text/plain": [
       "<Figure size 432x432 with 1 Axes>"
      ]
     },
     "metadata": {
      "needs_background": "light"
     },
     "output_type": "display_data"
    }
   ],
   "source": [
    "test_score = np.zeros((params['n_estimators'],), dtype=np.float64)\n",
    "for i, y_pred in enumerate(reg.staged_predict(X_test)):\n",
    "    test_score[i] = reg.loss_(y_test, y_pred)\n",
    "\n",
    "fig = plt.figure(figsize=(6, 6))\n",
    "plt.subplot(1, 1, 1)\n",
    "plt.title('Deviance')\n",
    "plt.plot(np.arange(params['n_estimators']) + 1, reg.train_score_, 'b-',\n",
    "         label='Training Set Deviance')\n",
    "plt.plot(np.arange(params['n_estimators']) + 1, test_score, 'r-',\n",
    "         label='Test Set Deviance')\n",
    "plt.legend(loc='upper right')\n",
    "plt.xlabel('Boosting Iterations')\n",
    "plt.ylabel('Deviance')\n",
    "fig.tight_layout()\n",
    "plt.show()"
   ]
  },
  {
   "cell_type": "code",
   "execution_count": null,
   "metadata": {},
   "outputs": [],
   "source": [
    "feature_importance = reg.feature_importances_\n",
    "sorted_idx = np.argsort(feature_importance)\n",
    "pos = np.arange(sorted_idx.shape[0]) + .5\n",
    "fig = plt.figure(figsize=(12, 6))\n",
    "plt.subplot(1, 2, 1)\n",
    "plt.barh(pos, feature_importance[sorted_idx], align='center')\n",
    "plt.yticks(pos, np.array(COVIDkor.feature_names)[sorted_idx])\n",
    "plt.title('Feature Importance (MDI)')\n",
    "\n",
    "result = permutation_importance(reg, X_test, y_test, n_repeats=10,\n",
    "                                random_state=42, n_jobs=2)\n",
    "sorted_idx = result.importances_mean.argsort()\n",
    "plt.subplot(1, 2, 2)\n",
    "plt.boxplot(result.importances[sorted_idx].T,\n",
    "            vert=False, labels=np.array(COVIDkor.feature_names)[sorted_idx])\n",
    "plt.title(\"Permutation Importance (test set)\")\n",
    "fig.tight_layout()\n",
    "plt.show()"
   ]
  },
  {
   "cell_type": "code",
   "execution_count": 67,
   "metadata": {},
   "outputs": [],
   "source": [
    "xg_reg = xgb.XGBRegressor(objective ='reg:linear', \n",
    "                          colsample_bytree = 0.3, \n",
    "                          learning_rate = 0.1, \n",
    "                          max_depth = 5, \n",
    "                          alpha = 10, \n",
    "                          n_estimators = 10)"
   ]
  },
  {
   "cell_type": "code",
   "execution_count": 68,
   "metadata": {},
   "outputs": [],
   "source": [
    "pred = model.predict(X_test)"
   ]
  },
  {
   "cell_type": "code",
   "execution_count": 69,
   "metadata": {},
   "outputs": [
    {
     "name": "stdout",
     "output_type": "stream",
     "text": [
      "RMSE: 22.396741\n"
     ]
    }
   ],
   "source": [
    "from sklearn.metrics import mean_squared_error\n",
    "\n",
    "rmse = np.sqrt(mean_squared_error(y_test, pred)) \n",
    "print(\"RMSE: %f\" % (rmse))"
   ]
  },
  {
   "cell_type": "code",
   "execution_count": 104,
   "metadata": {},
   "outputs": [],
   "source": [
    "\n",
    "X = COVIDkor[['total_cases',\n",
    " 'excess_mortality_cumulative_absolute',\n",
    " 'icu_patients',\n",
    " 'total_vaccinations',\n",
    " 'stringency_index',\n",
    " 'new_cases',\n",
    " 'weekly_hosp_admissions',\n",
    " 'weekly_icu_admissions',\n",
    " 'positive_rate',\n",
    " 'reproduction_rate',\n",
    "'new_tests',\n",
    "'total_tests']]\n",
    "y = COVIDkor['new_deaths']"
   ]
  },
  {
   "cell_type": "code",
   "execution_count": 111,
   "metadata": {},
   "outputs": [],
   "source": [
    "import xgboost as xgb\n"
   ]
  },
  {
   "cell_type": "code",
   "execution_count": 112,
   "metadata": {},
   "outputs": [],
   "source": [
    "data_dmatrix = xgb.DMatrix(data=X,label=y)"
   ]
  },
  {
   "cell_type": "code",
   "execution_count": 120,
   "metadata": {},
   "outputs": [
    {
     "name": "stdout",
     "output_type": "stream",
     "text": [
      "[20:59:42] WARNING: c:\\ci\\xgboost-split_1638290375667\\work\\src\\objective\\regression_obj.cu:188: reg:linear is now deprecated in favor of reg:squarederror.\n",
      "[20:59:42] WARNING: c:\\ci\\xgboost-split_1638290375667\\work\\src\\objective\\regression_obj.cu:188: reg:linear is now deprecated in favor of reg:squarederror.\n"
     ]
    },
    {
     "data": {
      "text/html": [
       "<div>\n",
       "<style scoped>\n",
       "    .dataframe tbody tr th:only-of-type {\n",
       "        vertical-align: middle;\n",
       "    }\n",
       "\n",
       "    .dataframe tbody tr th {\n",
       "        vertical-align: top;\n",
       "    }\n",
       "\n",
       "    .dataframe thead th {\n",
       "        text-align: right;\n",
       "    }\n",
       "</style>\n",
       "<table border=\"1\" class=\"dataframe\">\n",
       "  <thead>\n",
       "    <tr style=\"text-align: right;\">\n",
       "      <th></th>\n",
       "      <th>train-rmse-mean</th>\n",
       "      <th>train-rmse-std</th>\n",
       "      <th>test-rmse-mean</th>\n",
       "      <th>test-rmse-std</th>\n",
       "    </tr>\n",
       "  </thead>\n",
       "  <tbody>\n",
       "    <tr>\n",
       "      <th>0</th>\n",
       "      <td>67.310627</td>\n",
       "      <td>2.631611</td>\n",
       "      <td>67.210522</td>\n",
       "      <td>3.243519</td>\n",
       "    </tr>\n",
       "    <tr>\n",
       "      <th>1</th>\n",
       "      <td>62.269487</td>\n",
       "      <td>1.583299</td>\n",
       "      <td>62.504118</td>\n",
       "      <td>4.518152</td>\n",
       "    </tr>\n",
       "    <tr>\n",
       "      <th>2</th>\n",
       "      <td>56.969406</td>\n",
       "      <td>1.458691</td>\n",
       "      <td>57.322515</td>\n",
       "      <td>4.624002</td>\n",
       "    </tr>\n",
       "    <tr>\n",
       "      <th>3</th>\n",
       "      <td>52.132049</td>\n",
       "      <td>1.407853</td>\n",
       "      <td>52.561503</td>\n",
       "      <td>4.764746</td>\n",
       "    </tr>\n",
       "    <tr>\n",
       "      <th>4</th>\n",
       "      <td>47.722052</td>\n",
       "      <td>1.270689</td>\n",
       "      <td>48.300999</td>\n",
       "      <td>4.914821</td>\n",
       "    </tr>\n",
       "  </tbody>\n",
       "</table>\n",
       "</div>"
      ],
      "text/plain": [
       "   train-rmse-mean  train-rmse-std  test-rmse-mean  test-rmse-std\n",
       "0        67.310627        2.631611       67.210522       3.243519\n",
       "1        62.269487        1.583299       62.504118       4.518152\n",
       "2        56.969406        1.458691       57.322515       4.624002\n",
       "3        52.132049        1.407853       52.561503       4.764746\n",
       "4        47.722052        1.270689       48.300999       4.914821"
      ]
     },
     "execution_count": 120,
     "metadata": {},
     "output_type": "execute_result"
    }
   ],
   "source": [
    "params = {\"objective\":\"reg:linear\",\n",
    "          'colsample_bytree': 0.3,\n",
    "          'learning_rate': 0.1,  \n",
    "          'max_depth': 5, \n",
    "          'alpha': 10} \n",
    "cv_results = xgb.cv(dtrain=data_dmatrix, \n",
    "                    params=params, \n",
    "                    nfold=2, \n",
    "                    num_boost_round=50,\n",
    "                    early_stopping_rounds=10,\n",
    "                    metrics=\"rmse\", \n",
    "                    as_pandas=True, \n",
    "                    seed=123)\n",
    "\n",
    "cv_results.head()"
   ]
  },
  {
   "cell_type": "code",
   "execution_count": 72,
   "metadata": {},
   "outputs": [
    {
     "name": "stdout",
     "output_type": "stream",
     "text": [
      "[14:12:27] WARNING: c:\\ci\\xgboost-split_1638290375667\\work\\src\\objective\\regression_obj.cu:188: reg:linear is now deprecated in favor of reg:squarederror.\n"
     ]
    }
   ],
   "source": [
    "xg_reg = xgb.train(params=params, dtrain=data_dmatrix, num_boost_round=10)"
   ]
  },
  {
   "cell_type": "code",
   "execution_count": 74,
   "metadata": {},
   "outputs": [
    {
     "name": "stdout",
     "output_type": "stream",
     "text": [
      "Collecting graphviz\n",
      "  Downloading graphviz-0.20-py3-none-any.whl (46 kB)\n",
      "     ---------------------------------------- 47.0/47.0 KB ? eta 0:00:00\n",
      "Installing collected packages: graphviz\n",
      "Successfully installed graphviz-0.20\n"
     ]
    }
   ],
   "source": [
    "!pip install graphviz"
   ]
  },
  {
   "cell_type": "code",
   "execution_count": 75,
   "metadata": {},
   "outputs": [],
   "source": [
    "from numpy import loadtxt\n",
    "from xgboost import XGBRegressor\n",
    "from xgboost import plot_tree"
   ]
  },
  {
   "cell_type": "code",
   "execution_count": null,
   "metadata": {},
   "outputs": [],
   "source": [
    "model = XGBRegressor()\n",
    "model.fit(X, y)\n",
    "# plot single tree\n",
    "plot_tree(model)\n",
    "plt.show()"
   ]
  },
  {
   "cell_type": "code",
   "execution_count": null,
   "metadata": {},
   "outputs": [],
   "source": [
    "import matplotlib.pyplot as plt \n",
    "xgb.plot_tree(xg_reg,num_trees=0) \n",
    "plt.rcParams['figure.figsize'] = [50, 10] \n",
    "plt.show()"
   ]
  },
  {
   "cell_type": "code",
   "execution_count": 76,
   "metadata": {},
   "outputs": [
    {
     "ename": "NameError",
     "evalue": "name 'COVIDkor' is not defined",
     "output_type": "error",
     "traceback": [
      "\u001b[1;31m---------------------------------------------------------------------------\u001b[0m",
      "\u001b[1;31mNameError\u001b[0m                                 Traceback (most recent call last)",
      "\u001b[1;32mc:\\Users\\nihso\\Documents\\ds_study\\source_code\\EDA\\GBM.ipynb Cell 134'\u001b[0m in \u001b[0;36m<cell line: 1>\u001b[1;34m()\u001b[0m\n\u001b[1;32m----> <a href='vscode-notebook-cell:/c%3A/Users/nihso/Documents/ds_study/source_code/EDA/GBM.ipynb#ch0000142?line=0'>1</a>\u001b[0m X \u001b[39m=\u001b[39m COVIDkor[[\u001b[39m'\u001b[39m\u001b[39mtotal_cases\u001b[39m\u001b[39m'\u001b[39m,\n\u001b[0;32m      <a href='vscode-notebook-cell:/c%3A/Users/nihso/Documents/ds_study/source_code/EDA/GBM.ipynb#ch0000142?line=1'>2</a>\u001b[0m  \u001b[39m'\u001b[39m\u001b[39mexcess_mortality_cumulative_absolute\u001b[39m\u001b[39m'\u001b[39m,\n\u001b[0;32m      <a href='vscode-notebook-cell:/c%3A/Users/nihso/Documents/ds_study/source_code/EDA/GBM.ipynb#ch0000142?line=2'>3</a>\u001b[0m  \u001b[39m'\u001b[39m\u001b[39micu_patients\u001b[39m\u001b[39m'\u001b[39m,\n\u001b[0;32m      <a href='vscode-notebook-cell:/c%3A/Users/nihso/Documents/ds_study/source_code/EDA/GBM.ipynb#ch0000142?line=3'>4</a>\u001b[0m  \u001b[39m'\u001b[39m\u001b[39mtotal_vaccinations\u001b[39m\u001b[39m'\u001b[39m,\n\u001b[0;32m      <a href='vscode-notebook-cell:/c%3A/Users/nihso/Documents/ds_study/source_code/EDA/GBM.ipynb#ch0000142?line=4'>5</a>\u001b[0m  \u001b[39m'\u001b[39m\u001b[39mstringency_index\u001b[39m\u001b[39m'\u001b[39m,\n\u001b[0;32m      <a href='vscode-notebook-cell:/c%3A/Users/nihso/Documents/ds_study/source_code/EDA/GBM.ipynb#ch0000142?line=5'>6</a>\u001b[0m  \u001b[39m'\u001b[39m\u001b[39mnew_cases\u001b[39m\u001b[39m'\u001b[39m,\n\u001b[0;32m      <a href='vscode-notebook-cell:/c%3A/Users/nihso/Documents/ds_study/source_code/EDA/GBM.ipynb#ch0000142?line=6'>7</a>\u001b[0m  \u001b[39m'\u001b[39m\u001b[39mweekly_hosp_admissions\u001b[39m\u001b[39m'\u001b[39m,\n\u001b[0;32m      <a href='vscode-notebook-cell:/c%3A/Users/nihso/Documents/ds_study/source_code/EDA/GBM.ipynb#ch0000142?line=7'>8</a>\u001b[0m  \u001b[39m'\u001b[39m\u001b[39mweekly_icu_admissions\u001b[39m\u001b[39m'\u001b[39m,\n\u001b[0;32m      <a href='vscode-notebook-cell:/c%3A/Users/nihso/Documents/ds_study/source_code/EDA/GBM.ipynb#ch0000142?line=8'>9</a>\u001b[0m  \u001b[39m'\u001b[39m\u001b[39mpositive_rate\u001b[39m\u001b[39m'\u001b[39m,\n\u001b[0;32m     <a href='vscode-notebook-cell:/c%3A/Users/nihso/Documents/ds_study/source_code/EDA/GBM.ipynb#ch0000142?line=9'>10</a>\u001b[0m  \u001b[39m'\u001b[39m\u001b[39mreproduction_rate\u001b[39m\u001b[39m'\u001b[39m,\n\u001b[0;32m     <a href='vscode-notebook-cell:/c%3A/Users/nihso/Documents/ds_study/source_code/EDA/GBM.ipynb#ch0000142?line=10'>11</a>\u001b[0m \u001b[39m'\u001b[39m\u001b[39mnew_tests\u001b[39m\u001b[39m'\u001b[39m,\n\u001b[0;32m     <a href='vscode-notebook-cell:/c%3A/Users/nihso/Documents/ds_study/source_code/EDA/GBM.ipynb#ch0000142?line=11'>12</a>\u001b[0m \u001b[39m'\u001b[39m\u001b[39mtotal_tests\u001b[39m\u001b[39m'\u001b[39m]]\n\u001b[0;32m     <a href='vscode-notebook-cell:/c%3A/Users/nihso/Documents/ds_study/source_code/EDA/GBM.ipynb#ch0000142?line=12'>13</a>\u001b[0m y \u001b[39m=\u001b[39m COVIDkor[\u001b[39m'\u001b[39m\u001b[39mnew_deaths\u001b[39m\u001b[39m'\u001b[39m]\n",
      "\u001b[1;31mNameError\u001b[0m: name 'COVIDkor' is not defined"
     ]
    }
   ],
   "source": [
    "X = COVIDkor[['total_cases',\n",
    " 'excess_mortality_cumulative_absolute',\n",
    " 'icu_patients',\n",
    " 'total_vaccinations',\n",
    " 'stringency_index',\n",
    " 'new_cases',\n",
    " 'weekly_hosp_admissions',\n",
    " 'weekly_icu_admissions',\n",
    " 'positive_rate',\n",
    " 'reproduction_rate',\n",
    "'new_tests',\n",
    "'total_tests']]\n",
    "y = COVIDkor['new_deaths']"
   ]
  },
  {
   "cell_type": "code",
   "execution_count": 73,
   "metadata": {},
   "outputs": [
    {
     "data": {
      "text/plain": [
       "GradientBoostingRegressor(random_state=13)"
      ]
     },
     "execution_count": 73,
     "metadata": {},
     "output_type": "execute_result"
    }
   ],
   "source": [
    "kor_gb_reg = GradientBoostingRegressor(random_state=13)\n",
    "kor_gb_reg.fit(X, y)"
   ]
  },
  {
   "cell_type": "code",
   "execution_count": 74,
   "metadata": {},
   "outputs": [
    {
     "name": "stdout",
     "output_type": "stream",
     "text": [
      "                                 OLS Regression Results                                \n",
      "=======================================================================================\n",
      "Dep. Variable:             new_deaths   R-squared (uncentered):                   0.861\n",
      "Model:                            OLS   Adj. R-squared (uncentered):              0.860\n",
      "Method:                 Least Squares   F-statistic:                              467.2\n",
      "Date:                Thu, 12 May 2022   Prob (F-statistic):                        0.00\n",
      "Time:                        19:01:05   Log-Likelihood:                         -6514.1\n",
      "No. Observations:                 838   AIC:                                  1.305e+04\n",
      "Df Residuals:                     827   BIC:                                  1.310e+04\n",
      "Df Model:                          11                                                  \n",
      "Covariance Type:            nonrobust                                                  \n",
      "========================================================================================================\n",
      "                                           coef    std err          t      P>|t|      [0.025      0.975]\n",
      "--------------------------------------------------------------------------------------------------------\n",
      "total_cases                           3.163e-05   2.73e-06     11.589      0.000    2.63e-05     3.7e-05\n",
      "excess_mortality_cumulative_absolute    -0.0007      0.000     -6.326      0.000      -0.001      -0.001\n",
      "icu_patients                             0.0800      0.010      7.861      0.000       0.060       0.100\n",
      "total_vaccinations                   -2.699e-06   3.81e-07     -7.084      0.000   -3.45e-06   -1.95e-06\n",
      "stringency_index                         3.9165      1.368      2.863      0.004       1.231       6.602\n",
      "new_cases                            -6.109e-05      0.000     -0.184      0.854      -0.001       0.001\n",
      "weekly_hosp_admissions                  -0.0202      0.003     -6.805      0.000      -0.026      -0.014\n",
      "weekly_icu_admissions                  1.99e-08   1.78e-09     11.179      0.000    1.64e-08    2.34e-08\n",
      "positive_rate                         7891.4818    706.592     11.168      0.000    6504.557    9278.407\n",
      "reproduction_rate                     -457.7768     44.072    -10.387      0.000    -544.282    -371.271\n",
      "new_tests                                0.0007   7.13e-05     10.209      0.000       0.001       0.001\n",
      "total_tests                          -7.618e-07   2.71e-07     -2.810      0.005   -1.29e-06    -2.3e-07\n",
      "==============================================================================\n",
      "Omnibus:                       48.958   Durbin-Watson:                   0.864\n",
      "Prob(Omnibus):                  0.000   Jarque-Bera (JB):               86.660\n",
      "Skew:                           0.416   Prob(JB):                     1.52e-19\n",
      "Kurtosis:                       4.338   Cond. No.                     4.86e+23\n",
      "==============================================================================\n",
      "\n",
      "Notes:\n",
      "[1] R² is computed without centering (uncentered) since the model does not contain a constant.\n",
      "[2] Standard Errors assume that the covariance matrix of the errors is correctly specified.\n",
      "[3] The smallest eigenvalue is 1.06e-27. This might indicate that there are\n",
      "strong multicollinearity problems or that the design matrix is singular.\n"
     ]
    },
    {
     "ename": "NameError",
     "evalue": "name 'XGBRegressor' is not defined",
     "output_type": "error",
     "traceback": [
      "\u001b[1;31m---------------------------------------------------------------------------\u001b[0m",
      "\u001b[1;31mNameError\u001b[0m                                 Traceback (most recent call last)",
      "\u001b[1;32mc:\\Users\\nihso\\Documents\\ds_study\\source_code\\EDA\\GBM.ipynb Cell 135'\u001b[0m in \u001b[0;36m<cell line: 9>\u001b[1;34m()\u001b[0m\n\u001b[0;32m      <a href='vscode-notebook-cell:/c%3A/Users/nihso/Documents/ds_study/source_code/EDA/GBM.ipynb#ch0000120?line=5'>6</a>\u001b[0m kor_pred_lm \u001b[39m=\u001b[39m lm\u001b[39m.\u001b[39mpredict(X)\u001b[39m.\u001b[39mround(\u001b[39m0\u001b[39m)\n\u001b[0;32m      <a href='vscode-notebook-cell:/c%3A/Users/nihso/Documents/ds_study/source_code/EDA/GBM.ipynb#ch0000120?line=6'>7</a>\u001b[0m LM_rmse \u001b[39m=\u001b[39m np\u001b[39m.\u001b[39msqrt(mean_squared_error(y, kor_pred_lm)) \n\u001b[1;32m----> <a href='vscode-notebook-cell:/c%3A/Users/nihso/Documents/ds_study/source_code/EDA/GBM.ipynb#ch0000120?line=8'>9</a>\u001b[0m xg_reg \u001b[39m=\u001b[39m XGBRegressor(objective \u001b[39m=\u001b[39m\u001b[39m'\u001b[39m\u001b[39mreg:linear\u001b[39m\u001b[39m'\u001b[39m, \n\u001b[0;32m     <a href='vscode-notebook-cell:/c%3A/Users/nihso/Documents/ds_study/source_code/EDA/GBM.ipynb#ch0000120?line=9'>10</a>\u001b[0m                           colsample_bytree \u001b[39m=\u001b[39m \u001b[39m0.3\u001b[39m, \n\u001b[0;32m     <a href='vscode-notebook-cell:/c%3A/Users/nihso/Documents/ds_study/source_code/EDA/GBM.ipynb#ch0000120?line=10'>11</a>\u001b[0m                           learning_rate \u001b[39m=\u001b[39m \u001b[39m0.1\u001b[39m, \n\u001b[0;32m     <a href='vscode-notebook-cell:/c%3A/Users/nihso/Documents/ds_study/source_code/EDA/GBM.ipynb#ch0000120?line=11'>12</a>\u001b[0m                           max_depth \u001b[39m=\u001b[39m \u001b[39m5\u001b[39m, \n\u001b[0;32m     <a href='vscode-notebook-cell:/c%3A/Users/nihso/Documents/ds_study/source_code/EDA/GBM.ipynb#ch0000120?line=12'>13</a>\u001b[0m                           alpha \u001b[39m=\u001b[39m \u001b[39m10\u001b[39m, \n\u001b[0;32m     <a href='vscode-notebook-cell:/c%3A/Users/nihso/Documents/ds_study/source_code/EDA/GBM.ipynb#ch0000120?line=13'>14</a>\u001b[0m                           n_estimators \u001b[39m=\u001b[39m \u001b[39m10\u001b[39m)\n\u001b[0;32m     <a href='vscode-notebook-cell:/c%3A/Users/nihso/Documents/ds_study/source_code/EDA/GBM.ipynb#ch0000120?line=15'>16</a>\u001b[0m xg_reg\u001b[39m.\u001b[39mfit(X,y) \n\u001b[0;32m     <a href='vscode-notebook-cell:/c%3A/Users/nihso/Documents/ds_study/source_code/EDA/GBM.ipynb#ch0000120?line=16'>17</a>\u001b[0m eur_pred_XGB \u001b[39m=\u001b[39m xg_reg\u001b[39m.\u001b[39mpredict(X)\n",
      "\u001b[1;31mNameError\u001b[0m: name 'XGBRegressor' is not defined"
     ]
    }
   ],
   "source": [
    "kor_pred_GBM = kor_gb_reg.predict(X).round(0)\n",
    "GBM_rmse = np.sqrt(mean_squared_error(y, kor_pred_GBM)) \n",
    "\n",
    "lm = sm.OLS(y, X).fit()\n",
    "print(lm.summary())\n",
    "kor_pred_lm = lm.predict(X).round(0)\n",
    "LM_rmse = np.sqrt(mean_squared_error(y, kor_pred_lm)) \n",
    "\n",
    "xg_reg = XGBRegressor(objective ='reg:linear', \n",
    "                          colsample_bytree = 0.3, \n",
    "                          learning_rate = 0.1, \n",
    "                          max_depth = 5, \n",
    "                          alpha = 10, \n",
    "                          n_estimators = 10)\n",
    "\n",
    "xg_reg.fit(X,y) \n",
    "eur_pred_XGB = xg_reg.predict(X)\n",
    "XGB_rmse = np.sqrt(mean_squared_error(y, eur_pred_XGB))\n",
    "\n",
    "print('GBM_rmse : ', GBM_rmse)\n",
    "print('LM_rmse : ', LM_rmse)\n",
    "print('XGB_rmse : ', XGB_rmse)"
   ]
  },
  {
   "cell_type": "code",
   "execution_count": 77,
   "metadata": {},
   "outputs": [
    {
     "name": "stdout",
     "output_type": "stream",
     "text": [
      "                                 OLS Regression Results                                \n",
      "=======================================================================================\n",
      "Dep. Variable:             new_deaths   R-squared (uncentered):                   0.932\n",
      "Model:                            OLS   Adj. R-squared (uncentered):              0.931\n",
      "Method:                 Least Squares   F-statistic:                              942.9\n",
      "Date:                Thu, 12 May 2022   Prob (F-statistic):                        0.00\n",
      "Time:                        19:02:07   Log-Likelihood:                         -3669.4\n",
      "No. Observations:                 838   AIC:                                      7363.\n",
      "Df Residuals:                     826   BIC:                                      7420.\n",
      "Df Model:                          12                                                  \n",
      "Covariance Type:            nonrobust                                                  \n",
      "========================================================================================================\n",
      "                                           coef    std err          t      P>|t|      [0.025      0.975]\n",
      "--------------------------------------------------------------------------------------------------------\n",
      "total_cases                           4.344e-06   6.03e-07      7.209      0.000    3.16e-06    5.53e-06\n",
      "excess_mortality_cumulative_absolute    -0.0016      0.001     -2.881      0.004      -0.003      -0.001\n",
      "icu_patients                             0.0656      0.005     12.989      0.000       0.056       0.076\n",
      "total_vaccinations                   -2.895e-07      4e-08     -7.241      0.000   -3.68e-07   -2.11e-07\n",
      "stringency_index                         0.0096      0.035      0.279      0.780      -0.058       0.077\n",
      "new_cases                                0.0006   2.52e-05     23.934      0.000       0.001       0.001\n",
      "weekly_hosp_admissions                   0.0058      0.001      9.009      0.000       0.005       0.007\n",
      "weekly_icu_admissions                   -0.0090      0.007     -1.359      0.175      -0.022       0.004\n",
      "positive_rate                           -3.7490      2.388     -1.570      0.117      -8.436       0.938\n",
      "reproduction_rate                       -2.1515      1.422     -1.513      0.131      -4.942       0.639\n",
      "new_tests                               -0.0001      1e-05    -10.603      0.000      -0.000   -8.65e-05\n",
      "total_tests                           3.763e-07   2.37e-07      1.588      0.113   -8.87e-08    8.41e-07\n",
      "==============================================================================\n",
      "Omnibus:                      264.811   Durbin-Watson:                   1.751\n",
      "Prob(Omnibus):                  0.000   Jarque-Bera (JB):            15116.021\n",
      "Skew:                          -0.566   Prob(JB):                         0.00\n",
      "Kurtosis:                      23.776   Cond. No.                     1.98e+08\n",
      "==============================================================================\n",
      "\n",
      "Notes:\n",
      "[1] R² is computed without centering (uncentered) since the model does not contain a constant.\n",
      "[2] Standard Errors assume that the covariance matrix of the errors is correctly specified.\n",
      "[3] The condition number is large, 1.98e+08. This might indicate that there are\n",
      "strong multicollinearity or other numerical problems.\n",
      "[19:02:07] WARNING: c:\\ci\\xgboost-split_1638290375667\\work\\src\\objective\\regression_obj.cu:188: reg:linear is now deprecated in favor of reg:squarederror.\n",
      "GBM_rmse :  5.697631715011469\n",
      "LM_rmse :  19.28894102389732\n",
      "XGB_rmse :  31.50831104975677\n"
     ]
    }
   ],
   "source": [
    "COVID_KOR = COVID[COVID['location'] == 'South Korea']\n",
    "\n",
    "X = COVID_KOR[['total_cases',\n",
    " 'excess_mortality_cumulative_absolute',\n",
    " 'icu_patients',\n",
    " 'total_vaccinations',\n",
    " 'stringency_index',\n",
    " 'new_cases',\n",
    " 'weekly_hosp_admissions',\n",
    " 'weekly_icu_admissions',\n",
    " 'positive_rate',\n",
    " 'reproduction_rate',\n",
    "'new_tests',\n",
    "'total_tests']]\n",
    "y = COVID_KOR['new_deaths']\n",
    "\n",
    "kor_gb_reg = GradientBoostingRegressor(random_state=13)\n",
    "kor_gb_reg.fit(X, y)\n",
    "\n",
    "kor_pred_GBM = kor_gb_reg.predict(X).round(0)\n",
    "GBM_rmse = np.sqrt(mean_squared_error(y, kor_pred_GBM)) \n",
    "\n",
    "lm = sm.OLS(y, X).fit()\n",
    "print(lm.summary())\n",
    "kor_pred_lm = lm.predict(X).round(0)\n",
    "LM_rmse = np.sqrt(mean_squared_error(y, kor_pred_lm)) \n",
    "\n",
    "xg_reg = XGBRegressor(objective ='reg:linear', \n",
    "                          colsample_bytree = 0.3, \n",
    "                          learning_rate = 0.1, \n",
    "                          max_depth = 5, \n",
    "                          alpha = 10, \n",
    "                          n_estimators = 10)\n",
    "\n",
    "xg_reg.fit(X,y) \n",
    "eur_pred_XGB = xg_reg.predict(X)\n",
    "XGB_rmse = np.sqrt(mean_squared_error(y, eur_pred_XGB))\n",
    "\n",
    "print('GBM_rmse : ', GBM_rmse)\n",
    "print('LM_rmse : ', LM_rmse)\n",
    "print('XGB_rmse : ', XGB_rmse)"
   ]
  },
  {
   "cell_type": "code",
   "execution_count": 81,
   "metadata": {},
   "outputs": [],
   "source": [
    "X = COVID[['total_cases',\n",
    " 'excess_mortality_cumulative_absolute',\n",
    " 'icu_patients',\n",
    " 'total_vaccinations',\n",
    " 'stringency_index',\n",
    " 'new_cases',\n",
    " 'weekly_hosp_admissions',\n",
    " 'weekly_icu_admissions',\n",
    " 'positive_rate',\n",
    " 'reproduction_rate',\n",
    "'new_tests',\n",
    "'total_tests']]\n",
    "y = COVID['new_deaths']"
   ]
  },
  {
   "cell_type": "code",
   "execution_count": 82,
   "metadata": {},
   "outputs": [],
   "source": [
    "X_train, X_test, y_train, y_test = train_test_split(X, y, test_size=0.2, random_state=13)"
   ]
  },
  {
   "cell_type": "code",
   "execution_count": 83,
   "metadata": {},
   "outputs": [
    {
     "data": {
      "image/png": "[encoded data removed]",
      "text/plain": [
       "<Figure size 7200x720 with 1 Axes>"
      ]
     },
     "metadata": {},
     "output_type": "display_data"
    }
   ],
   "source": [
    "def stepwise_feature_selection(X_train, y_train, variables=X_train.columns.tolist() ): \n",
    "    import statsmodels.api as sm \n",
    "    import matplotlib.pyplot as plt \n",
    "    import warnings \n",
    "    warnings.filterwarnings(\"ignore\") \n",
    "    y = y_train ## 반응 변수 \n",
    "    selected_variables = [] ## 선택된 변수들 \n",
    "    sl_enter = 0.05 \n",
    "    sl_remove = 0.05 \n",
    "    sv_per_step = [] ## 각 스텝별로 선택된 변수들 \n",
    "    adjusted_r_squared = [] ## 각 스텝별 수정된 결정계수 \n",
    "    steps = [] ## 스텝 \n",
    "    step = 0 \n",
    "    while len(variables) > 0: \n",
    "        remainder = list(set(variables) - set(selected_variables)) \n",
    "        pval = pd.Series(index=remainder) ## 변수의 p-value ## 기존에 포함된 변수와 새로운 변수 하나씩 돌아가면서 ## 선형 모형을 적합한다. \n",
    "        for col in remainder: \n",
    "            X = X_train[selected_variables+[col]] \n",
    "            X = sm.add_constant(X) \n",
    "            model = sm.OLS(y,X).fit(disp=0) \n",
    "            pval[col] = model.pvalues[col] \n",
    "            min_pval = pval.min() \n",
    "        if min_pval < sl_enter: ## 최소 p-value 값이 기준 값보다 작으면 포함 \n",
    "            selected_variables.append(pval.idxmin()) ## 선택된 변수들에대해서 ## 어떤 변수를 제거할지 고른다. \n",
    "            while len(selected_variables) > 0: \n",
    "                selected_X = X_train[selected_variables] \n",
    "                selected_X = sm.add_constant(selected_X) \n",
    "                selected_pval = sm.OLS(y,selected_X).fit(disp=0).pvalues[1:] ## 절편항의 p-value는 뺀다 \n",
    "                max_pval = selected_pval.max() \n",
    "                if max_pval >= sl_remove: ## 최대 p-value값이 기준값보다 크거나 같으면 제외 \n",
    "                    remove_variable = selected_pval.idxmax() \n",
    "                    selected_variables.remove(remove_variable) \n",
    "                else: \n",
    "                    break \n",
    "            step += 1 \n",
    "            steps.append(step) \n",
    "            adj_r_squared = sm.OLS(y,sm.add_constant(X_train[selected_variables])).fit(disp=0).rsquared_adj \n",
    "            adjusted_r_squared.append(adj_r_squared) \n",
    "            sv_per_step.append(selected_variables.copy()) \n",
    "        else: \n",
    "            break \n",
    "    fig = plt.figure(figsize=(100,10)) \n",
    "    fig.set_facecolor('white') \n",
    "    font_size = 15 \n",
    "    plt.xticks(steps,[f'step {s}\\n'+'\\n'.join(sv_per_step[i]) for i,s in enumerate(steps)], fontsize=12) \n",
    "    \n",
    "    plt.plot(steps,adjusted_r_squared, marker='o') \n",
    "    \n",
    "    plt.ylabel('Adjusted R Squared',fontsize=font_size) \n",
    "    plt.grid(True) \n",
    "    plt.show() \n",
    "\n",
    "    return selected_variables \n",
    "selected_variables = stepwise_feature_selection(X_train, y_train)"
   ]
  },
  {
   "cell_type": "code",
   "execution_count": null,
   "metadata": {},
   "outputs": [],
   "source": []
  }
 ],
 "metadata": {
  "interpreter": {
   "hash": "9d427dfaf44bfe573fbc934bba616458c60e55e884bd082a4375970f130de506"
  },
  "kernelspec": {
   "display_name": "Python 3.8.12 ('ds_study')",
   "language": "python",
   "name": "python3"
  },
  "language_info": {
   "codemirror_mode": {
    "name": "ipython",
    "version": 3
   },
   "file_extension": ".py",
   "mimetype": "text/x-python",
   "name": "python",
   "nbconvert_exporter": "python",
   "pygments_lexer": "ipython3",
   "version": "3.8.12"
  },
  "orig_nbformat": 4
 },
 "nbformat": 4,
 "nbformat_minor": 2
}
