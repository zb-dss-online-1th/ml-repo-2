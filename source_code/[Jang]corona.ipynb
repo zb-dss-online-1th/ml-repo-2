{
 "cells": [
  {
   "cell_type": "code",
   "execution_count": 459,
   "metadata": {},
   "outputs": [],
   "source": [
    "import openpyxl\n",
    "import datetime\n",
    "import pandas as pd\n",
    "import numpy as np\n",
    "import seaborn as sns\n",
    "import matplotlib.pyplot as plt\n",
    "from matplotlib import rc \n",
    "plt.rcParams[\"axes.unicode_minus\"] = False \n",
    "rc(\"font\", family=\"Arial Unicode MS\") \n",
    "get_ipython().run_line_magic(\"matplotlib\", \"inline\")\n",
    "\n",
    "\n",
    "\n"
   ]
  },
  {
   "cell_type": "code",
   "execution_count": 460,
   "metadata": {},
   "outputs": [],
   "source": [
    "data = pd.read_excel(\"코로나바이러스감염증-19_확진환자_발생현황_220509.xlsx\", header=4)\n"
   ]
  },
  {
   "cell_type": "code",
   "execution_count": 461,
   "metadata": {},
   "outputs": [],
   "source": [
    "data.drop(0, inplace=True)\n"
   ]
  },
  {
   "cell_type": "code",
   "execution_count": 462,
   "metadata": {},
   "outputs": [
    {
     "name": "stdout",
     "output_type": "stream",
     "text": [
      "<class 'pandas.core.frame.DataFrame'>\n",
      "RangeIndex: 841 entries, 1 to 841\n",
      "Data columns (total 5 columns):\n",
      " #   Column   Non-Null Count  Dtype \n",
      "---  ------   --------------  ----- \n",
      " 0   일자       841 non-null    object\n",
      " 1   계(명)     841 non-null    int64 \n",
      " 2   국내발생(명)  841 non-null    object\n",
      " 3   해외유입(명)  841 non-null    object\n",
      " 4   사망(명)    841 non-null    object\n",
      "dtypes: int64(1), object(4)\n",
      "memory usage: 33.0+ KB\n"
     ]
    }
   ],
   "source": [
    "data.info()"
   ]
  },
  {
   "cell_type": "code",
   "execution_count": 463,
   "metadata": {},
   "outputs": [
    {
     "data": {
      "text/html": [
       "<div>\n",
       "<style scoped>\n",
       "    .dataframe tbody tr th:only-of-type {\n",
       "        vertical-align: middle;\n",
       "    }\n",
       "\n",
       "    .dataframe tbody tr th {\n",
       "        vertical-align: top;\n",
       "    }\n",
       "\n",
       "    .dataframe thead th {\n",
       "        text-align: right;\n",
       "    }\n",
       "</style>\n",
       "<table border=\"1\" class=\"dataframe\">\n",
       "  <thead>\n",
       "    <tr style=\"text-align: right;\">\n",
       "      <th></th>\n",
       "      <th>일자</th>\n",
       "      <th>계(명)</th>\n",
       "      <th>국내발생(명)</th>\n",
       "      <th>해외유입(명)</th>\n",
       "      <th>사망(명)</th>\n",
       "    </tr>\n",
       "  </thead>\n",
       "  <tbody>\n",
       "    <tr>\n",
       "      <th>1</th>\n",
       "      <td>2020-01-20 00:00:00</td>\n",
       "      <td>1</td>\n",
       "      <td>-</td>\n",
       "      <td>1</td>\n",
       "      <td>-</td>\n",
       "    </tr>\n",
       "    <tr>\n",
       "      <th>2</th>\n",
       "      <td>2020-01-21 00:00:00</td>\n",
       "      <td>0</td>\n",
       "      <td>-</td>\n",
       "      <td>-</td>\n",
       "      <td>-</td>\n",
       "    </tr>\n",
       "    <tr>\n",
       "      <th>3</th>\n",
       "      <td>2020-01-22 00:00:00</td>\n",
       "      <td>0</td>\n",
       "      <td>-</td>\n",
       "      <td>-</td>\n",
       "      <td>-</td>\n",
       "    </tr>\n",
       "    <tr>\n",
       "      <th>4</th>\n",
       "      <td>2020-01-23 00:00:00</td>\n",
       "      <td>0</td>\n",
       "      <td>-</td>\n",
       "      <td>-</td>\n",
       "      <td>-</td>\n",
       "    </tr>\n",
       "    <tr>\n",
       "      <th>5</th>\n",
       "      <td>2020-01-24 00:00:00</td>\n",
       "      <td>1</td>\n",
       "      <td>-</td>\n",
       "      <td>1</td>\n",
       "      <td>-</td>\n",
       "    </tr>\n",
       "    <tr>\n",
       "      <th>...</th>\n",
       "      <td>...</td>\n",
       "      <td>...</td>\n",
       "      <td>...</td>\n",
       "      <td>...</td>\n",
       "      <td>...</td>\n",
       "    </tr>\n",
       "    <tr>\n",
       "      <th>837</th>\n",
       "      <td>2022-05-05 00:00:00</td>\n",
       "      <td>42291</td>\n",
       "      <td>42268</td>\n",
       "      <td>23</td>\n",
       "      <td>79</td>\n",
       "    </tr>\n",
       "    <tr>\n",
       "      <th>838</th>\n",
       "      <td>2022-05-06 00:00:00</td>\n",
       "      <td>26714</td>\n",
       "      <td>26686</td>\n",
       "      <td>28</td>\n",
       "      <td>48</td>\n",
       "    </tr>\n",
       "    <tr>\n",
       "      <th>839</th>\n",
       "      <td>2022-05-07 00:00:00</td>\n",
       "      <td>39600</td>\n",
       "      <td>39574</td>\n",
       "      <td>26</td>\n",
       "      <td>83</td>\n",
       "    </tr>\n",
       "    <tr>\n",
       "      <th>840</th>\n",
       "      <td>2022-05-08 00:00:00</td>\n",
       "      <td>40064</td>\n",
       "      <td>40048</td>\n",
       "      <td>16</td>\n",
       "      <td>71</td>\n",
       "    </tr>\n",
       "    <tr>\n",
       "      <th>841</th>\n",
       "      <td>2022-05-09 00:00:00</td>\n",
       "      <td>20601</td>\n",
       "      <td>20582</td>\n",
       "      <td>19</td>\n",
       "      <td>40</td>\n",
       "    </tr>\n",
       "  </tbody>\n",
       "</table>\n",
       "<p>841 rows × 5 columns</p>\n",
       "</div>"
      ],
      "text/plain": [
       "                      일자   계(명) 국내발생(명) 해외유입(명) 사망(명)\n",
       "1    2020-01-20 00:00:00      1       -       1     -\n",
       "2    2020-01-21 00:00:00      0       -       -     -\n",
       "3    2020-01-22 00:00:00      0       -       -     -\n",
       "4    2020-01-23 00:00:00      0       -       -     -\n",
       "5    2020-01-24 00:00:00      1       -       1     -\n",
       "..                   ...    ...     ...     ...   ...\n",
       "837  2022-05-05 00:00:00  42291   42268      23    79\n",
       "838  2022-05-06 00:00:00  26714   26686      28    48\n",
       "839  2022-05-07 00:00:00  39600   39574      26    83\n",
       "840  2022-05-08 00:00:00  40064   40048      16    71\n",
       "841  2022-05-09 00:00:00  20601   20582      19    40\n",
       "\n",
       "[841 rows x 5 columns]"
      ]
     },
     "execution_count": 463,
     "metadata": {},
     "output_type": "execute_result"
    }
   ],
   "source": [
    "data"
   ]
  },
  {
   "cell_type": "code",
   "execution_count": 464,
   "metadata": {},
   "outputs": [],
   "source": [
    "data.drop([1,2,841], inplace=True)"
   ]
  },
  {
   "cell_type": "code",
   "execution_count": 465,
   "metadata": {},
   "outputs": [],
   "source": [
    "data['일자'].replace({' 00:00:00':''}, inplace=True)"
   ]
  },
  {
   "cell_type": "code",
   "execution_count": 466,
   "metadata": {},
   "outputs": [],
   "source": [
    "data.rename(columns={'일자':'date'}, inplace=True)"
   ]
  },
  {
   "cell_type": "code",
   "execution_count": 467,
   "metadata": {},
   "outputs": [
    {
     "data": {
      "text/html": [
       "<div>\n",
       "<style scoped>\n",
       "    .dataframe tbody tr th:only-of-type {\n",
       "        vertical-align: middle;\n",
       "    }\n",
       "\n",
       "    .dataframe tbody tr th {\n",
       "        vertical-align: top;\n",
       "    }\n",
       "\n",
       "    .dataframe thead th {\n",
       "        text-align: right;\n",
       "    }\n",
       "</style>\n",
       "<table border=\"1\" class=\"dataframe\">\n",
       "  <thead>\n",
       "    <tr style=\"text-align: right;\">\n",
       "      <th></th>\n",
       "      <th>date</th>\n",
       "      <th>계(명)</th>\n",
       "      <th>국내발생(명)</th>\n",
       "      <th>해외유입(명)</th>\n",
       "      <th>사망(명)</th>\n",
       "    </tr>\n",
       "  </thead>\n",
       "  <tbody>\n",
       "    <tr>\n",
       "      <th>3</th>\n",
       "      <td>2020-01-22</td>\n",
       "      <td>0</td>\n",
       "      <td>-</td>\n",
       "      <td>-</td>\n",
       "      <td>-</td>\n",
       "    </tr>\n",
       "    <tr>\n",
       "      <th>4</th>\n",
       "      <td>2020-01-23</td>\n",
       "      <td>0</td>\n",
       "      <td>-</td>\n",
       "      <td>-</td>\n",
       "      <td>-</td>\n",
       "    </tr>\n",
       "    <tr>\n",
       "      <th>5</th>\n",
       "      <td>2020-01-24</td>\n",
       "      <td>1</td>\n",
       "      <td>-</td>\n",
       "      <td>1</td>\n",
       "      <td>-</td>\n",
       "    </tr>\n",
       "    <tr>\n",
       "      <th>6</th>\n",
       "      <td>2020-01-25</td>\n",
       "      <td>0</td>\n",
       "      <td>-</td>\n",
       "      <td>-</td>\n",
       "      <td>-</td>\n",
       "    </tr>\n",
       "    <tr>\n",
       "      <th>7</th>\n",
       "      <td>2020-01-26</td>\n",
       "      <td>1</td>\n",
       "      <td>-</td>\n",
       "      <td>1</td>\n",
       "      <td>-</td>\n",
       "    </tr>\n",
       "    <tr>\n",
       "      <th>...</th>\n",
       "      <td>...</td>\n",
       "      <td>...</td>\n",
       "      <td>...</td>\n",
       "      <td>...</td>\n",
       "      <td>...</td>\n",
       "    </tr>\n",
       "    <tr>\n",
       "      <th>836</th>\n",
       "      <td>2022-05-04</td>\n",
       "      <td>49055</td>\n",
       "      <td>49026</td>\n",
       "      <td>29</td>\n",
       "      <td>72</td>\n",
       "    </tr>\n",
       "    <tr>\n",
       "      <th>837</th>\n",
       "      <td>2022-05-05</td>\n",
       "      <td>42291</td>\n",
       "      <td>42268</td>\n",
       "      <td>23</td>\n",
       "      <td>79</td>\n",
       "    </tr>\n",
       "    <tr>\n",
       "      <th>838</th>\n",
       "      <td>2022-05-06</td>\n",
       "      <td>26714</td>\n",
       "      <td>26686</td>\n",
       "      <td>28</td>\n",
       "      <td>48</td>\n",
       "    </tr>\n",
       "    <tr>\n",
       "      <th>839</th>\n",
       "      <td>2022-05-07</td>\n",
       "      <td>39600</td>\n",
       "      <td>39574</td>\n",
       "      <td>26</td>\n",
       "      <td>83</td>\n",
       "    </tr>\n",
       "    <tr>\n",
       "      <th>840</th>\n",
       "      <td>2022-05-08</td>\n",
       "      <td>40064</td>\n",
       "      <td>40048</td>\n",
       "      <td>16</td>\n",
       "      <td>71</td>\n",
       "    </tr>\n",
       "  </tbody>\n",
       "</table>\n",
       "<p>838 rows × 5 columns</p>\n",
       "</div>"
      ],
      "text/plain": [
       "          date   계(명) 국내발생(명) 해외유입(명) 사망(명)\n",
       "3   2020-01-22      0       -       -     -\n",
       "4   2020-01-23      0       -       -     -\n",
       "5   2020-01-24      1       -       1     -\n",
       "6   2020-01-25      0       -       -     -\n",
       "7   2020-01-26      1       -       1     -\n",
       "..         ...    ...     ...     ...   ...\n",
       "836 2022-05-04  49055   49026      29    72\n",
       "837 2022-05-05  42291   42268      23    79\n",
       "838 2022-05-06  26714   26686      28    48\n",
       "839 2022-05-07  39600   39574      26    83\n",
       "840 2022-05-08  40064   40048      16    71\n",
       "\n",
       "[838 rows x 5 columns]"
      ]
     },
     "execution_count": 467,
     "metadata": {},
     "output_type": "execute_result"
    }
   ],
   "source": [
    "data"
   ]
  },
  {
   "cell_type": "code",
   "execution_count": 468,
   "metadata": {},
   "outputs": [],
   "source": [
    "data['계(명)'].replace({'-':'0'}, inplace=True)\n",
    "data['국내발생(명)'].replace({'-':'0'}, inplace=True)\n",
    "data['해외유입(명)'].replace({'-':'0'}, inplace=True)\n",
    "data['사망(명)'].replace({'-':'0'}, inplace=True)"
   ]
  },
  {
   "cell_type": "code",
   "execution_count": 469,
   "metadata": {},
   "outputs": [],
   "source": [
    "data.set_index(keys=['date'],inplace=True)"
   ]
  },
  {
   "cell_type": "code",
   "execution_count": 470,
   "metadata": {},
   "outputs": [
    {
     "data": {
      "text/html": [
       "<div>\n",
       "<style scoped>\n",
       "    .dataframe tbody tr th:only-of-type {\n",
       "        vertical-align: middle;\n",
       "    }\n",
       "\n",
       "    .dataframe tbody tr th {\n",
       "        vertical-align: top;\n",
       "    }\n",
       "\n",
       "    .dataframe thead th {\n",
       "        text-align: right;\n",
       "    }\n",
       "</style>\n",
       "<table border=\"1\" class=\"dataframe\">\n",
       "  <thead>\n",
       "    <tr style=\"text-align: right;\">\n",
       "      <th></th>\n",
       "      <th>계(명)</th>\n",
       "      <th>국내발생(명)</th>\n",
       "      <th>해외유입(명)</th>\n",
       "      <th>사망(명)</th>\n",
       "    </tr>\n",
       "    <tr>\n",
       "      <th>date</th>\n",
       "      <th></th>\n",
       "      <th></th>\n",
       "      <th></th>\n",
       "      <th></th>\n",
       "    </tr>\n",
       "  </thead>\n",
       "  <tbody>\n",
       "    <tr>\n",
       "      <th>2020-01-22</th>\n",
       "      <td>0</td>\n",
       "      <td>0</td>\n",
       "      <td>0</td>\n",
       "      <td>0</td>\n",
       "    </tr>\n",
       "    <tr>\n",
       "      <th>2020-01-23</th>\n",
       "      <td>0</td>\n",
       "      <td>0</td>\n",
       "      <td>0</td>\n",
       "      <td>0</td>\n",
       "    </tr>\n",
       "    <tr>\n",
       "      <th>2020-01-24</th>\n",
       "      <td>1</td>\n",
       "      <td>0</td>\n",
       "      <td>1</td>\n",
       "      <td>0</td>\n",
       "    </tr>\n",
       "    <tr>\n",
       "      <th>2020-01-25</th>\n",
       "      <td>0</td>\n",
       "      <td>0</td>\n",
       "      <td>0</td>\n",
       "      <td>0</td>\n",
       "    </tr>\n",
       "    <tr>\n",
       "      <th>2020-01-26</th>\n",
       "      <td>1</td>\n",
       "      <td>0</td>\n",
       "      <td>1</td>\n",
       "      <td>0</td>\n",
       "    </tr>\n",
       "    <tr>\n",
       "      <th>...</th>\n",
       "      <td>...</td>\n",
       "      <td>...</td>\n",
       "      <td>...</td>\n",
       "      <td>...</td>\n",
       "    </tr>\n",
       "    <tr>\n",
       "      <th>2022-05-04</th>\n",
       "      <td>49055</td>\n",
       "      <td>49026</td>\n",
       "      <td>29</td>\n",
       "      <td>72</td>\n",
       "    </tr>\n",
       "    <tr>\n",
       "      <th>2022-05-05</th>\n",
       "      <td>42291</td>\n",
       "      <td>42268</td>\n",
       "      <td>23</td>\n",
       "      <td>79</td>\n",
       "    </tr>\n",
       "    <tr>\n",
       "      <th>2022-05-06</th>\n",
       "      <td>26714</td>\n",
       "      <td>26686</td>\n",
       "      <td>28</td>\n",
       "      <td>48</td>\n",
       "    </tr>\n",
       "    <tr>\n",
       "      <th>2022-05-07</th>\n",
       "      <td>39600</td>\n",
       "      <td>39574</td>\n",
       "      <td>26</td>\n",
       "      <td>83</td>\n",
       "    </tr>\n",
       "    <tr>\n",
       "      <th>2022-05-08</th>\n",
       "      <td>40064</td>\n",
       "      <td>40048</td>\n",
       "      <td>16</td>\n",
       "      <td>71</td>\n",
       "    </tr>\n",
       "  </tbody>\n",
       "</table>\n",
       "<p>838 rows × 4 columns</p>\n",
       "</div>"
      ],
      "text/plain": [
       "             계(명) 국내발생(명) 해외유입(명) 사망(명)\n",
       "date                                   \n",
       "2020-01-22      0       0       0     0\n",
       "2020-01-23      0       0       0     0\n",
       "2020-01-24      1       0       1     0\n",
       "2020-01-25      0       0       0     0\n",
       "2020-01-26      1       0       1     0\n",
       "...           ...     ...     ...   ...\n",
       "2022-05-04  49055   49026      29    72\n",
       "2022-05-05  42291   42268      23    79\n",
       "2022-05-06  26714   26686      28    48\n",
       "2022-05-07  39600   39574      26    83\n",
       "2022-05-08  40064   40048      16    71\n",
       "\n",
       "[838 rows x 4 columns]"
      ]
     },
     "execution_count": 470,
     "metadata": {},
     "output_type": "execute_result"
    }
   ],
   "source": [
    "data"
   ]
  },
  {
   "cell_type": "markdown",
   "metadata": {},
   "source": [
    "---"
   ]
  },
  {
   "cell_type": "code",
   "execution_count": 471,
   "metadata": {},
   "outputs": [],
   "source": [
    "data2 = pd.read_excel(\"covid_data.xlsx\", header=0)\n"
   ]
  },
  {
   "cell_type": "code",
   "execution_count": 472,
   "metadata": {},
   "outputs": [
    {
     "name": "stdout",
     "output_type": "stream",
     "text": [
      "<class 'pandas.core.frame.DataFrame'>\n",
      "RangeIndex: 838 entries, 0 to 837\n",
      "Data columns (total 12 columns):\n",
      " #   Column                     Non-Null Count  Dtype         \n",
      "---  ------                     --------------  -----         \n",
      " 0   date                       838 non-null    datetime64[ns]\n",
      " 1   total_cases                838 non-null    int64         \n",
      " 2   new_cases_smoothed         832 non-null    float64       \n",
      " 3   total_deaths               809 non-null    float64       \n",
      " 4   new_deaths_smoothed        804 non-null    float64       \n",
      " 5   icu_patients               767 non-null    float64       \n",
      " 6   total_vaccinations         437 non-null    float64       \n",
      " 7   people_vaccinated          437 non-null    float64       \n",
      " 8   people_fully_vaccinated    437 non-null    float64       \n",
      " 9   total_boosters             433 non-null    float64       \n",
      " 10  new_vaccinations_smoothed  436 non-null    float64       \n",
      " 11  stringency_index           831 non-null    float64       \n",
      "dtypes: datetime64[ns](1), float64(10), int64(1)\n",
      "memory usage: 78.7 KB\n"
     ]
    }
   ],
   "source": [
    "data2.info()"
   ]
  },
  {
   "cell_type": "code",
   "execution_count": 473,
   "metadata": {},
   "outputs": [
    {
     "data": {
      "text/html": [
       "<div>\n",
       "<style scoped>\n",
       "    .dataframe tbody tr th:only-of-type {\n",
       "        vertical-align: middle;\n",
       "    }\n",
       "\n",
       "    .dataframe tbody tr th {\n",
       "        vertical-align: top;\n",
       "    }\n",
       "\n",
       "    .dataframe thead th {\n",
       "        text-align: right;\n",
       "    }\n",
       "</style>\n",
       "<table border=\"1\" class=\"dataframe\">\n",
       "  <thead>\n",
       "    <tr style=\"text-align: right;\">\n",
       "      <th></th>\n",
       "      <th>date</th>\n",
       "      <th>total_cases</th>\n",
       "      <th>new_cases_smoothed</th>\n",
       "      <th>total_deaths</th>\n",
       "      <th>new_deaths_smoothed</th>\n",
       "      <th>icu_patients</th>\n",
       "      <th>total_vaccinations</th>\n",
       "      <th>people_vaccinated</th>\n",
       "      <th>people_fully_vaccinated</th>\n",
       "      <th>total_boosters</th>\n",
       "      <th>new_vaccinations_smoothed</th>\n",
       "      <th>stringency_index</th>\n",
       "    </tr>\n",
       "  </thead>\n",
       "  <tbody>\n",
       "    <tr>\n",
       "      <th>0</th>\n",
       "      <td>2020-01-22</td>\n",
       "      <td>1</td>\n",
       "      <td>NaN</td>\n",
       "      <td>NaN</td>\n",
       "      <td>NaN</td>\n",
       "      <td>NaN</td>\n",
       "      <td>NaN</td>\n",
       "      <td>NaN</td>\n",
       "      <td>NaN</td>\n",
       "      <td>NaN</td>\n",
       "      <td>NaN</td>\n",
       "      <td>0.0</td>\n",
       "    </tr>\n",
       "    <tr>\n",
       "      <th>1</th>\n",
       "      <td>2020-01-23</td>\n",
       "      <td>1</td>\n",
       "      <td>NaN</td>\n",
       "      <td>NaN</td>\n",
       "      <td>NaN</td>\n",
       "      <td>NaN</td>\n",
       "      <td>NaN</td>\n",
       "      <td>NaN</td>\n",
       "      <td>NaN</td>\n",
       "      <td>NaN</td>\n",
       "      <td>NaN</td>\n",
       "      <td>0.0</td>\n",
       "    </tr>\n",
       "    <tr>\n",
       "      <th>2</th>\n",
       "      <td>2020-01-24</td>\n",
       "      <td>2</td>\n",
       "      <td>NaN</td>\n",
       "      <td>NaN</td>\n",
       "      <td>NaN</td>\n",
       "      <td>NaN</td>\n",
       "      <td>NaN</td>\n",
       "      <td>NaN</td>\n",
       "      <td>NaN</td>\n",
       "      <td>NaN</td>\n",
       "      <td>NaN</td>\n",
       "      <td>0.0</td>\n",
       "    </tr>\n",
       "    <tr>\n",
       "      <th>3</th>\n",
       "      <td>2020-01-25</td>\n",
       "      <td>2</td>\n",
       "      <td>NaN</td>\n",
       "      <td>NaN</td>\n",
       "      <td>NaN</td>\n",
       "      <td>NaN</td>\n",
       "      <td>NaN</td>\n",
       "      <td>NaN</td>\n",
       "      <td>NaN</td>\n",
       "      <td>NaN</td>\n",
       "      <td>NaN</td>\n",
       "      <td>0.0</td>\n",
       "    </tr>\n",
       "    <tr>\n",
       "      <th>4</th>\n",
       "      <td>2020-01-26</td>\n",
       "      <td>3</td>\n",
       "      <td>NaN</td>\n",
       "      <td>NaN</td>\n",
       "      <td>NaN</td>\n",
       "      <td>NaN</td>\n",
       "      <td>NaN</td>\n",
       "      <td>NaN</td>\n",
       "      <td>NaN</td>\n",
       "      <td>NaN</td>\n",
       "      <td>NaN</td>\n",
       "      <td>0.0</td>\n",
       "    </tr>\n",
       "    <tr>\n",
       "      <th>...</th>\n",
       "      <td>...</td>\n",
       "      <td>...</td>\n",
       "      <td>...</td>\n",
       "      <td>...</td>\n",
       "      <td>...</td>\n",
       "      <td>...</td>\n",
       "      <td>...</td>\n",
       "      <td>...</td>\n",
       "      <td>...</td>\n",
       "      <td>...</td>\n",
       "      <td>...</td>\n",
       "      <td>...</td>\n",
       "    </tr>\n",
       "    <tr>\n",
       "      <th>833</th>\n",
       "      <td>2022-05-04</td>\n",
       "      <td>17438068</td>\n",
       "      <td>50206.000</td>\n",
       "      <td>23158.0</td>\n",
       "      <td>98.857</td>\n",
       "      <td>NaN</td>\n",
       "      <td>123823568.0</td>\n",
       "      <td>45035707.0</td>\n",
       "      <td>44552151.0</td>\n",
       "      <td>35751870.0</td>\n",
       "      <td>171751.0</td>\n",
       "      <td>NaN</td>\n",
       "    </tr>\n",
       "    <tr>\n",
       "      <th>834</th>\n",
       "      <td>2022-05-05</td>\n",
       "      <td>17464782</td>\n",
       "      <td>38595.143</td>\n",
       "      <td>23206.0</td>\n",
       "      <td>68.857</td>\n",
       "      <td>NaN</td>\n",
       "      <td>123827205.0</td>\n",
       "      <td>45035755.0</td>\n",
       "      <td>44552199.0</td>\n",
       "      <td>35755411.0</td>\n",
       "      <td>141965.0</td>\n",
       "      <td>NaN</td>\n",
       "    </tr>\n",
       "    <tr>\n",
       "      <th>835</th>\n",
       "      <td>2022-05-06</td>\n",
       "      <td>17504334</td>\n",
       "      <td>38065.143</td>\n",
       "      <td>23289.0</td>\n",
       "      <td>70.714</td>\n",
       "      <td>NaN</td>\n",
       "      <td>124081671.0</td>\n",
       "      <td>45037744.0</td>\n",
       "      <td>44554769.0</td>\n",
       "      <td>36005324.0</td>\n",
       "      <td>121894.0</td>\n",
       "      <td>NaN</td>\n",
       "    </tr>\n",
       "    <tr>\n",
       "      <th>836</th>\n",
       "      <td>2022-05-07</td>\n",
       "      <td>17544398</td>\n",
       "      <td>38392.714</td>\n",
       "      <td>23360.0</td>\n",
       "      <td>69.286</td>\n",
       "      <td>NaN</td>\n",
       "      <td>124131520.0</td>\n",
       "      <td>45038345.0</td>\n",
       "      <td>44555512.0</td>\n",
       "      <td>36053829.0</td>\n",
       "      <td>117082.0</td>\n",
       "      <td>NaN</td>\n",
       "    </tr>\n",
       "    <tr>\n",
       "      <th>837</th>\n",
       "      <td>2022-05-08</td>\n",
       "      <td>17564999</td>\n",
       "      <td>38466.571</td>\n",
       "      <td>23400.0</td>\n",
       "      <td>63.143</td>\n",
       "      <td>NaN</td>\n",
       "      <td>124132147.0</td>\n",
       "      <td>45038357.0</td>\n",
       "      <td>44555519.0</td>\n",
       "      <td>36054437.0</td>\n",
       "      <td>117003.0</td>\n",
       "      <td>NaN</td>\n",
       "    </tr>\n",
       "  </tbody>\n",
       "</table>\n",
       "<p>838 rows × 12 columns</p>\n",
       "</div>"
      ],
      "text/plain": [
       "          date  total_cases  new_cases_smoothed  total_deaths  \\\n",
       "0   2020-01-22            1                 NaN           NaN   \n",
       "1   2020-01-23            1                 NaN           NaN   \n",
       "2   2020-01-24            2                 NaN           NaN   \n",
       "3   2020-01-25            2                 NaN           NaN   \n",
       "4   2020-01-26            3                 NaN           NaN   \n",
       "..         ...          ...                 ...           ...   \n",
       "833 2022-05-04     17438068           50206.000       23158.0   \n",
       "834 2022-05-05     17464782           38595.143       23206.0   \n",
       "835 2022-05-06     17504334           38065.143       23289.0   \n",
       "836 2022-05-07     17544398           38392.714       23360.0   \n",
       "837 2022-05-08     17564999           38466.571       23400.0   \n",
       "\n",
       "     new_deaths_smoothed  icu_patients  total_vaccinations  people_vaccinated  \\\n",
       "0                    NaN           NaN                 NaN                NaN   \n",
       "1                    NaN           NaN                 NaN                NaN   \n",
       "2                    NaN           NaN                 NaN                NaN   \n",
       "3                    NaN           NaN                 NaN                NaN   \n",
       "4                    NaN           NaN                 NaN                NaN   \n",
       "..                   ...           ...                 ...                ...   \n",
       "833               98.857           NaN         123823568.0         45035707.0   \n",
       "834               68.857           NaN         123827205.0         45035755.0   \n",
       "835               70.714           NaN         124081671.0         45037744.0   \n",
       "836               69.286           NaN         124131520.0         45038345.0   \n",
       "837               63.143           NaN         124132147.0         45038357.0   \n",
       "\n",
       "     people_fully_vaccinated  total_boosters  new_vaccinations_smoothed  \\\n",
       "0                        NaN             NaN                        NaN   \n",
       "1                        NaN             NaN                        NaN   \n",
       "2                        NaN             NaN                        NaN   \n",
       "3                        NaN             NaN                        NaN   \n",
       "4                        NaN             NaN                        NaN   \n",
       "..                       ...             ...                        ...   \n",
       "833               44552151.0      35751870.0                   171751.0   \n",
       "834               44552199.0      35755411.0                   141965.0   \n",
       "835               44554769.0      36005324.0                   121894.0   \n",
       "836               44555512.0      36053829.0                   117082.0   \n",
       "837               44555519.0      36054437.0                   117003.0   \n",
       "\n",
       "     stringency_index  \n",
       "0                 0.0  \n",
       "1                 0.0  \n",
       "2                 0.0  \n",
       "3                 0.0  \n",
       "4                 0.0  \n",
       "..                ...  \n",
       "833               NaN  \n",
       "834               NaN  \n",
       "835               NaN  \n",
       "836               NaN  \n",
       "837               NaN  \n",
       "\n",
       "[838 rows x 12 columns]"
      ]
     },
     "execution_count": 473,
     "metadata": {},
     "output_type": "execute_result"
    }
   ],
   "source": [
    "data2"
   ]
  },
  {
   "cell_type": "code",
   "execution_count": 474,
   "metadata": {},
   "outputs": [],
   "source": [
    "data2.set_index(keys=['date'],inplace=True)\n",
    "data2.fillna(0, inplace=True)"
   ]
  },
  {
   "cell_type": "code",
   "execution_count": 475,
   "metadata": {},
   "outputs": [
    {
     "data": {
      "text/html": [
       "<div>\n",
       "<style scoped>\n",
       "    .dataframe tbody tr th:only-of-type {\n",
       "        vertical-align: middle;\n",
       "    }\n",
       "\n",
       "    .dataframe tbody tr th {\n",
       "        vertical-align: top;\n",
       "    }\n",
       "\n",
       "    .dataframe thead th {\n",
       "        text-align: right;\n",
       "    }\n",
       "</style>\n",
       "<table border=\"1\" class=\"dataframe\">\n",
       "  <thead>\n",
       "    <tr style=\"text-align: right;\">\n",
       "      <th></th>\n",
       "      <th>total_cases</th>\n",
       "      <th>new_cases_smoothed</th>\n",
       "      <th>total_deaths</th>\n",
       "      <th>new_deaths_smoothed</th>\n",
       "      <th>icu_patients</th>\n",
       "      <th>total_vaccinations</th>\n",
       "      <th>people_vaccinated</th>\n",
       "      <th>people_fully_vaccinated</th>\n",
       "      <th>total_boosters</th>\n",
       "      <th>new_vaccinations_smoothed</th>\n",
       "      <th>stringency_index</th>\n",
       "    </tr>\n",
       "    <tr>\n",
       "      <th>date</th>\n",
       "      <th></th>\n",
       "      <th></th>\n",
       "      <th></th>\n",
       "      <th></th>\n",
       "      <th></th>\n",
       "      <th></th>\n",
       "      <th></th>\n",
       "      <th></th>\n",
       "      <th></th>\n",
       "      <th></th>\n",
       "      <th></th>\n",
       "    </tr>\n",
       "  </thead>\n",
       "  <tbody>\n",
       "    <tr>\n",
       "      <th>2020-01-22</th>\n",
       "      <td>1</td>\n",
       "      <td>0.000</td>\n",
       "      <td>0.0</td>\n",
       "      <td>0.000</td>\n",
       "      <td>0.0</td>\n",
       "      <td>0.0</td>\n",
       "      <td>0.0</td>\n",
       "      <td>0.0</td>\n",
       "      <td>0.0</td>\n",
       "      <td>0.0</td>\n",
       "      <td>0.0</td>\n",
       "    </tr>\n",
       "    <tr>\n",
       "      <th>2020-01-23</th>\n",
       "      <td>1</td>\n",
       "      <td>0.000</td>\n",
       "      <td>0.0</td>\n",
       "      <td>0.000</td>\n",
       "      <td>0.0</td>\n",
       "      <td>0.0</td>\n",
       "      <td>0.0</td>\n",
       "      <td>0.0</td>\n",
       "      <td>0.0</td>\n",
       "      <td>0.0</td>\n",
       "      <td>0.0</td>\n",
       "    </tr>\n",
       "    <tr>\n",
       "      <th>2020-01-24</th>\n",
       "      <td>2</td>\n",
       "      <td>0.000</td>\n",
       "      <td>0.0</td>\n",
       "      <td>0.000</td>\n",
       "      <td>0.0</td>\n",
       "      <td>0.0</td>\n",
       "      <td>0.0</td>\n",
       "      <td>0.0</td>\n",
       "      <td>0.0</td>\n",
       "      <td>0.0</td>\n",
       "      <td>0.0</td>\n",
       "    </tr>\n",
       "    <tr>\n",
       "      <th>2020-01-25</th>\n",
       "      <td>2</td>\n",
       "      <td>0.000</td>\n",
       "      <td>0.0</td>\n",
       "      <td>0.000</td>\n",
       "      <td>0.0</td>\n",
       "      <td>0.0</td>\n",
       "      <td>0.0</td>\n",
       "      <td>0.0</td>\n",
       "      <td>0.0</td>\n",
       "      <td>0.0</td>\n",
       "      <td>0.0</td>\n",
       "    </tr>\n",
       "    <tr>\n",
       "      <th>2020-01-26</th>\n",
       "      <td>3</td>\n",
       "      <td>0.000</td>\n",
       "      <td>0.0</td>\n",
       "      <td>0.000</td>\n",
       "      <td>0.0</td>\n",
       "      <td>0.0</td>\n",
       "      <td>0.0</td>\n",
       "      <td>0.0</td>\n",
       "      <td>0.0</td>\n",
       "      <td>0.0</td>\n",
       "      <td>0.0</td>\n",
       "    </tr>\n",
       "    <tr>\n",
       "      <th>...</th>\n",
       "      <td>...</td>\n",
       "      <td>...</td>\n",
       "      <td>...</td>\n",
       "      <td>...</td>\n",
       "      <td>...</td>\n",
       "      <td>...</td>\n",
       "      <td>...</td>\n",
       "      <td>...</td>\n",
       "      <td>...</td>\n",
       "      <td>...</td>\n",
       "      <td>...</td>\n",
       "    </tr>\n",
       "    <tr>\n",
       "      <th>2022-05-04</th>\n",
       "      <td>17438068</td>\n",
       "      <td>50206.000</td>\n",
       "      <td>23158.0</td>\n",
       "      <td>98.857</td>\n",
       "      <td>0.0</td>\n",
       "      <td>123823568.0</td>\n",
       "      <td>45035707.0</td>\n",
       "      <td>44552151.0</td>\n",
       "      <td>35751870.0</td>\n",
       "      <td>171751.0</td>\n",
       "      <td>0.0</td>\n",
       "    </tr>\n",
       "    <tr>\n",
       "      <th>2022-05-05</th>\n",
       "      <td>17464782</td>\n",
       "      <td>38595.143</td>\n",
       "      <td>23206.0</td>\n",
       "      <td>68.857</td>\n",
       "      <td>0.0</td>\n",
       "      <td>123827205.0</td>\n",
       "      <td>45035755.0</td>\n",
       "      <td>44552199.0</td>\n",
       "      <td>35755411.0</td>\n",
       "      <td>141965.0</td>\n",
       "      <td>0.0</td>\n",
       "    </tr>\n",
       "    <tr>\n",
       "      <th>2022-05-06</th>\n",
       "      <td>17504334</td>\n",
       "      <td>38065.143</td>\n",
       "      <td>23289.0</td>\n",
       "      <td>70.714</td>\n",
       "      <td>0.0</td>\n",
       "      <td>124081671.0</td>\n",
       "      <td>45037744.0</td>\n",
       "      <td>44554769.0</td>\n",
       "      <td>36005324.0</td>\n",
       "      <td>121894.0</td>\n",
       "      <td>0.0</td>\n",
       "    </tr>\n",
       "    <tr>\n",
       "      <th>2022-05-07</th>\n",
       "      <td>17544398</td>\n",
       "      <td>38392.714</td>\n",
       "      <td>23360.0</td>\n",
       "      <td>69.286</td>\n",
       "      <td>0.0</td>\n",
       "      <td>124131520.0</td>\n",
       "      <td>45038345.0</td>\n",
       "      <td>44555512.0</td>\n",
       "      <td>36053829.0</td>\n",
       "      <td>117082.0</td>\n",
       "      <td>0.0</td>\n",
       "    </tr>\n",
       "    <tr>\n",
       "      <th>2022-05-08</th>\n",
       "      <td>17564999</td>\n",
       "      <td>38466.571</td>\n",
       "      <td>23400.0</td>\n",
       "      <td>63.143</td>\n",
       "      <td>0.0</td>\n",
       "      <td>124132147.0</td>\n",
       "      <td>45038357.0</td>\n",
       "      <td>44555519.0</td>\n",
       "      <td>36054437.0</td>\n",
       "      <td>117003.0</td>\n",
       "      <td>0.0</td>\n",
       "    </tr>\n",
       "  </tbody>\n",
       "</table>\n",
       "<p>838 rows × 11 columns</p>\n",
       "</div>"
      ],
      "text/plain": [
       "            total_cases  new_cases_smoothed  total_deaths  \\\n",
       "date                                                        \n",
       "2020-01-22            1               0.000           0.0   \n",
       "2020-01-23            1               0.000           0.0   \n",
       "2020-01-24            2               0.000           0.0   \n",
       "2020-01-25            2               0.000           0.0   \n",
       "2020-01-26            3               0.000           0.0   \n",
       "...                 ...                 ...           ...   \n",
       "2022-05-04     17438068           50206.000       23158.0   \n",
       "2022-05-05     17464782           38595.143       23206.0   \n",
       "2022-05-06     17504334           38065.143       23289.0   \n",
       "2022-05-07     17544398           38392.714       23360.0   \n",
       "2022-05-08     17564999           38466.571       23400.0   \n",
       "\n",
       "            new_deaths_smoothed  icu_patients  total_vaccinations  \\\n",
       "date                                                                \n",
       "2020-01-22                0.000           0.0                 0.0   \n",
       "2020-01-23                0.000           0.0                 0.0   \n",
       "2020-01-24                0.000           0.0                 0.0   \n",
       "2020-01-25                0.000           0.0                 0.0   \n",
       "2020-01-26                0.000           0.0                 0.0   \n",
       "...                         ...           ...                 ...   \n",
       "2022-05-04               98.857           0.0         123823568.0   \n",
       "2022-05-05               68.857           0.0         123827205.0   \n",
       "2022-05-06               70.714           0.0         124081671.0   \n",
       "2022-05-07               69.286           0.0         124131520.0   \n",
       "2022-05-08               63.143           0.0         124132147.0   \n",
       "\n",
       "            people_vaccinated  people_fully_vaccinated  total_boosters  \\\n",
       "date                                                                     \n",
       "2020-01-22                0.0                      0.0             0.0   \n",
       "2020-01-23                0.0                      0.0             0.0   \n",
       "2020-01-24                0.0                      0.0             0.0   \n",
       "2020-01-25                0.0                      0.0             0.0   \n",
       "2020-01-26                0.0                      0.0             0.0   \n",
       "...                       ...                      ...             ...   \n",
       "2022-05-04         45035707.0               44552151.0      35751870.0   \n",
       "2022-05-05         45035755.0               44552199.0      35755411.0   \n",
       "2022-05-06         45037744.0               44554769.0      36005324.0   \n",
       "2022-05-07         45038345.0               44555512.0      36053829.0   \n",
       "2022-05-08         45038357.0               44555519.0      36054437.0   \n",
       "\n",
       "            new_vaccinations_smoothed  stringency_index  \n",
       "date                                                     \n",
       "2020-01-22                        0.0               0.0  \n",
       "2020-01-23                        0.0               0.0  \n",
       "2020-01-24                        0.0               0.0  \n",
       "2020-01-25                        0.0               0.0  \n",
       "2020-01-26                        0.0               0.0  \n",
       "...                               ...               ...  \n",
       "2022-05-04                   171751.0               0.0  \n",
       "2022-05-05                   141965.0               0.0  \n",
       "2022-05-06                   121894.0               0.0  \n",
       "2022-05-07                   117082.0               0.0  \n",
       "2022-05-08                   117003.0               0.0  \n",
       "\n",
       "[838 rows x 11 columns]"
      ]
     },
     "execution_count": 475,
     "metadata": {},
     "output_type": "execute_result"
    }
   ],
   "source": [
    "data2"
   ]
  },
  {
   "cell_type": "code",
   "execution_count": 476,
   "metadata": {},
   "outputs": [],
   "source": [
    "data_all=pd.concat([data, data2], axis=1)"
   ]
  },
  {
   "cell_type": "code",
   "execution_count": 477,
   "metadata": {},
   "outputs": [],
   "source": [
    "data_all['국내발생(명)']=pd.to_numeric(data_all['국내발생(명)'])\n",
    "data_all['해외유입(명)']=pd.to_numeric(data_all['해외유입(명)'])\n",
    "data_all['사망(명)']=pd.to_numeric(data_all['사망(명)'])"
   ]
  },
  {
   "cell_type": "code",
   "execution_count": 478,
   "metadata": {},
   "outputs": [],
   "source": [
    "# stringency_index: 엄격성 지수\n",
    "# icu_patient 중환자"
   ]
  },
  {
   "cell_type": "code",
   "execution_count": 479,
   "metadata": {},
   "outputs": [
    {
     "data": {
      "text/plain": [
       "<AxesSubplot:>"
      ]
     },
     "execution_count": 479,
     "metadata": {},
     "output_type": "execute_result"
    },
    {
     "data": {
      "image/png": "[encoded data removed]",
      "text/plain": [
       "<Figure size 864x432 with 1 Axes>"
      ]
     },
     "metadata": {
      "needs_background": "light"
     },
     "output_type": "display_data"
    }
   ],
   "source": [
    "plt.figure(figsize=(12,6))\n",
    "sns.boxplot(data=data_selected.iloc[:,0])"
   ]
  },
  {
   "cell_type": "code",
   "execution_count": 480,
   "metadata": {},
   "outputs": [
    {
     "data": {
      "text/plain": [
       "<AxesSubplot:>"
      ]
     },
     "execution_count": 480,
     "metadata": {},
     "output_type": "execute_result"
    },
    {
     "data": {
      "image/png": "[encoded data removed]",
      "text/plain": [
       "<Figure size 864x432 with 1 Axes>"
      ]
     },
     "metadata": {
      "needs_background": "light"
     },
     "output_type": "display_data"
    }
   ],
   "source": [
    "plt.figure(figsize=(12,6))\n",
    "sns.boxplot(data=data_selected.iloc[:,1])\n"
   ]
  },
  {
   "cell_type": "code",
   "execution_count": 481,
   "metadata": {},
   "outputs": [
    {
     "data": {
      "text/plain": [
       "<AxesSubplot:>"
      ]
     },
     "execution_count": 481,
     "metadata": {},
     "output_type": "execute_result"
    },
    {
     "data": {
      "image/png": "[encoded data removed]",
      "text/plain": [
       "<Figure size 864x432 with 1 Axes>"
      ]
     },
     "metadata": {
      "needs_background": "light"
     },
     "output_type": "display_data"
    }
   ],
   "source": [
    "plt.figure(figsize=(12,6))\n",
    "sns.boxplot(data=data_selected.iloc[:,2])\n"
   ]
  },
  {
   "cell_type": "code",
   "execution_count": 482,
   "metadata": {},
   "outputs": [
    {
     "data": {
      "text/plain": [
       "<AxesSubplot:>"
      ]
     },
     "execution_count": 482,
     "metadata": {},
     "output_type": "execute_result"
    },
    {
     "data": {
      "image/png": "[encoded data removed]",
      "text/plain": [
       "<Figure size 864x432 with 1 Axes>"
      ]
     },
     "metadata": {
      "needs_background": "light"
     },
     "output_type": "display_data"
    }
   ],
   "source": [
    "plt.figure(figsize=(12,6))\n",
    "sns.boxplot(data=data_selected.iloc[:,3])"
   ]
  },
  {
   "cell_type": "code",
   "execution_count": 483,
   "metadata": {},
   "outputs": [
    {
     "data": {
      "text/plain": [
       "<AxesSubplot:>"
      ]
     },
     "execution_count": 483,
     "metadata": {},
     "output_type": "execute_result"
    },
    {
     "data": {
      "image/png": "[encoded data removed]",
      "text/plain": [
       "<Figure size 864x432 with 1 Axes>"
      ]
     },
     "metadata": {
      "needs_background": "light"
     },
     "output_type": "display_data"
    }
   ],
   "source": [
    "plt.figure(figsize=(12,6))\n",
    "sns.boxplot(data=data_selected.iloc[:,4])"
   ]
  },
  {
   "cell_type": "code",
   "execution_count": 484,
   "metadata": {},
   "outputs": [
    {
     "data": {
      "text/plain": [
       "<AxesSubplot:>"
      ]
     },
     "execution_count": 484,
     "metadata": {},
     "output_type": "execute_result"
    },
    {
     "data": {
      "image/png": "[encoded data removed]",
      "text/plain": [
       "<Figure size 864x432 with 1 Axes>"
      ]
     },
     "metadata": {
      "needs_background": "light"
     },
     "output_type": "display_data"
    }
   ],
   "source": [
    "plt.figure(figsize=(12,6))\n",
    "sns.boxplot(data=data_selected.iloc[:,5])"
   ]
  },
  {
   "cell_type": "code",
   "execution_count": 485,
   "metadata": {},
   "outputs": [
    {
     "data": {
      "text/plain": [
       "<AxesSubplot:>"
      ]
     },
     "execution_count": 485,
     "metadata": {},
     "output_type": "execute_result"
    },
    {
     "data": {
      "image/png": "[encoded data removed]",
      "text/plain": [
       "<Figure size 864x432 with 1 Axes>"
      ]
     },
     "metadata": {
      "needs_background": "light"
     },
     "output_type": "display_data"
    }
   ],
   "source": [
    "plt.figure(figsize=(12,6))\n",
    "sns.boxplot(data=data_selected.iloc[:,6])"
   ]
  },
  {
   "cell_type": "code",
   "execution_count": 486,
   "metadata": {},
   "outputs": [
    {
     "data": {
      "text/html": [
       "<div>\n",
       "<style scoped>\n",
       "    .dataframe tbody tr th:only-of-type {\n",
       "        vertical-align: middle;\n",
       "    }\n",
       "\n",
       "    .dataframe tbody tr th {\n",
       "        vertical-align: top;\n",
       "    }\n",
       "\n",
       "    .dataframe thead th {\n",
       "        text-align: right;\n",
       "    }\n",
       "</style>\n",
       "<table border=\"1\" class=\"dataframe\">\n",
       "  <thead>\n",
       "    <tr style=\"text-align: right;\">\n",
       "      <th></th>\n",
       "      <th>계(명)</th>\n",
       "      <th>국내발생(명)</th>\n",
       "      <th>해외유입(명)</th>\n",
       "      <th>사망(명)</th>\n",
       "      <th>total_cases</th>\n",
       "      <th>new_cases_smoothed</th>\n",
       "      <th>total_deaths</th>\n",
       "      <th>new_deaths_smoothed</th>\n",
       "      <th>icu_patients</th>\n",
       "      <th>total_vaccinations</th>\n",
       "      <th>people_vaccinated</th>\n",
       "      <th>people_fully_vaccinated</th>\n",
       "      <th>total_boosters</th>\n",
       "      <th>new_vaccinations_smoothed</th>\n",
       "      <th>stringency_index</th>\n",
       "    </tr>\n",
       "  </thead>\n",
       "  <tbody>\n",
       "    <tr>\n",
       "      <th>계(명)</th>\n",
       "      <td>1.0</td>\n",
       "      <td>1.0</td>\n",
       "      <td>0.1</td>\n",
       "      <td>0.9</td>\n",
       "      <td>0.6</td>\n",
       "      <td>1.0</td>\n",
       "      <td>0.6</td>\n",
       "      <td>0.9</td>\n",
       "      <td>0.7</td>\n",
       "      <td>0.6</td>\n",
       "      <td>0.5</td>\n",
       "      <td>0.5</td>\n",
       "      <td>0.7</td>\n",
       "      <td>-0.1</td>\n",
       "      <td>-0.2</td>\n",
       "    </tr>\n",
       "    <tr>\n",
       "      <th>국내발생(명)</th>\n",
       "      <td>1.0</td>\n",
       "      <td>1.0</td>\n",
       "      <td>0.1</td>\n",
       "      <td>0.9</td>\n",
       "      <td>0.6</td>\n",
       "      <td>1.0</td>\n",
       "      <td>0.6</td>\n",
       "      <td>0.9</td>\n",
       "      <td>0.7</td>\n",
       "      <td>0.6</td>\n",
       "      <td>0.5</td>\n",
       "      <td>0.5</td>\n",
       "      <td>0.7</td>\n",
       "      <td>-0.1</td>\n",
       "      <td>-0.2</td>\n",
       "    </tr>\n",
       "    <tr>\n",
       "      <th>해외유입(명)</th>\n",
       "      <td>0.1</td>\n",
       "      <td>0.1</td>\n",
       "      <td>1.0</td>\n",
       "      <td>0.1</td>\n",
       "      <td>0.0</td>\n",
       "      <td>0.1</td>\n",
       "      <td>0.3</td>\n",
       "      <td>0.1</td>\n",
       "      <td>0.4</td>\n",
       "      <td>0.5</td>\n",
       "      <td>0.5</td>\n",
       "      <td>0.5</td>\n",
       "      <td>0.5</td>\n",
       "      <td>0.3</td>\n",
       "      <td>-0.0</td>\n",
       "    </tr>\n",
       "    <tr>\n",
       "      <th>사망(명)</th>\n",
       "      <td>0.9</td>\n",
       "      <td>0.9</td>\n",
       "      <td>0.1</td>\n",
       "      <td>1.0</td>\n",
       "      <td>0.8</td>\n",
       "      <td>0.9</td>\n",
       "      <td>0.8</td>\n",
       "      <td>1.0</td>\n",
       "      <td>0.8</td>\n",
       "      <td>0.7</td>\n",
       "      <td>0.6</td>\n",
       "      <td>0.6</td>\n",
       "      <td>0.8</td>\n",
       "      <td>-0.0</td>\n",
       "      <td>-0.3</td>\n",
       "    </tr>\n",
       "    <tr>\n",
       "      <th>total_cases</th>\n",
       "      <td>0.6</td>\n",
       "      <td>0.6</td>\n",
       "      <td>0.0</td>\n",
       "      <td>0.8</td>\n",
       "      <td>1.0</td>\n",
       "      <td>0.7</td>\n",
       "      <td>1.0</td>\n",
       "      <td>0.8</td>\n",
       "      <td>0.6</td>\n",
       "      <td>0.6</td>\n",
       "      <td>0.5</td>\n",
       "      <td>0.6</td>\n",
       "      <td>0.8</td>\n",
       "      <td>-0.1</td>\n",
       "      <td>-0.5</td>\n",
       "    </tr>\n",
       "    <tr>\n",
       "      <th>new_cases_smoothed</th>\n",
       "      <td>1.0</td>\n",
       "      <td>1.0</td>\n",
       "      <td>0.1</td>\n",
       "      <td>0.9</td>\n",
       "      <td>0.7</td>\n",
       "      <td>1.0</td>\n",
       "      <td>0.7</td>\n",
       "      <td>0.9</td>\n",
       "      <td>0.7</td>\n",
       "      <td>0.6</td>\n",
       "      <td>0.5</td>\n",
       "      <td>0.5</td>\n",
       "      <td>0.7</td>\n",
       "      <td>-0.1</td>\n",
       "      <td>-0.3</td>\n",
       "    </tr>\n",
       "    <tr>\n",
       "      <th>total_deaths</th>\n",
       "      <td>0.6</td>\n",
       "      <td>0.6</td>\n",
       "      <td>0.3</td>\n",
       "      <td>0.8</td>\n",
       "      <td>1.0</td>\n",
       "      <td>0.7</td>\n",
       "      <td>1.0</td>\n",
       "      <td>0.8</td>\n",
       "      <td>0.7</td>\n",
       "      <td>0.8</td>\n",
       "      <td>0.7</td>\n",
       "      <td>0.7</td>\n",
       "      <td>0.9</td>\n",
       "      <td>0.1</td>\n",
       "      <td>-0.5</td>\n",
       "    </tr>\n",
       "    <tr>\n",
       "      <th>new_deaths_smoothed</th>\n",
       "      <td>0.9</td>\n",
       "      <td>0.9</td>\n",
       "      <td>0.1</td>\n",
       "      <td>1.0</td>\n",
       "      <td>0.8</td>\n",
       "      <td>0.9</td>\n",
       "      <td>0.8</td>\n",
       "      <td>1.0</td>\n",
       "      <td>0.8</td>\n",
       "      <td>0.7</td>\n",
       "      <td>0.6</td>\n",
       "      <td>0.6</td>\n",
       "      <td>0.8</td>\n",
       "      <td>-0.0</td>\n",
       "      <td>-0.3</td>\n",
       "    </tr>\n",
       "    <tr>\n",
       "      <th>icu_patients</th>\n",
       "      <td>0.7</td>\n",
       "      <td>0.7</td>\n",
       "      <td>0.4</td>\n",
       "      <td>0.8</td>\n",
       "      <td>0.6</td>\n",
       "      <td>0.7</td>\n",
       "      <td>0.7</td>\n",
       "      <td>0.8</td>\n",
       "      <td>1.0</td>\n",
       "      <td>0.8</td>\n",
       "      <td>0.8</td>\n",
       "      <td>0.8</td>\n",
       "      <td>0.7</td>\n",
       "      <td>0.4</td>\n",
       "      <td>-0.3</td>\n",
       "    </tr>\n",
       "    <tr>\n",
       "      <th>total_vaccinations</th>\n",
       "      <td>0.6</td>\n",
       "      <td>0.6</td>\n",
       "      <td>0.5</td>\n",
       "      <td>0.7</td>\n",
       "      <td>0.6</td>\n",
       "      <td>0.6</td>\n",
       "      <td>0.8</td>\n",
       "      <td>0.7</td>\n",
       "      <td>0.8</td>\n",
       "      <td>1.0</td>\n",
       "      <td>1.0</td>\n",
       "      <td>1.0</td>\n",
       "      <td>0.9</td>\n",
       "      <td>0.5</td>\n",
       "      <td>-0.5</td>\n",
       "    </tr>\n",
       "    <tr>\n",
       "      <th>people_vaccinated</th>\n",
       "      <td>0.5</td>\n",
       "      <td>0.5</td>\n",
       "      <td>0.5</td>\n",
       "      <td>0.6</td>\n",
       "      <td>0.5</td>\n",
       "      <td>0.5</td>\n",
       "      <td>0.7</td>\n",
       "      <td>0.6</td>\n",
       "      <td>0.8</td>\n",
       "      <td>1.0</td>\n",
       "      <td>1.0</td>\n",
       "      <td>1.0</td>\n",
       "      <td>0.7</td>\n",
       "      <td>0.6</td>\n",
       "      <td>-0.5</td>\n",
       "    </tr>\n",
       "    <tr>\n",
       "      <th>people_fully_vaccinated</th>\n",
       "      <td>0.5</td>\n",
       "      <td>0.5</td>\n",
       "      <td>0.5</td>\n",
       "      <td>0.6</td>\n",
       "      <td>0.6</td>\n",
       "      <td>0.5</td>\n",
       "      <td>0.7</td>\n",
       "      <td>0.6</td>\n",
       "      <td>0.8</td>\n",
       "      <td>1.0</td>\n",
       "      <td>1.0</td>\n",
       "      <td>1.0</td>\n",
       "      <td>0.8</td>\n",
       "      <td>0.5</td>\n",
       "      <td>-0.5</td>\n",
       "    </tr>\n",
       "    <tr>\n",
       "      <th>total_boosters</th>\n",
       "      <td>0.7</td>\n",
       "      <td>0.7</td>\n",
       "      <td>0.5</td>\n",
       "      <td>0.8</td>\n",
       "      <td>0.8</td>\n",
       "      <td>0.7</td>\n",
       "      <td>0.9</td>\n",
       "      <td>0.8</td>\n",
       "      <td>0.7</td>\n",
       "      <td>0.9</td>\n",
       "      <td>0.7</td>\n",
       "      <td>0.8</td>\n",
       "      <td>1.0</td>\n",
       "      <td>0.1</td>\n",
       "      <td>-0.4</td>\n",
       "    </tr>\n",
       "    <tr>\n",
       "      <th>new_vaccinations_smoothed</th>\n",
       "      <td>-0.1</td>\n",
       "      <td>-0.1</td>\n",
       "      <td>0.3</td>\n",
       "      <td>-0.0</td>\n",
       "      <td>-0.1</td>\n",
       "      <td>-0.1</td>\n",
       "      <td>0.1</td>\n",
       "      <td>-0.0</td>\n",
       "      <td>0.4</td>\n",
       "      <td>0.5</td>\n",
       "      <td>0.6</td>\n",
       "      <td>0.5</td>\n",
       "      <td>0.1</td>\n",
       "      <td>1.0</td>\n",
       "      <td>-0.2</td>\n",
       "    </tr>\n",
       "    <tr>\n",
       "      <th>stringency_index</th>\n",
       "      <td>-0.2</td>\n",
       "      <td>-0.2</td>\n",
       "      <td>-0.0</td>\n",
       "      <td>-0.3</td>\n",
       "      <td>-0.5</td>\n",
       "      <td>-0.3</td>\n",
       "      <td>-0.5</td>\n",
       "      <td>-0.3</td>\n",
       "      <td>-0.3</td>\n",
       "      <td>-0.5</td>\n",
       "      <td>-0.5</td>\n",
       "      <td>-0.5</td>\n",
       "      <td>-0.4</td>\n",
       "      <td>-0.2</td>\n",
       "      <td>1.0</td>\n",
       "    </tr>\n",
       "  </tbody>\n",
       "</table>\n",
       "</div>"
      ],
      "text/plain": [
       "                           계(명)  국내발생(명)  해외유입(명)  사망(명)  total_cases  \\\n",
       "계(명)                        1.0      1.0      0.1    0.9          0.6   \n",
       "국내발생(명)                     1.0      1.0      0.1    0.9          0.6   \n",
       "해외유입(명)                     0.1      0.1      1.0    0.1          0.0   \n",
       "사망(명)                       0.9      0.9      0.1    1.0          0.8   \n",
       "total_cases                 0.6      0.6      0.0    0.8          1.0   \n",
       "new_cases_smoothed          1.0      1.0      0.1    0.9          0.7   \n",
       "total_deaths                0.6      0.6      0.3    0.8          1.0   \n",
       "new_deaths_smoothed         0.9      0.9      0.1    1.0          0.8   \n",
       "icu_patients                0.7      0.7      0.4    0.8          0.6   \n",
       "total_vaccinations          0.6      0.6      0.5    0.7          0.6   \n",
       "people_vaccinated           0.5      0.5      0.5    0.6          0.5   \n",
       "people_fully_vaccinated     0.5      0.5      0.5    0.6          0.6   \n",
       "total_boosters              0.7      0.7      0.5    0.8          0.8   \n",
       "new_vaccinations_smoothed  -0.1     -0.1      0.3   -0.0         -0.1   \n",
       "stringency_index           -0.2     -0.2     -0.0   -0.3         -0.5   \n",
       "\n",
       "                           new_cases_smoothed  total_deaths  \\\n",
       "계(명)                                      1.0           0.6   \n",
       "국내발생(명)                                   1.0           0.6   \n",
       "해외유입(명)                                   0.1           0.3   \n",
       "사망(명)                                     0.9           0.8   \n",
       "total_cases                               0.7           1.0   \n",
       "new_cases_smoothed                        1.0           0.7   \n",
       "total_deaths                              0.7           1.0   \n",
       "new_deaths_smoothed                       0.9           0.8   \n",
       "icu_patients                              0.7           0.7   \n",
       "total_vaccinations                        0.6           0.8   \n",
       "people_vaccinated                         0.5           0.7   \n",
       "people_fully_vaccinated                   0.5           0.7   \n",
       "total_boosters                            0.7           0.9   \n",
       "new_vaccinations_smoothed                -0.1           0.1   \n",
       "stringency_index                         -0.3          -0.5   \n",
       "\n",
       "                           new_deaths_smoothed  icu_patients  \\\n",
       "계(명)                                       0.9           0.7   \n",
       "국내발생(명)                                    0.9           0.7   \n",
       "해외유입(명)                                    0.1           0.4   \n",
       "사망(명)                                      1.0           0.8   \n",
       "total_cases                                0.8           0.6   \n",
       "new_cases_smoothed                         0.9           0.7   \n",
       "total_deaths                               0.8           0.7   \n",
       "new_deaths_smoothed                        1.0           0.8   \n",
       "icu_patients                               0.8           1.0   \n",
       "total_vaccinations                         0.7           0.8   \n",
       "people_vaccinated                          0.6           0.8   \n",
       "people_fully_vaccinated                    0.6           0.8   \n",
       "total_boosters                             0.8           0.7   \n",
       "new_vaccinations_smoothed                 -0.0           0.4   \n",
       "stringency_index                          -0.3          -0.3   \n",
       "\n",
       "                           total_vaccinations  people_vaccinated  \\\n",
       "계(명)                                      0.6                0.5   \n",
       "국내발생(명)                                   0.6                0.5   \n",
       "해외유입(명)                                   0.5                0.5   \n",
       "사망(명)                                     0.7                0.6   \n",
       "total_cases                               0.6                0.5   \n",
       "new_cases_smoothed                        0.6                0.5   \n",
       "total_deaths                              0.8                0.7   \n",
       "new_deaths_smoothed                       0.7                0.6   \n",
       "icu_patients                              0.8                0.8   \n",
       "total_vaccinations                        1.0                1.0   \n",
       "people_vaccinated                         1.0                1.0   \n",
       "people_fully_vaccinated                   1.0                1.0   \n",
       "total_boosters                            0.9                0.7   \n",
       "new_vaccinations_smoothed                 0.5                0.6   \n",
       "stringency_index                         -0.5               -0.5   \n",
       "\n",
       "                           people_fully_vaccinated  total_boosters  \\\n",
       "계(명)                                           0.5             0.7   \n",
       "국내발생(명)                                        0.5             0.7   \n",
       "해외유입(명)                                        0.5             0.5   \n",
       "사망(명)                                          0.6             0.8   \n",
       "total_cases                                    0.6             0.8   \n",
       "new_cases_smoothed                             0.5             0.7   \n",
       "total_deaths                                   0.7             0.9   \n",
       "new_deaths_smoothed                            0.6             0.8   \n",
       "icu_patients                                   0.8             0.7   \n",
       "total_vaccinations                             1.0             0.9   \n",
       "people_vaccinated                              1.0             0.7   \n",
       "people_fully_vaccinated                        1.0             0.8   \n",
       "total_boosters                                 0.8             1.0   \n",
       "new_vaccinations_smoothed                      0.5             0.1   \n",
       "stringency_index                              -0.5            -0.4   \n",
       "\n",
       "                           new_vaccinations_smoothed  stringency_index  \n",
       "계(명)                                            -0.1              -0.2  \n",
       "국내발생(명)                                         -0.1              -0.2  \n",
       "해외유입(명)                                          0.3              -0.0  \n",
       "사망(명)                                           -0.0              -0.3  \n",
       "total_cases                                     -0.1              -0.5  \n",
       "new_cases_smoothed                              -0.1              -0.3  \n",
       "total_deaths                                     0.1              -0.5  \n",
       "new_deaths_smoothed                             -0.0              -0.3  \n",
       "icu_patients                                     0.4              -0.3  \n",
       "total_vaccinations                               0.5              -0.5  \n",
       "people_vaccinated                                0.6              -0.5  \n",
       "people_fully_vaccinated                          0.5              -0.5  \n",
       "total_boosters                                   0.1              -0.4  \n",
       "new_vaccinations_smoothed                        1.0              -0.2  \n",
       "stringency_index                                -0.2               1.0  "
      ]
     },
     "execution_count": 486,
     "metadata": {},
     "output_type": "execute_result"
    }
   ],
   "source": [
    "\n",
    "corr_mat = data_all.corr().round(1)\n",
    "corr_mat"
   ]
  },
  {
   "cell_type": "code",
   "execution_count": 487,
   "metadata": {},
   "outputs": [
    {
     "data": {
      "image/png": "[encoded data removed]",
      "text/plain": [
       "<Figure size 432x288 with 2 Axes>"
      ]
     },
     "metadata": {
      "needs_background": "light"
     },
     "output_type": "display_data"
    }
   ],
   "source": [
    "sns.heatmap(data = corr_mat, annot=True, cmap='bwr');"
   ]
  },
  {
   "cell_type": "code",
   "execution_count": 488,
   "metadata": {},
   "outputs": [],
   "source": [
    "data_selected=data_all.iloc[:,4:]"
   ]
  },
  {
   "cell_type": "code",
   "execution_count": null,
   "metadata": {},
   "outputs": [],
   "source": [
    "## 해외유입 넣기"
   ]
  },
  {
   "cell_type": "code",
   "execution_count": 489,
   "metadata": {},
   "outputs": [
    {
     "data": {
      "text/html": [
       "<div>\n",
       "<style scoped>\n",
       "    .dataframe tbody tr th:only-of-type {\n",
       "        vertical-align: middle;\n",
       "    }\n",
       "\n",
       "    .dataframe tbody tr th {\n",
       "        vertical-align: top;\n",
       "    }\n",
       "\n",
       "    .dataframe thead th {\n",
       "        text-align: right;\n",
       "    }\n",
       "</style>\n",
       "<table border=\"1\" class=\"dataframe\">\n",
       "  <thead>\n",
       "    <tr style=\"text-align: right;\">\n",
       "      <th></th>\n",
       "      <th>total_cases</th>\n",
       "      <th>new_cases_smoothed</th>\n",
       "      <th>total_deaths</th>\n",
       "      <th>new_deaths_smoothed</th>\n",
       "      <th>icu_patients</th>\n",
       "      <th>total_vaccinations</th>\n",
       "      <th>people_vaccinated</th>\n",
       "      <th>people_fully_vaccinated</th>\n",
       "      <th>total_boosters</th>\n",
       "      <th>new_vaccinations_smoothed</th>\n",
       "      <th>stringency_index</th>\n",
       "    </tr>\n",
       "    <tr>\n",
       "      <th>date</th>\n",
       "      <th></th>\n",
       "      <th></th>\n",
       "      <th></th>\n",
       "      <th></th>\n",
       "      <th></th>\n",
       "      <th></th>\n",
       "      <th></th>\n",
       "      <th></th>\n",
       "      <th></th>\n",
       "      <th></th>\n",
       "      <th></th>\n",
       "    </tr>\n",
       "  </thead>\n",
       "  <tbody>\n",
       "    <tr>\n",
       "      <th>2020-01-22</th>\n",
       "      <td>1</td>\n",
       "      <td>0.000</td>\n",
       "      <td>0.0</td>\n",
       "      <td>0.000</td>\n",
       "      <td>0.0</td>\n",
       "      <td>0.0</td>\n",
       "      <td>0.0</td>\n",
       "      <td>0.0</td>\n",
       "      <td>0.0</td>\n",
       "      <td>0.0</td>\n",
       "      <td>0.0</td>\n",
       "    </tr>\n",
       "    <tr>\n",
       "      <th>2020-01-23</th>\n",
       "      <td>1</td>\n",
       "      <td>0.000</td>\n",
       "      <td>0.0</td>\n",
       "      <td>0.000</td>\n",
       "      <td>0.0</td>\n",
       "      <td>0.0</td>\n",
       "      <td>0.0</td>\n",
       "      <td>0.0</td>\n",
       "      <td>0.0</td>\n",
       "      <td>0.0</td>\n",
       "      <td>0.0</td>\n",
       "    </tr>\n",
       "    <tr>\n",
       "      <th>2020-01-24</th>\n",
       "      <td>2</td>\n",
       "      <td>0.000</td>\n",
       "      <td>0.0</td>\n",
       "      <td>0.000</td>\n",
       "      <td>0.0</td>\n",
       "      <td>0.0</td>\n",
       "      <td>0.0</td>\n",
       "      <td>0.0</td>\n",
       "      <td>0.0</td>\n",
       "      <td>0.0</td>\n",
       "      <td>0.0</td>\n",
       "    </tr>\n",
       "    <tr>\n",
       "      <th>2020-01-25</th>\n",
       "      <td>2</td>\n",
       "      <td>0.000</td>\n",
       "      <td>0.0</td>\n",
       "      <td>0.000</td>\n",
       "      <td>0.0</td>\n",
       "      <td>0.0</td>\n",
       "      <td>0.0</td>\n",
       "      <td>0.0</td>\n",
       "      <td>0.0</td>\n",
       "      <td>0.0</td>\n",
       "      <td>0.0</td>\n",
       "    </tr>\n",
       "    <tr>\n",
       "      <th>2020-01-26</th>\n",
       "      <td>3</td>\n",
       "      <td>0.000</td>\n",
       "      <td>0.0</td>\n",
       "      <td>0.000</td>\n",
       "      <td>0.0</td>\n",
       "      <td>0.0</td>\n",
       "      <td>0.0</td>\n",
       "      <td>0.0</td>\n",
       "      <td>0.0</td>\n",
       "      <td>0.0</td>\n",
       "      <td>0.0</td>\n",
       "    </tr>\n",
       "    <tr>\n",
       "      <th>...</th>\n",
       "      <td>...</td>\n",
       "      <td>...</td>\n",
       "      <td>...</td>\n",
       "      <td>...</td>\n",
       "      <td>...</td>\n",
       "      <td>...</td>\n",
       "      <td>...</td>\n",
       "      <td>...</td>\n",
       "      <td>...</td>\n",
       "      <td>...</td>\n",
       "      <td>...</td>\n",
       "    </tr>\n",
       "    <tr>\n",
       "      <th>2022-05-04</th>\n",
       "      <td>17438068</td>\n",
       "      <td>50206.000</td>\n",
       "      <td>23158.0</td>\n",
       "      <td>98.857</td>\n",
       "      <td>0.0</td>\n",
       "      <td>123823568.0</td>\n",
       "      <td>45035707.0</td>\n",
       "      <td>44552151.0</td>\n",
       "      <td>35751870.0</td>\n",
       "      <td>171751.0</td>\n",
       "      <td>0.0</td>\n",
       "    </tr>\n",
       "    <tr>\n",
       "      <th>2022-05-05</th>\n",
       "      <td>17464782</td>\n",
       "      <td>38595.143</td>\n",
       "      <td>23206.0</td>\n",
       "      <td>68.857</td>\n",
       "      <td>0.0</td>\n",
       "      <td>123827205.0</td>\n",
       "      <td>45035755.0</td>\n",
       "      <td>44552199.0</td>\n",
       "      <td>35755411.0</td>\n",
       "      <td>141965.0</td>\n",
       "      <td>0.0</td>\n",
       "    </tr>\n",
       "    <tr>\n",
       "      <th>2022-05-06</th>\n",
       "      <td>17504334</td>\n",
       "      <td>38065.143</td>\n",
       "      <td>23289.0</td>\n",
       "      <td>70.714</td>\n",
       "      <td>0.0</td>\n",
       "      <td>124081671.0</td>\n",
       "      <td>45037744.0</td>\n",
       "      <td>44554769.0</td>\n",
       "      <td>36005324.0</td>\n",
       "      <td>121894.0</td>\n",
       "      <td>0.0</td>\n",
       "    </tr>\n",
       "    <tr>\n",
       "      <th>2022-05-07</th>\n",
       "      <td>17544398</td>\n",
       "      <td>38392.714</td>\n",
       "      <td>23360.0</td>\n",
       "      <td>69.286</td>\n",
       "      <td>0.0</td>\n",
       "      <td>124131520.0</td>\n",
       "      <td>45038345.0</td>\n",
       "      <td>44555512.0</td>\n",
       "      <td>36053829.0</td>\n",
       "      <td>117082.0</td>\n",
       "      <td>0.0</td>\n",
       "    </tr>\n",
       "    <tr>\n",
       "      <th>2022-05-08</th>\n",
       "      <td>17564999</td>\n",
       "      <td>38466.571</td>\n",
       "      <td>23400.0</td>\n",
       "      <td>63.143</td>\n",
       "      <td>0.0</td>\n",
       "      <td>124132147.0</td>\n",
       "      <td>45038357.0</td>\n",
       "      <td>44555519.0</td>\n",
       "      <td>36054437.0</td>\n",
       "      <td>117003.0</td>\n",
       "      <td>0.0</td>\n",
       "    </tr>\n",
       "  </tbody>\n",
       "</table>\n",
       "<p>838 rows × 11 columns</p>\n",
       "</div>"
      ],
      "text/plain": [
       "            total_cases  new_cases_smoothed  total_deaths  \\\n",
       "date                                                        \n",
       "2020-01-22            1               0.000           0.0   \n",
       "2020-01-23            1               0.000           0.0   \n",
       "2020-01-24            2               0.000           0.0   \n",
       "2020-01-25            2               0.000           0.0   \n",
       "2020-01-26            3               0.000           0.0   \n",
       "...                 ...                 ...           ...   \n",
       "2022-05-04     17438068           50206.000       23158.0   \n",
       "2022-05-05     17464782           38595.143       23206.0   \n",
       "2022-05-06     17504334           38065.143       23289.0   \n",
       "2022-05-07     17544398           38392.714       23360.0   \n",
       "2022-05-08     17564999           38466.571       23400.0   \n",
       "\n",
       "            new_deaths_smoothed  icu_patients  total_vaccinations  \\\n",
       "date                                                                \n",
       "2020-01-22                0.000           0.0                 0.0   \n",
       "2020-01-23                0.000           0.0                 0.0   \n",
       "2020-01-24                0.000           0.0                 0.0   \n",
       "2020-01-25                0.000           0.0                 0.0   \n",
       "2020-01-26                0.000           0.0                 0.0   \n",
       "...                         ...           ...                 ...   \n",
       "2022-05-04               98.857           0.0         123823568.0   \n",
       "2022-05-05               68.857           0.0         123827205.0   \n",
       "2022-05-06               70.714           0.0         124081671.0   \n",
       "2022-05-07               69.286           0.0         124131520.0   \n",
       "2022-05-08               63.143           0.0         124132147.0   \n",
       "\n",
       "            people_vaccinated  people_fully_vaccinated  total_boosters  \\\n",
       "date                                                                     \n",
       "2020-01-22                0.0                      0.0             0.0   \n",
       "2020-01-23                0.0                      0.0             0.0   \n",
       "2020-01-24                0.0                      0.0             0.0   \n",
       "2020-01-25                0.0                      0.0             0.0   \n",
       "2020-01-26                0.0                      0.0             0.0   \n",
       "...                       ...                      ...             ...   \n",
       "2022-05-04         45035707.0               44552151.0      35751870.0   \n",
       "2022-05-05         45035755.0               44552199.0      35755411.0   \n",
       "2022-05-06         45037744.0               44554769.0      36005324.0   \n",
       "2022-05-07         45038345.0               44555512.0      36053829.0   \n",
       "2022-05-08         45038357.0               44555519.0      36054437.0   \n",
       "\n",
       "            new_vaccinations_smoothed  stringency_index  \n",
       "date                                                     \n",
       "2020-01-22                        0.0               0.0  \n",
       "2020-01-23                        0.0               0.0  \n",
       "2020-01-24                        0.0               0.0  \n",
       "2020-01-25                        0.0               0.0  \n",
       "2020-01-26                        0.0               0.0  \n",
       "...                               ...               ...  \n",
       "2022-05-04                   171751.0               0.0  \n",
       "2022-05-05                   141965.0               0.0  \n",
       "2022-05-06                   121894.0               0.0  \n",
       "2022-05-07                   117082.0               0.0  \n",
       "2022-05-08                   117003.0               0.0  \n",
       "\n",
       "[838 rows x 11 columns]"
      ]
     },
     "execution_count": 489,
     "metadata": {},
     "output_type": "execute_result"
    }
   ],
   "source": [
    "data_selected\n"
   ]
  },
  {
   "cell_type": "code",
   "execution_count": 490,
   "metadata": {},
   "outputs": [
    {
     "data": {
      "image/png": "[encoded data removed]",
      "text/plain": [
       "<Figure size 432x288 with 2 Axes>"
      ]
     },
     "metadata": {
      "needs_background": "light"
     },
     "output_type": "display_data"
    }
   ],
   "source": [
    "\n",
    "corr_mat = data_selected.corr().round(1)\n",
    "sns.heatmap(data = corr_mat, annot=True, cmap='bwr');"
   ]
  },
  {
   "cell_type": "code",
   "execution_count": 491,
   "metadata": {},
   "outputs": [],
   "source": [
    "data_selected=data_selected.iloc[:,[1,3,4,5,8,9,10]] #total_cases, total_deaths, people_vaccinated, people_fully_vaccinated"
   ]
  },
  {
   "cell_type": "code",
   "execution_count": 492,
   "metadata": {},
   "outputs": [
    {
     "data": {
      "text/plain": [
       "Index(['new_cases_smoothed', 'new_deaths_smoothed', 'icu_patients',\n",
       "       'total_vaccinations', 'total_boosters', 'new_vaccinations_smoothed',\n",
       "       'stringency_index'],\n",
       "      dtype='object')"
      ]
     },
     "execution_count": 492,
     "metadata": {},
     "output_type": "execute_result"
    }
   ],
   "source": [
    "data_selected.columns"
   ]
  },
  {
   "cell_type": "markdown",
   "metadata": {},
   "source": [
    "---"
   ]
  },
  {
   "cell_type": "markdown",
   "metadata": {},
   "source": [
    "## 1. StandardScaler, PCA, LinearRegression"
   ]
  },
  {
   "cell_type": "code",
   "execution_count": 493,
   "metadata": {},
   "outputs": [],
   "source": [
    "from sklearn.model_selection import train_test_split\n",
    "from sklearn.pipeline import Pipeline\n",
    "from sklearn.linear_model import LinearRegression\n",
    "from sklearn.preprocessing import StandardScaler\n",
    "from sklearn.decomposition import PCA\n",
    "\n",
    "X = data_selected.drop('new_deaths_smoothed', axis=1)\n",
    "y = data_selected['new_deaths_smoothed']\n",
    "\n"
   ]
  },
  {
   "cell_type": "code",
   "execution_count": 494,
   "metadata": {},
   "outputs": [],
   "source": [
    "SS = StandardScaler()\n",
    "SS.fit(X)\n",
    "\n",
    "X_ss =  SS.transform(X)\n",
    "X_ss_pd = pd.DataFrame(X_ss, columns=X.columns)"
   ]
  },
  {
   "cell_type": "code",
   "execution_count": 501,
   "metadata": {},
   "outputs": [],
   "source": [
    "X_train, X_test, y_train, y_test = train_test_split(X_ss_pd, y, test_size=0.2, random_state=13)\n",
    "\n",
    "\n"
   ]
  },
  {
   "cell_type": "code",
   "execution_count": null,
   "metadata": {},
   "outputs": [],
   "source": []
  },
  {
   "cell_type": "code",
   "execution_count": 502,
   "metadata": {},
   "outputs": [],
   "source": [
    "def get_pca_data(ss_data, n_components=2):\n",
    "    pca =PCA(n_components=n_components)\n",
    "    pca.fit(ss_data)\n",
    "\n",
    "    return pca.transform(ss_data), pca"
   ]
  },
  {
   "cell_type": "code",
   "execution_count": 503,
   "metadata": {},
   "outputs": [
    {
     "data": {
      "text/plain": [
       "(670, 2)"
      ]
     },
     "execution_count": 503,
     "metadata": {},
     "output_type": "execute_result"
    }
   ],
   "source": [
    "CORONA_pca, pca = get_pca_data(X_train, n_components=2)\n",
    "CORONA_pca.shape"
   ]
  },
  {
   "cell_type": "code",
   "execution_count": 504,
   "metadata": {},
   "outputs": [],
   "source": [
    "train_score = pca.transform(X_train)\n",
    "test_score = pca.transform(X_test)\n"
   ]
  },
  {
   "cell_type": "code",
   "execution_count": 505,
   "metadata": {},
   "outputs": [
    {
     "data": {
      "text/plain": [
       "array([0.58084691, 0.19437041])"
      ]
     },
     "execution_count": 505,
     "metadata": {},
     "output_type": "execute_result"
    }
   ],
   "source": [
    "pca.explained_variance_ratio_ #eigen vector"
   ]
  },
  {
   "cell_type": "code",
   "execution_count": 506,
   "metadata": {},
   "outputs": [],
   "source": [
    "def get_pd_from_pca(pca_data, col_num):\n",
    "    cols = ['pca_'+str(n) for n in range(pca.components_.shape[0])]\n",
    "    return pd.DataFrame(pca_data, columns=cols)"
   ]
  },
  {
   "cell_type": "code",
   "execution_count": 507,
   "metadata": {},
   "outputs": [],
   "source": [
    "lr = LinearRegression()"
   ]
  },
  {
   "cell_type": "code",
   "execution_count": 508,
   "metadata": {},
   "outputs": [],
   "source": [
    "lr.fit(train_score, y_train)\n",
    "pred_tr = lr.predict(train_score)\n",
    "pred_test = lr.predict(test_score)\n",
    "\n"
   ]
  },
  {
   "cell_type": "code",
   "execution_count": 509,
   "metadata": {},
   "outputs": [
    {
     "data": {
      "text/plain": [
       "array([ 29.90524115, -24.12555731])"
      ]
     },
     "execution_count": 509,
     "metadata": {},
     "output_type": "execute_result"
    }
   ],
   "source": [
    "lr.coef_"
   ]
  },
  {
   "cell_type": "code",
   "execution_count": 510,
   "metadata": {},
   "outputs": [
    {
     "name": "stdout",
     "output_type": "stream",
     "text": [
      "RMSE train :  25.214557753661076\n",
      "RMSE test :  24.932210385643444\n"
     ]
    }
   ],
   "source": [
    "from sklearn.metrics import mean_squared_error\n",
    "import numpy as np\n",
    "\n",
    "\n",
    "\n",
    "rmse_tr = np.sqrt(mean_squared_error(y_train, pred_tr))\n",
    "rmse_test = np.sqrt(mean_squared_error(y_test, pred_test))\n",
    "\n",
    "print('RMSE train : ', rmse_tr)\n",
    "print('RMSE test : ', rmse_test)"
   ]
  },
  {
   "cell_type": "code",
   "execution_count": 511,
   "metadata": {},
   "outputs": [
    {
     "data": {
      "text/plain": [
       "0.8287244807749834"
      ]
     },
     "execution_count": 511,
     "metadata": {},
     "output_type": "execute_result"
    }
   ],
   "source": [
    "# r- squred\n",
    "from sklearn.metrics import r2_score\n",
    "\n",
    "r2_score(y_test, pred_test)\n",
    "# https://runebook.dev/ko/docs/scikit_learn/modules/generated/sklearn.metrics.r2_score"
   ]
  },
  {
   "cell_type": "code",
   "execution_count": 529,
   "metadata": {},
   "outputs": [
    {
     "data": {
      "text/plain": [
       "0.859926005429372"
      ]
     },
     "execution_count": 529,
     "metadata": {},
     "output_type": "execute_result"
    }
   ],
   "source": [
    "\n",
    "r2_score(y_train, pred_tr)"
   ]
  },
  {
   "cell_type": "markdown",
   "metadata": {},
   "source": [
    "---"
   ]
  },
  {
   "cell_type": "code",
   "execution_count": 512,
   "metadata": {},
   "outputs": [],
   "source": [
    "# estimators= [\n",
    "#     ('scaler',StandardScaler()), \n",
    "#     ('pca',PCA(n_components=2)), \n",
    "#     ('linreg',LinearRegression())\n",
    "# ]\n",
    "\n",
    "# pipe= Pipeline(estimators)\n"
   ]
  },
  {
   "cell_type": "code",
   "execution_count": 513,
   "metadata": {},
   "outputs": [],
   "source": [
    "# pipe.fit(X_train, y_train)"
   ]
  },
  {
   "cell_type": "code",
   "execution_count": 514,
   "metadata": {},
   "outputs": [],
   "source": [
    "# from sklearn.metrics import mean_squared_error\n",
    "# import numpy as np\n",
    "\n",
    "# pred_tr = pipe.predict(X_train)\n",
    "# pred_test = pipe.predict(X_test)\n",
    "\n",
    "# rmse_tr = np.sqrt(mean_squared_error(y_train, pred_tr))\n",
    "# rmse_test = np.sqrt(mean_squared_error(y_test, pred_test))\n",
    "\n",
    "# print('RMSE train : ', rmse_tr)\n",
    "# print('RMSE test : ', rmse_test)"
   ]
  },
  {
   "cell_type": "code",
   "execution_count": 543,
   "metadata": {},
   "outputs": [
    {
     "data": {
      "text/html": [
       "<div>\n",
       "<style scoped>\n",
       "    .dataframe tbody tr th:only-of-type {\n",
       "        vertical-align: middle;\n",
       "    }\n",
       "\n",
       "    .dataframe tbody tr th {\n",
       "        vertical-align: top;\n",
       "    }\n",
       "\n",
       "    .dataframe thead th {\n",
       "        text-align: right;\n",
       "    }\n",
       "</style>\n",
       "<table border=\"1\" class=\"dataframe\">\n",
       "  <thead>\n",
       "    <tr style=\"text-align: right;\">\n",
       "      <th></th>\n",
       "      <th>0</th>\n",
       "      <th>1</th>\n",
       "    </tr>\n",
       "  </thead>\n",
       "  <tbody>\n",
       "    <tr>\n",
       "      <th>0</th>\n",
       "      <td>5.857</td>\n",
       "      <td>4.685029</td>\n",
       "    </tr>\n",
       "    <tr>\n",
       "      <th>1</th>\n",
       "      <td>2.857</td>\n",
       "      <td>2.323464</td>\n",
       "    </tr>\n",
       "    <tr>\n",
       "      <th>2</th>\n",
       "      <td>0.714</td>\n",
       "      <td>2.020417</td>\n",
       "    </tr>\n",
       "    <tr>\n",
       "      <th>3</th>\n",
       "      <td>0.000</td>\n",
       "      <td>10.537453</td>\n",
       "    </tr>\n",
       "    <tr>\n",
       "      <th>4</th>\n",
       "      <td>10.143</td>\n",
       "      <td>5.471153</td>\n",
       "    </tr>\n",
       "    <tr>\n",
       "      <th>...</th>\n",
       "      <td>...</td>\n",
       "      <td>...</td>\n",
       "    </tr>\n",
       "    <tr>\n",
       "      <th>163</th>\n",
       "      <td>1.571</td>\n",
       "      <td>5.212587</td>\n",
       "    </tr>\n",
       "    <tr>\n",
       "      <th>164</th>\n",
       "      <td>7.429</td>\n",
       "      <td>2.416494</td>\n",
       "    </tr>\n",
       "    <tr>\n",
       "      <th>165</th>\n",
       "      <td>2.429</td>\n",
       "      <td>3.741510</td>\n",
       "    </tr>\n",
       "    <tr>\n",
       "      <th>166</th>\n",
       "      <td>1.857</td>\n",
       "      <td>3.532401</td>\n",
       "    </tr>\n",
       "    <tr>\n",
       "      <th>167</th>\n",
       "      <td>0.429</td>\n",
       "      <td>1.570942</td>\n",
       "    </tr>\n",
       "  </tbody>\n",
       "</table>\n",
       "<p>168 rows × 2 columns</p>\n",
       "</div>"
      ],
      "text/plain": [
       "          0          1\n",
       "0     5.857   4.685029\n",
       "1     2.857   2.323464\n",
       "2     0.714   2.020417\n",
       "3     0.000  10.537453\n",
       "4    10.143   5.471153\n",
       "..      ...        ...\n",
       "163   1.571   5.212587\n",
       "164   7.429   2.416494\n",
       "165   2.429   3.741510\n",
       "166   1.857   3.532401\n",
       "167   0.429   1.570942\n",
       "\n",
       "[168 rows x 2 columns]"
      ]
     },
     "execution_count": 543,
     "metadata": {},
     "output_type": "execute_result"
    }
   ],
   "source": [
    "pd.concat([pd.DataFrame(y_test).reset_index(drop=True), pd.DataFrame(pred_test).reset_index(drop=True)],  axis=1, ignore_index=True)"
   ]
  },
  {
   "cell_type": "code",
   "execution_count": 516,
   "metadata": {},
   "outputs": [
    {
     "data": {
      "image/png": "[encoded data removed]",
      "text/plain": [
       "<Figure size 432x288 with 1 Axes>"
      ]
     },
     "metadata": {
      "needs_background": "light"
     },
     "output_type": "display_data"
    }
   ],
   "source": [
    "plt.scatter(y_test, pred_test)\n",
    "plt.xlabel('Real death')\n",
    "plt.ylabel('Predicted death')\n",
    "plt.plot([0,350], [0,350], 'r')\n",
    "plt.show()"
   ]
  },
  {
   "cell_type": "code",
   "execution_count": 517,
   "metadata": {},
   "outputs": [],
   "source": [
    "# np.asarray(X_train)"
   ]
  },
  {
   "cell_type": "code",
   "execution_count": 518,
   "metadata": {},
   "outputs": [
    {
     "data": {
      "text/html": [
       "<table class=\"simpletable\">\n",
       "<caption>OLS Regression Results</caption>\n",
       "<tr>\n",
       "  <th>Dep. Variable:</th>    <td>new_deaths_smoothed</td> <th>  R-squared (uncentered):</th>      <td>   0.797</td> \n",
       "</tr>\n",
       "<tr>\n",
       "  <th>Model:</th>                    <td>OLS</td>         <th>  Adj. R-squared (uncentered):</th> <td>   0.795</td> \n",
       "</tr>\n",
       "<tr>\n",
       "  <th>Method:</th>              <td>Least Squares</td>    <th>  F-statistic:       </th>          <td>   433.5</td> \n",
       "</tr>\n",
       "<tr>\n",
       "  <th>Date:</th>              <td>Tue, 10 May 2022</td>   <th>  Prob (F-statistic):</th>          <td>8.15e-226</td>\n",
       "</tr>\n",
       "<tr>\n",
       "  <th>Time:</th>                  <td>14:38:11</td>       <th>  Log-Likelihood:    </th>          <td> -3292.7</td> \n",
       "</tr>\n",
       "<tr>\n",
       "  <th>No. Observations:</th>       <td>   670</td>        <th>  AIC:               </th>          <td>   6597.</td> \n",
       "</tr>\n",
       "<tr>\n",
       "  <th>Df Residuals:</th>           <td>   664</td>        <th>  BIC:               </th>          <td>   6624.</td> \n",
       "</tr>\n",
       "<tr>\n",
       "  <th>Df Model:</th>               <td>     6</td>        <th>                     </th>              <td> </td>    \n",
       "</tr>\n",
       "<tr>\n",
       "  <th>Covariance Type:</th>       <td>nonrobust</td>      <th>                     </th>              <td> </td>    \n",
       "</tr>\n",
       "</table>\n",
       "<table class=\"simpletable\">\n",
       "<tr>\n",
       "   <td></td>     <th>coef</th>     <th>std err</th>      <th>t</th>      <th>P>|t|</th>  <th>[0.025</th>    <th>0.975]</th>  \n",
       "</tr>\n",
       "<tr>\n",
       "  <th>x1</th> <td>   38.0464</td> <td>    2.288</td> <td>   16.629</td> <td> 0.000</td> <td>   33.554</td> <td>   42.539</td>\n",
       "</tr>\n",
       "<tr>\n",
       "  <th>x2</th> <td>   28.4002</td> <td>    2.796</td> <td>   10.157</td> <td> 0.000</td> <td>   22.910</td> <td>   33.891</td>\n",
       "</tr>\n",
       "<tr>\n",
       "  <th>x3</th> <td>  -11.5364</td> <td>    4.439</td> <td>   -2.599</td> <td> 0.010</td> <td>  -20.253</td> <td>   -2.820</td>\n",
       "</tr>\n",
       "<tr>\n",
       "  <th>x4</th> <td>   12.5886</td> <td>    3.633</td> <td>    3.465</td> <td> 0.001</td> <td>    5.455</td> <td>   19.723</td>\n",
       "</tr>\n",
       "<tr>\n",
       "  <th>x5</th> <td>   -5.3524</td> <td>    2.022</td> <td>   -2.647</td> <td> 0.008</td> <td>   -9.322</td> <td>   -1.383</td>\n",
       "</tr>\n",
       "<tr>\n",
       "  <th>x6</th> <td>   -5.1236</td> <td>    1.479</td> <td>   -3.463</td> <td> 0.001</td> <td>   -8.028</td> <td>   -2.219</td>\n",
       "</tr>\n",
       "</table>\n",
       "<table class=\"simpletable\">\n",
       "<tr>\n",
       "  <th>Omnibus:</th>       <td>124.731</td> <th>  Durbin-Watson:     </th> <td>   0.577</td>\n",
       "</tr>\n",
       "<tr>\n",
       "  <th>Prob(Omnibus):</th> <td> 0.000</td>  <th>  Jarque-Bera (JB):  </th> <td>2456.823</td>\n",
       "</tr>\n",
       "<tr>\n",
       "  <th>Skew:</th>          <td> 0.057</td>  <th>  Prob(JB):          </th> <td>    0.00</td>\n",
       "</tr>\n",
       "<tr>\n",
       "  <th>Kurtosis:</th>      <td>12.380</td>  <th>  Cond. No.          </th> <td>    8.52</td>\n",
       "</tr>\n",
       "</table><br/><br/>Notes:<br/>[1] R² is computed without centering (uncentered) since the model does not contain a constant.<br/>[2] Standard Errors assume that the covariance matrix of the errors is correctly specified."
      ],
      "text/plain": [
       "<class 'statsmodels.iolib.summary.Summary'>\n",
       "\"\"\"\n",
       "                                 OLS Regression Results                                 \n",
       "========================================================================================\n",
       "Dep. Variable:     new_deaths_smoothed   R-squared (uncentered):                   0.797\n",
       "Model:                             OLS   Adj. R-squared (uncentered):              0.795\n",
       "Method:                  Least Squares   F-statistic:                              433.5\n",
       "Date:                 Tue, 10 May 2022   Prob (F-statistic):                   8.15e-226\n",
       "Time:                         14:38:11   Log-Likelihood:                         -3292.7\n",
       "No. Observations:                  670   AIC:                                      6597.\n",
       "Df Residuals:                      664   BIC:                                      6624.\n",
       "Df Model:                            6                                                  \n",
       "Covariance Type:             nonrobust                                                  \n",
       "==============================================================================\n",
       "                 coef    std err          t      P>|t|      [0.025      0.975]\n",
       "------------------------------------------------------------------------------\n",
       "x1            38.0464      2.288     16.629      0.000      33.554      42.539\n",
       "x2            28.4002      2.796     10.157      0.000      22.910      33.891\n",
       "x3           -11.5364      4.439     -2.599      0.010     -20.253      -2.820\n",
       "x4            12.5886      3.633      3.465      0.001       5.455      19.723\n",
       "x5            -5.3524      2.022     -2.647      0.008      -9.322      -1.383\n",
       "x6            -5.1236      1.479     -3.463      0.001      -8.028      -2.219\n",
       "==============================================================================\n",
       "Omnibus:                      124.731   Durbin-Watson:                   0.577\n",
       "Prob(Omnibus):                  0.000   Jarque-Bera (JB):             2456.823\n",
       "Skew:                           0.057   Prob(JB):                         0.00\n",
       "Kurtosis:                      12.380   Cond. No.                         8.52\n",
       "==============================================================================\n",
       "\n",
       "Notes:\n",
       "[1] R² is computed without centering (uncentered) since the model does not contain a constant.\n",
       "[2] Standard Errors assume that the covariance matrix of the errors is correctly specified.\n",
       "\"\"\""
      ]
     },
     "execution_count": 518,
     "metadata": {},
     "output_type": "execute_result"
    }
   ],
   "source": [
    "import statsmodels.api as sm\n",
    "\n",
    "lm = sm.OLS(y_train, np.asarray(X_train)).fit() #Adj. R-squared (uncentered):\t0.795\n",
    "lm.summary() #'new_cases_smoothed', 'icu_patients','total_vaccinations', 'total_boosters', 'new_vaccinations_smoothed','stringency_index'"
   ]
  },
  {
   "cell_type": "code",
   "execution_count": 519,
   "metadata": {},
   "outputs": [
    {
     "data": {
      "text/plain": [
       "[<matplotlib.lines.Line2D at 0x7f92795b9df0>]"
      ]
     },
     "execution_count": 519,
     "metadata": {},
     "output_type": "execute_result"
    },
    {
     "data": {
      "image/png": "[encoded data removed]",
      "text/plain": [
       "<Figure size 432x288 with 1 Axes>"
      ]
     },
     "metadata": {
      "needs_background": "light"
     },
     "output_type": "display_data"
    }
   ],
   "source": [
    "pred = lm.predict(np.asarray(X_test)) #test data로 성능 확인\n",
    "\n",
    "sns.scatterplot(x=y_test, y = pred)\n",
    "plt.plot([min(y_test), max(y_test)], [min(y_test), max(y_test)], 'r')"
   ]
  },
  {
   "cell_type": "markdown",
   "metadata": {},
   "source": [
    "## model2 변수선택법(stepwise)"
   ]
  },
  {
   "cell_type": "markdown",
   "metadata": {},
   "source": [
    "\n"
   ]
  },
  {
   "cell_type": "code",
   "execution_count": null,
   "metadata": {},
   "outputs": [],
   "source": []
  },
  {
   "cell_type": "code",
   "execution_count": null,
   "metadata": {},
   "outputs": [],
   "source": []
  },
  {
   "cell_type": "code",
   "execution_count": null,
   "metadata": {},
   "outputs": [],
   "source": []
  },
  {
   "cell_type": "code",
   "execution_count": null,
   "metadata": {},
   "outputs": [],
   "source": []
  },
  {
   "cell_type": "code",
   "execution_count": null,
   "metadata": {},
   "outputs": [],
   "source": []
  },
  {
   "cell_type": "code",
   "execution_count": null,
   "metadata": {},
   "outputs": [],
   "source": []
  },
  {
   "cell_type": "code",
   "execution_count": null,
   "metadata": {},
   "outputs": [],
   "source": []
  },
  {
   "cell_type": "markdown",
   "metadata": {},
   "source": [
    "---"
   ]
  }
 ],
 "metadata": {
  "kernelspec": {
   "display_name": "Python 3.8.12 ('ds_study')",
   "language": "python",
   "name": "python3"
  },
  "language_info": {
   "codemirror_mode": {
    "name": "ipython",
    "version": 3
   },
   "file_extension": ".py",
   "mimetype": "text/x-python",
   "name": "python",
   "nbconvert_exporter": "python",
   "pygments_lexer": "ipython3",
   "version": "3.8.12"
  },
  "orig_nbformat": 4,
  "vscode": {
   "interpreter": {
    "hash": "ee17d55dc0ca9bce57a88b37df1d91484e5972bfb6f99f6b64b7675185bf3789"
   }
  }
 },
 "nbformat": 4,
 "nbformat_minor": 2
}
